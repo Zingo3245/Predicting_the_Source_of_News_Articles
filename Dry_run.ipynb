{
 "cells": [
  {
   "cell_type": "code",
   "execution_count": 83,
   "metadata": {},
   "outputs": [],
   "source": [
    "import pickle\n",
    "import pandas as pd\n",
    "import numpy as np\n",
    "import re\n",
    "import nltk\n",
    "from nltk.tokenize import word_tokenize\n",
    "from nltk.tag import pos_tag\n",
    "from nltk.corpus import stopwords\n",
    "from nltk.stem import porter\n",
    "from sklearn.feature_extraction.text import CountVectorizer\n",
    "from sklearn.decomposition import LatentDirichletAllocation\n",
    "from sklearn.metrics import silhouette_score\n",
    "from sklearn.cluster import KMeans\n",
    "from sklearn.decomposition import TruncatedSVD\n",
    "import os\n",
    "import matplotlib.pyplot as plt\n",
    "%matplotlib inline\n",
    "plt.style.use('seaborn')\n",
    "from sklearn.feature_extraction.text import CountVectorizer\n",
    "from sklearn.feature_extraction.text import TfidfVectorizer\n",
    "from sklearn.decomposition import LatentDirichletAllocation\n",
    "from sklearn.cross_validation import train_test_split\n",
    "from sklearn.linear_model import LogisticRegression\n",
    "from sklearn.ensemble import RandomForestClassifier, BaggingClassifier\n",
    "from sklearn.tree import DecisionTreeClassifier\n",
    "from sklearn.metrics import silhouette_score\n",
    "from sklearn.cluster import KMeans\n",
    "from sklearn.decomposition import TruncatedSVD\n",
    "from sklearn.preprocessing import Normalizer\n",
    "import os\n",
    "import matplotlib.pyplot as plt\n",
    "import seaborn as sns\n",
    "from sklearn.pipeline import Pipeline\n",
    "%matplotlib inline\n",
    "plt.style.use('seaborn')"
   ]
  },
  {
   "cell_type": "code",
   "execution_count": 84,
   "metadata": {},
   "outputs": [],
   "source": [
    "true_df = pickle.load(open(\"pickle_files/true_df.pkl\", \"rb\" ))\n"
   ]
  },
  {
   "cell_type": "code",
   "execution_count": 85,
   "metadata": {},
   "outputs": [
    {
     "data": {
      "text/html": [
       "<div>\n",
       "<style scoped>\n",
       "    .dataframe tbody tr th:only-of-type {\n",
       "        vertical-align: middle;\n",
       "    }\n",
       "\n",
       "    .dataframe tbody tr th {\n",
       "        vertical-align: top;\n",
       "    }\n",
       "\n",
       "    .dataframe thead th {\n",
       "        text-align: right;\n",
       "    }\n",
       "</style>\n",
       "<table border=\"1\" class=\"dataframe\">\n",
       "  <thead>\n",
       "    <tr style=\"text-align: right;\">\n",
       "      <th></th>\n",
       "      <th>body</th>\n",
       "      <th>num_source</th>\n",
       "      <th>source</th>\n",
       "      <th>title</th>\n",
       "    </tr>\n",
       "  </thead>\n",
       "  <tbody>\n",
       "    <tr>\n",
       "      <th>0</th>\n",
       "      <td>The following statements were posted to the ve...</td>\n",
       "      <td>2.0</td>\n",
       "      <td>Reuters</td>\n",
       "      <td>Trump on Twitter (June 6): Mitch McConnell, Jo...</td>\n",
       "    </tr>\n",
       "    <tr>\n",
       "      <th>1</th>\n",
       "      <td>TEL AVIV (Reuters) - Donald Trump’s attorney, ...</td>\n",
       "      <td>2.0</td>\n",
       "      <td>Reuters</td>\n",
       "      <td>Giuliani says Mueller's investigators trying t...</td>\n",
       "    </tr>\n",
       "    <tr>\n",
       "      <th>2</th>\n",
       "      <td>WASHINGTON (Reuters) - U.S. House of Represent...</td>\n",
       "      <td>2.0</td>\n",
       "      <td>Reuters</td>\n",
       "      <td>House Speaker doubtful of NAFTA passage in cur...</td>\n",
       "    </tr>\n",
       "    <tr>\n",
       "      <th>3</th>\n",
       "      <td>BRUSSELS (Reuters) - U.S. Defense Secretary Ji...</td>\n",
       "      <td>2.0</td>\n",
       "      <td>Reuters</td>\n",
       "      <td>In Europe, Mattis is in familiar spot: calming...</td>\n",
       "    </tr>\n",
       "    <tr>\n",
       "      <th>4</th>\n",
       "      <td>WASHINGTON/MORRISTOWN, N.J. (Reuters) - A lawy...</td>\n",
       "      <td>2.0</td>\n",
       "      <td>Reuters</td>\n",
       "      <td>Lawyer to ex-Trump campaign aide Manafort taps...</td>\n",
       "    </tr>\n",
       "  </tbody>\n",
       "</table>\n",
       "</div>"
      ],
      "text/plain": [
       "                                                body  num_source   source  \\\n",
       "0  The following statements were posted to the ve...         2.0  Reuters   \n",
       "1  TEL AVIV (Reuters) - Donald Trump’s attorney, ...         2.0  Reuters   \n",
       "2  WASHINGTON (Reuters) - U.S. House of Represent...         2.0  Reuters   \n",
       "3  BRUSSELS (Reuters) - U.S. Defense Secretary Ji...         2.0  Reuters   \n",
       "4  WASHINGTON/MORRISTOWN, N.J. (Reuters) - A lawy...         2.0  Reuters   \n",
       "\n",
       "                                               title  \n",
       "0  Trump on Twitter (June 6): Mitch McConnell, Jo...  \n",
       "1  Giuliani says Mueller's investigators trying t...  \n",
       "2  House Speaker doubtful of NAFTA passage in cur...  \n",
       "3  In Europe, Mattis is in familiar spot: calming...  \n",
       "4  Lawyer to ex-Trump campaign aide Manafort taps...  "
      ]
     },
     "execution_count": 85,
     "metadata": {},
     "output_type": "execute_result"
    }
   ],
   "source": [
    "true_df.head()"
   ]
  },
  {
   "cell_type": "code",
   "execution_count": null,
   "metadata": {},
   "outputs": [],
   "source": []
  },
  {
   "cell_type": "code",
   "execution_count": 86,
   "metadata": {},
   "outputs": [],
   "source": [
    "book = [{'body': \"\"\"Erik Prince, the founder of private security company Blackwater, has found himself embroiled in special counsel Robert Mueller’s investigation of potential coordination between the Trump campaign and the Kremlin.\n",
    "\n",
    "During the campaign, Prince reportedly met at Trump Tower with Donald Trump Jr., operative George Nader, and social media specialist Joel Zamel to discuss a potential pro-Trump social media influence operation. He also met with Russian sovereign wealth fund manager Kirill Dmitriev during the transition period—a meeting reportedly planned to set up a backchannel between the Trump administration and Russia. Those revelations raise questions about his relationship to the Trump administration—questions Mueller is reportedly investigating.\n",
    "\n",
    "ADVERTISEMENT\n",
    "\n",
    "\n",
    "Prince, a billionaire and the brother of Education Secretary Betsy DeVos, has also lobbied for a massive overhaul of the way the Afghanistan War is being prosecuted, pushing for increased reliance on private contractors to train Afghan troops to fight the Taliban. Prince was also recently the subject of an in-depth Washington Post report about the work his security company Frontier Services Group is doing in China. The report quoted critics saying Prince’s work runs counter to American interests in Asia.\n",
    "\n",
    "This is Prince’s first on-the-record interview in months. It has been lightly edited for clarity.\n",
    "\n",
    "There’s been a lot of reporting that Mueller’s interested in some of the meetings you had in the lead-up to the campaign and after the election and I was just wondering if you could tell me if you’ve heard from anyone on Mueller’s team?\n",
    "\n",
    "I certainly understand the intense interest in the investigation and certainly some of the wild-eyed reporting in the media. I have spoken voluntarily to Congress and I also cooperated with the special counsel. I have plenty of opinions about the various investigations but there’s no question some people are taking it seriously and I think it’s best to keep my opinion on that to myself for now. All I will add is that much of the reporting about me in the media is inaccurate, and I am confident that when the investigators have finished their work, we will be able to put these distractions to the side.\n",
    "\n",
    "\n",
    "You told the House intelligence committee that the Seychelles meeting [with Dmitriev] was unplanned, but ABC reported that George Nader briefed you on it beforehand. What do you make of that ABC reporting?\n",
    "\n",
    "RELATED IN POLITICS\n",
    "\n",
    "Boehner: ‘There Is No GOP. There’s a Trump Party.’\n",
    "\n",
    "The GOP Loves Diplomacy—When It’s Not a Democrat Doing It\n",
    "\n",
    "GOP Senators Shred Rudy: ‘I Would Hire a New Lawyer’\n",
    "All I can say is, there’s been a lot of media reporting about me over the years and most of it is wrong. They get it wrong way more than they ever get it right.\n",
    "\n",
    "ADVERTISING\n",
    "\n",
    "\n",
    "“I have spoken voluntarily to Congress and I also cooperated with the special counsel.”\n",
    "— Erik Prince\n",
    "What do you think the United States’ posture toward Russia should be? Do you support the president’s rhetoric about trying to thaw that relationship?\n",
    "\n",
    "Absolutely. As I’ve said before, if Franklin Roosevelt can work with Joseph Stalin to defeat German fascism, Nazi fascism, national socialist fascism, then certainly Donald Trump can work with Putin to defeat Islamic fascism. And I think good statesmanship could even start to drive a wedge between Russian policy and Iran policy because we can disagree vehemently on their policy in Ukraine but we don’t have to be, certainly, their enemy in the Middle East. And even from a NATO perspective, I mean look, remember, 400,000 Americans died in World War II. Twenty-two million Russians died breaking the Nazi army. And from a Russian perspective, there are more unfriendly nations aligned on their borders now than at any time since May of 1940. So I don’t think we have to be provocative with NATO and I think it’s a good idea for the president to reach out diplomatically. I mean for heaven’s sakes, he’s sitting down and talking to Kim of North Korea. Putin is a much more rational actor and I think it’s totally appropriate for the president to sit down and try to thaw the situation.\n",
    "\n",
    "Could you tell me some about what your relationship with this administration is like and particularly if you’ve had any conversations with new national security adviser John Bolton about your Afghanistan proposal?\n",
    "\n",
    "No, not yet. I’ll tell you, I have just made an op-ed and it’s being submitted to various publications because I’m getting ready to make a big push on that again because the president gave the Pentagon what they wanted, more money, more troops, and what we’ve got is more death and more carnage and clearly we’re not winning. And since the last op-ed [in The New York Times, arguing for a new war strategy focused on using contractors], I’ve certainly done homework and research to the point where the White House was asking last summer for a very detailed concept of operations and budget, how to do this differently and far more cheaply. And so having let that bake for a year, we have a very different plan that would save the taxpayers well north of $40 billion and it would tie off the conventional involvement of the Pentagon from Afghanistan.\n",
    "\n",
    "GET THE BEAST IN YOUR INBOX!\n",
    "\n",
    "Enter your email address\n",
    "\n",
    "\n",
    "By clicking “Subscribe,” you agree to have read the Terms of Use and Privacy Policy\n",
    "SUBSCRIBE\n",
    "What do you make of how Defense Secretary Jim Mattis is handling the Afghanistan war?\n",
    "\n",
    "Well here’s the thing, what worked after 9/11 were a few CIA case officers and special forces guys backed by air power working with the locals. When we went to a conventional Pentagon battle plan, we’ve gone backwards ever since. The Pentagon has largely mirrored the approach of the Soviet army in Afghanistan, with the same results. Secretary Mattis inherits the momentum of a big machine going in one direction, and that machine will continue, like Newton’s first law, an object tends to remain in motion until it’s acted upon by a greater force. Hopefully Donald Trump is that force to change course, to put us on a winning strategy. Look this year the United States will spend $62 billion in Afghanistan, the OCO [overseas contingency operations—the Pentagon’s war funds] and all the money they have for all the overseas basic support for that theater. More than a million dollars a week while we are $21 trillion in debt. And now there are American kids dying there who were toddlers when the Twin Towers came down. We don’t need a multigenerational war in America.\n",
    "\n",
    "Do you worry that Mattis is a countervailing force against the president’s arguably better instincts on Afghanistan? Do you worry that he is a voice for the status quo?\n",
    "\n",
    "All I will say on that is that the president asked for options last year and the only options he was given by his then very conventional national security adviser, a three star honor officer and the Pentagon was more money and more troops or pull out. And there wasn’t a whole lot of innovation presented to the president. I’m going to make a hard push again because I think the president was close to listening to an unconventional approach but given it was right around the time of those terrible race riots in Charlottesville and I think the president took a pounding for that and I don’t think he was ready to do something unconventional in Afghanistan. But with the makings of a successful summit in Singapore, perhaps the president’s ready to try a different approach.\n",
    "\n",
    "“I think the president was close to listening to an unconventional approach but given it was right around the time of those terrible race riots in Charlottesville... I don’t think he was ready to do something unconventional in Afghanistan.”\n",
    "— Erik Prince\n",
    "Do you think John Bolton is going to be more open to your proposal than his predecessor H.R. McMaster was?\n",
    "\n",
    "I think so. If past performance is indicative of future performance, that’s probably the case.\n",
    "\n",
    "Have you picked up on any signs that the U.S. might be negotiating with the Taliban to wind down the war?\n",
    "\n",
    "I’m well acquainted with a number of people that are involved in the peace counsel, and to say that you’re negotiating with the Taliban, it’s a very fractured—it’s not like it was under [former Taliban chief] Mullah Omar. And some Taliban units might want to reconcile but others absolutely not. The big issue is, no one has any confidence with the government because if a Taliban unit reconciles, they’re going to immediately need protection from the other Taliban units or from the Daesh guys or even from the ISI [Pakistan’s intelligence agency]. And those guys play for keeps. They don’t wipe out an entire village, tribe or whatever. So I don’t see a lot of those units wanting to do it until the Afghanistan security forces demonstrate showing up reliably with combat power to defend their interests. So when an Afghan unit still gets surrounded and annihilated over a matter of days, that wouldn’t give anyone a lot of confidence and trust in the government’s protection.\n",
    "\n",
    "The Post had a big story about the work that Frontier Services Group is doing in China [reporting that the firm is training Chinese police and military officials]. They reported that there had been a spate of departures of American executives over the course of the last year because those executives believed that your company’s work in China could conflict with U.S. interests. Is that correct?\n",
    "\n",
    "I would say they departed for underperformance and, look, there was a huge mischaracterization by the Post. Once again, they get it wrong. FSG has not provided any training to the Chinese military or police or anything like that at all. And this idea where they try to feed this picture of a Blackwater-like facility in China, just think of how ridiculous that is. There’s no firearms ownership in China at all. So the idea of a contractor providing anything in China is not only 100 percent, it’s 10,000 percent impossible.\n",
    "\n",
    "You were saying that FSG hasn’t done any training of any Chinese police or military personnel. The Post was unequivocal that you guys had. The Post was just completely wrong about that?\n",
    "\n",
    "The company has a very minority investment in a training facility that perhaps in the past has provided that, but nothing under anyway FSG’s control, auspices whatsoever. FSG is only training its own bodyguard personnel for terrorism avoidance. No firearms, no tactics, nothing like that.\n",
    "\n",
    "The Post quoted some critics of yours suggesting that it runs counter to American values for you to do the work you’re doing with the Chinese, suggesting that it’s unpatriotic. What do you say to those criticisms?\n",
    "\n",
    "When the D.C. beltway pundits mock my patriotism, I almost take it as a badge of honor. I’m certainly not doing anything and never have done anything contrary to America’s interests. The only thing FSG does now is provide transportation by road throughout Africa. We haul groceries, we provide medevac [medical evacuation] support and in the future we provide transportation, medevac, or even security for infrastructure, mining, or energy projects invested in or financed by any number of companies, be they Hong Kong, Chinese, Japanese, Korean, or Western companies operating in Africa and Asia.\n",
    "\n",
    "One thing the Post said is that Frontier has a facility in China’s Xianjiang province. Is that correct?\n",
    "\n",
    "It’s an office and it’s a place to transfer truck trailers at most. There’s no training base or facility. I think there was a translation problem where people say, oh, you have a base there. It is not a base as any Westerner would imagine. It is basically a logistics yard.\n",
    "\n",
    "Is FSG doing work connected to the development of the One Belt One Road infrastructure project?\n",
    "\n",
    "One Belt One Road is a characterization. It’s certainly an effort by China to extend logistics lines to tie into neighbors’ markets more effectively. So if you’re hauling copper ore out of a mine in Africa, you can technically say that’s part of the One Belt One Road. But we haven’t done any new programs that have been announced so technically for now I would say FSG is not. Will they be in the future? It’s possible, it depends on what the bids are for any company, whether you’re bidding to support a Mitsubishi program out of Japan, a Chinese company, or any one of the major oil or mining companies out of the West. But FSG doesn’t exist solely to support One Belt One Road.\n",
    "\n",
    "Do you worry that One Belt One Road is an effort to undermine U.S. influence?\n",
    "\n",
    "No, I think that people that trade well together tend to cooperate economically and politically much better than the people that don’t trade. And when I look at the transformative effect that, for example, a railroad when it finally connected in the 1870s America, it took what was a 180-day voyage by foot and horse down to six days. And so for China to put down money to build a highway or a railway across parts of Africa or Asia, it’s a hugely positive transformative effect on people’s lives in those neighboring countries.\n",
    "\n",
    "I think the United States should shift away from its focus solely on counterterrorism and military spending. And we can certainly spend money a lot smarter on infrastructure programs than we do now, certainly than we’ve done in the last 20 or so years. I’ll throw you a simple comparison, the whole China/Pakistan economic corridor is about $40 billion over eight years. That’s the amount of finance that China’s committed to pipelines, rails, and hydropower. We’re blowing that now as a country in nine months in Afghanistan. And I would say we are wasting it. So if the United States wants to have lasting influence in these places, let’s spend money a little smarter and invest in things that last.\n",
    "\n",
    "What do you make of the emerging coalition of the Saudis, the Emiratis, Israel, and the United States working together to isolate Iran? Do you think that’s a good thing?\n",
    "\n",
    "Sure, certainly. The Iranians are really good at subversion and hybrid war, they’ve been doing it really well in Lebanon for decades, they’re doing it in Yemen now, and I think all the regions from the Gulf see Iran trying to behave like a hegemon. And a hegemon with nuclear weapons is even more dangerous. [Iran does not have any nuclear weapons and gave up much of its capacity to develop them under a deal made during the Obama administration—ed.] And I think their economy is not in great shape, their population is upset, and I think most of the population of Iran wants to live a much more free and secular life, and having the nations unite against them, their neighbors, is an overall positive thing.\n",
    "\n",
    "Going back to the Post’s story, one thing they referred to was the possibility that there’s a DOJ investigation related to aircraft being considered for sale to the Azerbaijanis. What do you make of that whole issue?\n",
    "\n",
    "I know nothing of that at all.\n",
    "\n",
    "You’ve advocated for increasing the use of contractors in Afghanistan. Are there any other crisis flashpoints where you think that type of approach would be helpful? Do you see an increased use for contractors dealing with the border crisis or dealing with the war in Yemen?\n",
    "\n",
    "Let’s leave that one for the next interview. That’s a whole nother article.\"\"\"}]"
   ]
  },
  {
   "cell_type": "code",
   "execution_count": 87,
   "metadata": {},
   "outputs": [],
   "source": [
    "book_df = pd.DataFrame.from_dict(book)"
   ]
  },
  {
   "cell_type": "code",
   "execution_count": 88,
   "metadata": {},
   "outputs": [],
   "source": [
    "stemmer = porter.PorterStemmer()\n",
    "stopwords = stopwords.words()"
   ]
  },
  {
   "cell_type": "code",
   "execution_count": 89,
   "metadata": {},
   "outputs": [],
   "source": [
    "def clean_text(text):\n",
    "    '''Removes stop words and changes word to stem words'''\n",
    "    cleaned_text = []\n",
    "    for post in text:\n",
    "        cleaned_words = []\n",
    "        for word in post.split():\n",
    "            low_word = stemmer.stem(word.lower())\n",
    "            if low_word not in stopwords:\n",
    "                cleaned_words.append(low_word)\n",
    "        cleaned_text.append(' '.join(cleaned_words))\n",
    "    return cleaned_text"
   ]
  },
  {
   "cell_type": "code",
   "execution_count": 90,
   "metadata": {},
   "outputs": [],
   "source": [
    "def drop_nouns(text_list):\n",
    "    no_nouns = []\n",
    "    cleaned_text = []\n",
    "    phrases = []\n",
    "    for x in text_list:\n",
    "        words = pos_tag(word_tokenize(x))\n",
    "        #werdz2 = (['CC','CD','DT','EX','FW','IN','LS','MD','PDT','POS','PRP','PRP$',\n",
    "                   #'RP','TO','UH','WDT','WP','WP$','WRB', 'NNP', 'NNPS', 'NN', 'NNS', ',', '.', ':', '(', ')'])\n",
    "        werdz3 = ['NNP', 'NN', 'NNP', 'NNPs', 'NNS', ',', '.', ':', '(', ')', '#', '``']\n",
    "        werdz = [s for s in words if s[-1] not in werdz3]\n",
    "        #print(werdz)\n",
    "        say_no = ['@','[', ']', 'amp', 'window', 'open','click', 'googletag', 'gpt', 'linkitem', 'googletag', 'getelementbyid',\n",
    "        'config', 'ldadinit', 'advertis', 'typeof', 'adsdiv', 'fjs', 'js', 'http', 'com', 'awr', 'new', 'function', 'div',\n",
    "        'ad', 'script', 'typeof', 'nr_is_logged_in', 'undefined', 'adsdiv', 'sharebox_260x60', 'ifr', 'jwplayer', 'jwp',\n",
    "        'pubdate', 'adunit', 'adwidth', 'www', 'bit.ly/2jpexyr', 'googletag.cmd.push', 'googletag.display', '\\'div-gpt-ad-1415299254516-0 \\'',\n",
    "        'open', 'opening', 'opens', 'opened', 'alabama', 'loading', 'email', 'advertise', 'apps', 'closed', 'help', 'publish',\n",
    "        'rendered', 'undefined', 'adsdiv', 'reloadcount', 'adsdiv.reloadcount', 'window.orignetid', '\\'undefined', 'window.origadsplid', 'needsrecovery',\n",
    "        'io_c3sd.ads', 'elem', 'box', 'box.offsetheight', 'box.style.marginright', 'marginright', 'ad_sharebox_260x60', 'trump',\n",
    "        'russia', 'fox', 'alerts', 'facebook', 'reuters', 'rsize', 'i+= resize /scr+ipt', 'ipt', 'scr', 'script', 'window.adsetsynccalled',\n",
    "        'adsetsynccalled', 'recoveryid', 'enablequeue', 'slotrenderended', 'beast', 'daily beast', 'clicking', 'subscribed', 'korea', 'north korea', 'south korea',\n",
    "        'breitbart', 'epa', 'labelmapping', 'comey', 'scotus', 'republicans', 'cohen', 'iran', 'syria', 'eagles', 'april', 'colorado', 'fbi',\n",
    "        'haspel', 'wedding', 'puerto', 'rico', 'puerto rico', 'huffpost', 'donald', 'don', 'nra', 'sachs', 'kelly', 'facebook', 'mohammed',\n",
    "        'div-gpt-ad-1415299254516-0 ', '\\'div-gpt-ad-1415299254516-0 \\'', '\\'slotrenderended \\'', 'slotrenderended', \n",
    "        '\\'.single-post # div-gpt-ad-1415299254516-0 \\'', 'slotrenderended', 'ldadinit', 'roseanne', 'israel', 'gaza', \n",
    "        'china', 'beijing', 'samantha', 'bee', 'valierie', 'subscribe', 'prelimmonth', 'ivanka', 'documentcloud', 'melania', \n",
    "        '(', ')', '-', ',', '.', '!', '\"', '\\'', 'var', \"\\'div-gpt-ad-1415299254516-0\", 'div-gpt-ad-1415299254516-0', '\\'.single-post'\n",
    "        '\\'slotrenderended', 'funct', '.contents', 'googletag.pubads', \"\\'slotrenderended\", \"\\'.single-post\", \"'div-gpt-ad-1403197269028-0\"\n",
    "        , 'line-height', '>', 'adtech-adspot', '//', '/style', 'overrid', 'window.adsetplid', 'adid', '||', 'adtech_call_typ',\n",
    "        'by_request', 'adtech_call_typ', 'iframe_proxy', 'ifr.offsetwidth', \"ifr.offsetheight\", \"'jquery\", \"'readytorecover\",\n",
    "        'args', \"waitforglobal\", 'arg', \"elem.contains\", \"'reloadad\", 'els', \"'adtech\", 'refreshr', \"'none\", 'collapsed', \n",
    "        'fc', 'f', 'ajax', 'needsrecoveri', 'i+=', '&', '<', '=', 'http', 'https', \"'http\", \"'http\", \"'script\", 'twitter', \n",
    "        '/.test', \"'https\", 'newsletter-inline-widget', 'margin-bottom', '15px', 'font-weight', 'font-size', '12pt', 'div.mc-field-group',\n",
    "        'padding-bottom', 'padding-right', 'input.mc-input', '.newsletter-inline-widget', 'font-family', '.wpcf7-form-control.wpcf7-text',\n",
    "        '7e7e7e', 'arial', '.wpcf7', '.wpcf7-form-control.wpcf7-text', '.newsletter.widget__contain', '.wpcf7-form-control.wpcf7-submit',\n",
    "        'box-shadow', 'text-shadow', 'letter-spacing', '.newsletter.widget__wrap', '.newsletter.widget__head', 'text-transform', \n",
    "        'max-width', 'td.first', 'padding-left', 'border-radius', 'hr.divid', 'p.subtext','==typeof', '.gettime', 'window.outerwidth',\n",
    "        'rcel.async', '/**', 'url', \"'data-timestamp\", '+new', 'd.head', 'javascript', 'php_widget-140', 'php_widget-104', '.today-on-the-show-cont',\n",
    "        '.alignleft', 'margin-right', 'margin-top', '.alignright', \"'/wp-content/uploads/static/tots.html\", \"'.today-on-the-show-content\",\n",
    "        \"'.today-on-the-show-cont\", '.html', 'img.hero-ad-speci', 'fa', 'fa-chevron-down', 'usercollapsetext', 'newsletter-side-widget', \n",
    "        'ul.stansberry-form', 'text-align', 'margin-left:0', 'margin-bottom:5px', 'border-top', '-webkit-border-radius', '-khtml-border-radius',\n",
    "        'border-width', 'border-style', 'border-right', 'padding-left:8px', '.textsiz', 'margin-top:5px', 'ul.links_list', 'img.breaking_imag', \n",
    "        'adtech_sharebox_260x60', 'advertisement', '===', 'kraken__adblock.active', 'i=0', 'id=', 'style=', '//www.documentcloud.org/documents/4434037-hhrg-115-if00-wstate-zuckerbergm-20180411.js', \n",
    "        '//assets.documentcloud.org/documents/4434037/hhrg-115-if00-wstate-zuckerbergm-20180411.pdf', 'br', 'lt', '//assets.documentcloud.org/documents/4434037/hhrg-115-if00-wstate-zuckerbergm-20180411.txt',\n",
    "        '//www.documentcloud.org/documents/4425618-van-der-zwaan.js', '//assets.documentcloud.org/documents/4425618/van-der-zwaan.pdf', '//assets.documentcloud.org/documents/4425618/van-der-zwaan.txt',\n",
    "        'subscrib', 'window.datawrapper', '.embeddeltas', 'datawrapper-height', '=typeof', '==', 'div-gpt-ad-inline_1_mobile', '.jw-player-contain', \"'jwp\",\n",
    "        '.playlist', 'episode.title', 'ns_st_st=\\\\', 'ns_st_pu=\\\\', 'ns_st_pr=\\\\', 'ns_st_ep=\\\\', 'ns_st_ia=\\\\', 'div-gpt-ad-native_mobile', 'div-gpt-ad-inline_2_mobile',\n",
    "        'div-gpt-ad-inline_3_mobile', 'ns_st_sn=\\\\', 'ns_st_en=\\\\', 'ns_st_ge=\\\\', 'ns_st_ce=\\\\', 'ns_st_ddt=\\\\', 'ns_st_tdt=\\\\', 'div-gpt-ad-native', 'div-gpt-ad-inline_4_mobile',\n",
    "        '\\\\/\\\\/www.nationalreview.com\\\\/wp-json\\\\/wp\\\\/v2\\\\/slideshow\\\\/596990', '\\\\u0000*\\\\u0000links', '\\\\/\\\\/www.nationalreview.com\\\\/wp-json\\\\/wp\\\\/v2\\\\/media', '\\\\/\\\\/www.nationalreview.com\\\\/wp-json\\\\/wp\\\\/v2\\\\/categories',\n",
    "        '\\\\/\\\\/api.w.org\\\\/term', '\\\\/\\\\/www.nationalreview.com\\\\/wp-json\\\\/wp\\\\/v2\\\\/tags', '\\\\/\\\\/www.nationalreview.com\\\\/photos\\\\/prince-harry-meghan-markle-royal-wedding\\\\/', '2fwww.nationalreview.com', 'text=harri', '2fprince-harry-meghan-markle-royal-wedding',\n",
    "        '\\\\/\\\\/i1.wp.com\\\\/www.nationalreview.com\\\\/wp-content\\\\/uploads\\\\/2018\\\\/05\\\\/harry-meghan-royal-wedding-26.jpg', '\\\\/\\\\/i0.wp.com\\\\/www.nationalreview.com\\\\/wp-content\\\\/uploads\\\\/2018\\\\/05\\\\/harry-meghan-royal-wedding-8.jpg',\n",
    "        '\\\\/\\\\/i1.wp.com\\\\/www.nationalreview.com\\\\/wp-content\\\\/uploads\\\\/2018\\\\/05\\\\/harry-meghan-royal-wedding-37.jpg', '\\\\/\\\\/i0.wp.com\\\\/www.nationalreview.com\\\\/wp-content\\\\/uploads\\\\/2018\\\\/05\\\\/harry-meghan-royal-wedding-110.jpg',\n",
    "        '\\\\/\\\\/i2.wp.com\\\\/www.nationalreview.com\\\\/wp-content\\\\/uploads\\\\/2018\\\\/05\\\\/harry-meghan-royal-wedding-111.jpg', '\\\\/\\\\/i1.wp.com\\\\/www.nationalreview.com\\\\/wp-content\\\\/uploads\\\\/2018\\\\/05\\\\/harry-meghan-royal-wedding-45.jpg',\n",
    "        '\\\\/\\\\/i2.wp.com\\\\/www.nationalreview.com\\\\/wp-content\\\\/uploads\\\\/2018\\\\/05\\\\/harry-meghan-royal-wedding-38.jpg', '\\\\/\\\\/i2.wp.com\\\\/www.nationalreview.com\\\\/wp-content\\\\/uploads\\\\/2018\\\\/05\\\\/harry-meghan-royal-wedding-44.jpg',\n",
    "        '\\\\/\\\\/i1.wp.com\\\\/www.nationalreview.com\\\\/wp-content\\\\/uploads\\\\/2018\\\\/05\\\\/harry-meghan-royal-wedding-7.jpg', '\\\\/\\\\/i2.wp.com\\\\/www.nationalreview.com\\\\/wp-content\\\\/uploads\\\\/2018\\\\/05\\\\/harry-meghan-royal-wedding-12.jpg', \n",
    "        '\\\\/\\\\/i2.wp.com\\\\/www.nationalreview.com\\\\/wp-content\\\\/uploads\\\\/2018\\\\/05\\\\/harry-meghan-royal-wedding-11.jpg', '\\\\/\\\\/i1.wp.com\\\\/www.nationalreview.com\\\\/wp-content\\\\/uploads\\\\/2018\\\\/05\\\\/harry-meghan-royal-wedding-43.jpg', \n",
    "        '\\\\/\\\\/i0.wp.com\\\\/www.nationalreview.com\\\\/wp-content\\\\/uploads\\\\/2018\\\\/05\\\\/harry-meghan-royal-wedding-21.jpg', '\\\\/\\\\/i1.wp.com\\\\/www.nationalreview.com\\\\/wp-content\\\\/uploads\\\\/2018\\\\/05\\\\/harry-meghan-royal-wedding-18.jpg',\n",
    "        '\\\\/\\\\/i1.wp.com\\\\/www.nationalreview.com\\\\/wp-content\\\\/uploads\\\\/2018\\\\/05\\\\/harry-meghan-royal-wedding-22.jpg', '\\\\/\\\\/i0.wp.com\\\\/www.nationalreview.com\\\\/wp-content\\\\/uploads\\\\/2018\\\\/05\\\\/harry-meghan-royal-wedding-116.jpg',\n",
    "        '\\\\/\\\\/i0.wp.com\\\\/www.nationalreview.com\\\\/wp-content\\\\/uploads\\\\/2018\\\\/05\\\\/harry-meghan-royal-wedding-42.jpg', '\\\\/\\\\/i0.wp.com\\\\/www.nationalreview.com\\\\/wp-content\\\\/uploads\\\\/2018\\\\/05\\\\/harry-meghan-royal-wedding-14.jpg',\n",
    "        '\\\\/\\\\/i0.wp.com\\\\/www.nationalreview.com\\\\/wp-content\\\\/uploads\\\\/2018\\\\/05\\\\/harry-meghan-royal-wedding-39.jpg', '\\\\/\\\\/i1.wp.com\\\\/www.nationalreview.com\\\\/wp-content\\\\/uploads\\\\/2018\\\\/05\\\\/harry-meghan-royal-wedding-54.jpg',\n",
    "        '\\\\/\\\\/i1.wp.com\\\\/www.nationalreview.com\\\\/wp-content\\\\/uploads\\\\/2018\\\\/05\\\\/harry-meghan-royal-wedding-112.jpg', '\\\\/\\\\/i2.wp.com\\\\/www.nationalreview.com\\\\/wp-content\\\\/uploads\\\\/2018\\\\/05\\\\/harry-meghan-royal-wedding-106.jpg',\n",
    "        '\\\\/\\\\/i1.wp.com\\\\/www.nationalreview.com\\\\/wp-content\\\\/uploads\\\\/2018\\\\/05\\\\/harry-meghan-royal-wedding-25.jpg', '\\\\/\\\\/i2.wp.com\\\\/www.nationalreview.com\\\\/wp-content\\\\/uploads\\\\/2018\\\\/05\\\\/harry-meghan-royal-wedding-46.jpg',\n",
    "        '\\\\/\\\\/i0.wp.com\\\\/www.nationalreview.com\\\\/wp-content\\\\/uploads\\\\/2018\\\\/05\\\\/harry-meghan-royal-wedding-24.jpg', '\\\\/\\\\/i2.wp.com\\\\/www.nationalreview.com\\\\/wp-content\\\\/uploads\\\\/2018\\\\/05\\\\/harry-meghan-royal-wedding-29.jpg',\n",
    "        '\\\\/\\\\/i2.wp.com\\\\/www.nationalreview.com\\\\/wp-content\\\\/uploads\\\\/2018\\\\/05\\\\/harry-meghan-royal-wedding-48.jpg', '\\\\/\\\\/i0.wp.com\\\\/www.nationalreview.com\\\\/wp-content\\\\/uploads\\\\/2018\\\\/05\\\\/harry-meghan-royal-wedding-107.jpg',\n",
    "        '\\\\/\\\\/i0.wp.com\\\\/www.nationalreview.com\\\\/wp-content\\\\/uploads\\\\/2018\\\\/05\\\\/harry-meghan-royal-wedding-47.jpg', '\\\\/\\\\/i2.wp.com\\\\/www.nationalreview.com\\\\/wp-content\\\\/uploads\\\\/2018\\\\/05\\\\/harry-meghan-royal-wedding-33.jpg',\n",
    "        '\\\\/\\\\/i1.wp.com\\\\/www.nationalreview.com\\\\/wp-content\\\\/uploads\\\\/2018\\\\/05\\\\/harry-meghan-royal-wedding-51.jpg', 'google_ad_cli', \n",
    "        'adunit.style.display', '.length', 'google_ad_width', 'google_ad_height', 'adunit.style.margin', 'adunit.style.textalign', 'adunit.classnam',\n",
    "        '//www.activistpost.com/2018/06/israeli-selling-surveillance-systems-governments-around-world.html', \"'theactivistpost\", '.innerhtml', 'ld-ajs', 'w.ldadinit=w.ldadinit||', '//www.activistpost.com/2018/06/google-quits-drone-program-u-s-navy-wants-drone-motherships-with-help-of-a-i.html',\n",
    "        '302px', '422px', '300px', '0px', '12px', '60px', '25px', '250px', '3px', '40px', '1px', '10px','titl', '0\\\\', '//www.activistpost.com/2018/04/us-bombs-syria-to-cover-up-lack-of-evidence-on-chem-attacks-discredits-own-claims-by-doing-so.html', \n",
    "        '//www.activistpost.com/2018/05/red-nose-day-recognizes-kids-living-in-poverty-article-the-rich-get-smart-the-poor-get-technology-the-new-digital-divide-in-school-choice-highlights-part-of-the-problem.html', \n",
    "        'firstscript', 'dsqlocal', \"'trackback_url\", 'disqus_shortnam', 'fb-extra-h2', 'prelimd', 'resize', 'scr+ipt', 'paul', 'watson']\n",
    "        regex = re.compile(r\"\\S+www.nationalreview.com\\S+\")\n",
    "        linkstr = re.findall(regex, str(werdz))\n",
    "        say_no.append(linkstr)\n",
    "        #regex2 = re.compile(r\"\\\\\\S+\")\n",
    "        #linkstr2 = re.findall(regex2, str(werdz))\n",
    "        #say_no.append(linkstr2)\n",
    "\n",
    "        werdz = ([s[-2] for s in werdz if s[-2] not in say_no and 'wp.com' not in s[-2] and 'facebook.com' not in s[-2] and\n",
    "                 '1897954795849722' not in s[-2] and '999999' not in s[-2] and \"'100\" not in s[-2] and 'prelimmonth' not in s[-2]\n",
    "                 and '5g' not in s[-2] and 'scr+ipt' not in s[-2] and 'documentcloud.org' not in s[-2] and 'www.' not in s[-2]\n",
    "                 and '10 10' not in s[-2] and 'labelmap' not in s[-2] and 'finald' not in s[-2] and '23390304' not in s[-2]\n",
    "                 and 'box.' not in s[-2] and 'label.' not in s[-2] and '.style' not in s[-2] and '10 100' not in s[-2]])\n",
    "        \n",
    "        #check cleaned text line from function above\n",
    "        no_nouns.append(' '.join(werdz))\n",
    "        #no_nouns.append(werdz)\n",
    "    return no_nouns"
   ]
  },
  {
   "cell_type": "code",
   "execution_count": 91,
   "metadata": {},
   "outputs": [],
   "source": [
    "cleaned_text = clean_text(true_df.body)"
   ]
  },
  {
   "cell_type": "code",
   "execution_count": 92,
   "metadata": {},
   "outputs": [],
   "source": [
    "how_can_this_happen = drop_nouns(cleaned_text)"
   ]
  },
  {
   "cell_type": "code",
   "execution_count": null,
   "metadata": {},
   "outputs": [],
   "source": []
  },
  {
   "cell_type": "code",
   "execution_count": 52,
   "metadata": {},
   "outputs": [
    {
     "data": {
      "text/plain": [
       "'tfidf = pickle.load(open(\"pickle_files/tfidf.pkl\", \"rb\" ))'"
      ]
     },
     "execution_count": 52,
     "metadata": {},
     "output_type": "execute_result"
    }
   ],
   "source": [
    "'''tfidf = pickle.load(open(\"pickle_files/tfidf.pkl\", \"rb\" ))'''"
   ]
  },
  {
   "cell_type": "code",
   "execution_count": 53,
   "metadata": {},
   "outputs": [
    {
     "data": {
      "text/plain": [
       "'cor_tfidf = tfidf.transform(how_can_this_happen)'"
      ]
     },
     "execution_count": 53,
     "metadata": {},
     "output_type": "execute_result"
    }
   ],
   "source": [
    "'''cor_tfidf = tfidf.transform(how_can_this_happen)'''"
   ]
  },
  {
   "cell_type": "code",
   "execution_count": 54,
   "metadata": {},
   "outputs": [
    {
     "data": {
      "text/plain": [
       "'corpus_lsa = pickle.load(open(\"pickle_files/corpus_lsa.pkl\", \"rb\" ))'"
      ]
     },
     "execution_count": 54,
     "metadata": {},
     "output_type": "execute_result"
    }
   ],
   "source": [
    "'''corpus_lsa = pickle.load(open(\"pickle_files/corpus_lsa.pkl\", \"rb\" ))'''"
   ]
  },
  {
   "cell_type": "code",
   "execution_count": 55,
   "metadata": {},
   "outputs": [
    {
     "data": {
      "text/plain": [
       "'%%time\\nlsa = pickle.load(open(\"pickle_files/lsa.pkl\", \"rb\" ))'"
      ]
     },
     "execution_count": 55,
     "metadata": {},
     "output_type": "execute_result"
    }
   ],
   "source": [
    "'''%%time\n",
    "lsa = pickle.load(open(\"pickle_files/lsa.pkl\", \"rb\" ))'''"
   ]
  },
  {
   "cell_type": "code",
   "execution_count": 93,
   "metadata": {},
   "outputs": [],
   "source": [
    "tfidf = TfidfVectorizer(ngram_range=(1, 4),  \n",
    "                                   stop_words='english', \n",
    "                                   #token_pattern=\"\\\\b[a-z][a-z]+\\\\b\",\n",
    "                                   lowercase=True,\n",
    "                                   max_df = 0.6)\n",
    "cor_tfidf = tfidf.fit_transform(how_can_this_happen)"
   ]
  },
  {
   "cell_type": "code",
   "execution_count": 94,
   "metadata": {},
   "outputs": [],
   "source": [
    "lsa = TruncatedSVD(140, algorithm = 'arpack')\n",
    "corpus_lsa = lsa.fit_transform(cor_tfidf)\n",
    "corpus_lsa = Normalizer(copy=False).fit_transform(corpus_lsa)"
   ]
  },
  {
   "cell_type": "code",
   "execution_count": 95,
   "metadata": {},
   "outputs": [
    {
     "data": {
      "text/plain": [
       "0.09813519926607474"
      ]
     },
     "execution_count": 95,
     "metadata": {},
     "output_type": "execute_result"
    }
   ],
   "source": [
    "sum(lsa.explained_variance_ratio_)"
   ]
  },
  {
   "cell_type": "code",
   "execution_count": 96,
   "metadata": {},
   "outputs": [],
   "source": [
    "terms = tfidf.get_feature_names()"
   ]
  },
  {
   "cell_type": "code",
   "execution_count": 60,
   "metadata": {},
   "outputs": [
    {
     "data": {
      "text/plain": [
       "'km = pickle.load(open(\"pickle_files/km.pkl\", \"rb\" ))'"
      ]
     },
     "execution_count": 60,
     "metadata": {},
     "output_type": "execute_result"
    }
   ],
   "source": [
    "'''km = pickle.load(open(\"pickle_files/km.pkl\", \"rb\" ))'''"
   ]
  },
  {
   "cell_type": "code",
   "execution_count": 97,
   "metadata": {},
   "outputs": [],
   "source": [
    "km = KMeans(n_clusters=140)\n",
    "clusts = km.fit_predict(corpus_lsa)"
   ]
  },
  {
   "cell_type": "code",
   "execution_count": 98,
   "metadata": {},
   "outputs": [
    {
     "data": {
      "text/plain": [
       "4092"
      ]
     },
     "execution_count": 98,
     "metadata": {},
     "output_type": "execute_result"
    }
   ],
   "source": [
    "len(clusts)"
   ]
  },
  {
   "cell_type": "code",
   "execution_count": 99,
   "metadata": {},
   "outputs": [],
   "source": [
    "true_df['clusters'] = clusts"
   ]
  },
  {
   "cell_type": "code",
   "execution_count": 100,
   "metadata": {},
   "outputs": [
    {
     "data": {
      "text/html": [
       "<div>\n",
       "<style scoped>\n",
       "    .dataframe tbody tr th:only-of-type {\n",
       "        vertical-align: middle;\n",
       "    }\n",
       "\n",
       "    .dataframe tbody tr th {\n",
       "        vertical-align: top;\n",
       "    }\n",
       "\n",
       "    .dataframe thead th {\n",
       "        text-align: right;\n",
       "    }\n",
       "</style>\n",
       "<table border=\"1\" class=\"dataframe\">\n",
       "  <thead>\n",
       "    <tr style=\"text-align: right;\">\n",
       "      <th></th>\n",
       "      <th>body</th>\n",
       "      <th>num_source</th>\n",
       "      <th>source</th>\n",
       "      <th>title</th>\n",
       "      <th>clusters</th>\n",
       "    </tr>\n",
       "  </thead>\n",
       "  <tbody>\n",
       "    <tr>\n",
       "      <th>226</th>\n",
       "      <td>\\n\\n\\nFox News\\n\\n\\n\\n\\n\\n\\n\\n\\n\\n\\nU.S.\\nWorl...</td>\n",
       "      <td>7.0</td>\n",
       "      <td>Fox News</td>\n",
       "      <td>Trump blames Sessions for 'Russian Witch Hunt ...</td>\n",
       "      <td>55</td>\n",
       "    </tr>\n",
       "    <tr>\n",
       "      <th>228</th>\n",
       "      <td>\\n\\n\\nFox News\\n\\n\\n\\n\\n\\n\\n\\n\\n\\n\\nU.S.\\nWorl...</td>\n",
       "      <td>7.0</td>\n",
       "      <td>Fox News</td>\n",
       "      <td>Conservative groups, congressional Republicans...</td>\n",
       "      <td>55</td>\n",
       "    </tr>\n",
       "    <tr>\n",
       "      <th>230</th>\n",
       "      <td>\\n\\n\\nFox News\\n\\n\\n\\n\\n\\n\\n\\n\\n\\n\\nU.S.\\nWorl...</td>\n",
       "      <td>7.0</td>\n",
       "      <td>Fox News</td>\n",
       "      <td>Dems struggling to flip key California House s...</td>\n",
       "      <td>55</td>\n",
       "    </tr>\n",
       "    <tr>\n",
       "      <th>232</th>\n",
       "      <td>\\n\\n\\nFox News\\n\\n\\n\\n\\n\\n\\n\\n\\n\\n\\nU.S.\\nWorl...</td>\n",
       "      <td>7.0</td>\n",
       "      <td>Fox News</td>\n",
       "      <td>Blackburn, Bredesen lead candidates vying for ...</td>\n",
       "      <td>55</td>\n",
       "    </tr>\n",
       "    <tr>\n",
       "      <th>234</th>\n",
       "      <td>\\n\\n\\nFox News\\n\\n\\n\\n\\n\\n\\n\\n\\n\\n\\nU.S.\\nWorl...</td>\n",
       "      <td>7.0</td>\n",
       "      <td>Fox News</td>\n",
       "      <td>Former Obama official, liberal activists share...</td>\n",
       "      <td>55</td>\n",
       "    </tr>\n",
       "  </tbody>\n",
       "</table>\n",
       "</div>"
      ],
      "text/plain": [
       "                                                  body  num_source    source  \\\n",
       "226  \\n\\n\\nFox News\\n\\n\\n\\n\\n\\n\\n\\n\\n\\n\\nU.S.\\nWorl...         7.0  Fox News   \n",
       "228  \\n\\n\\nFox News\\n\\n\\n\\n\\n\\n\\n\\n\\n\\n\\nU.S.\\nWorl...         7.0  Fox News   \n",
       "230  \\n\\n\\nFox News\\n\\n\\n\\n\\n\\n\\n\\n\\n\\n\\nU.S.\\nWorl...         7.0  Fox News   \n",
       "232  \\n\\n\\nFox News\\n\\n\\n\\n\\n\\n\\n\\n\\n\\n\\nU.S.\\nWorl...         7.0  Fox News   \n",
       "234  \\n\\n\\nFox News\\n\\n\\n\\n\\n\\n\\n\\n\\n\\n\\nU.S.\\nWorl...         7.0  Fox News   \n",
       "\n",
       "                                                 title  clusters  \n",
       "226  Trump blames Sessions for 'Russian Witch Hunt ...        55  \n",
       "228  Conservative groups, congressional Republicans...        55  \n",
       "230  Dems struggling to flip key California House s...        55  \n",
       "232  Blackburn, Bredesen lead candidates vying for ...        55  \n",
       "234  Former Obama official, liberal activists share...        55  "
      ]
     },
     "execution_count": 100,
     "metadata": {},
     "output_type": "execute_result"
    }
   ],
   "source": [
    "true_df.tail()"
   ]
  },
  {
   "cell_type": "code",
   "execution_count": 101,
   "metadata": {},
   "outputs": [
    {
     "data": {
      "text/plain": [
       "2      136\n",
       "50     116\n",
       "55     113\n",
       "129    107\n",
       "29      89\n",
       "90      82\n",
       "115     78\n",
       "108     71\n",
       "37      67\n",
       "19      62\n",
       "73      62\n",
       "49      60\n",
       "42      57\n",
       "27      57\n",
       "16      56\n",
       "88      54\n",
       "78      51\n",
       "112     51\n",
       "53      50\n",
       "11      47\n",
       "133     45\n",
       "106     45\n",
       "64      44\n",
       "21      43\n",
       "137     43\n",
       "96      43\n",
       "117     43\n",
       "18      43\n",
       "26      43\n",
       "8       41\n",
       "      ... \n",
       "14      13\n",
       "125     12\n",
       "105     12\n",
       "57      12\n",
       "91      12\n",
       "87      11\n",
       "83      11\n",
       "46      11\n",
       "59      11\n",
       "45      10\n",
       "116     10\n",
       "124     10\n",
       "139      9\n",
       "82       9\n",
       "128      9\n",
       "102      9\n",
       "60       8\n",
       "84       7\n",
       "32       6\n",
       "35       6\n",
       "99       6\n",
       "121      6\n",
       "113      5\n",
       "13       5\n",
       "136      4\n",
       "12       4\n",
       "44       3\n",
       "123      3\n",
       "75       2\n",
       "107      2\n",
       "Name: clusters, Length: 140, dtype: int64"
      ]
     },
     "execution_count": 101,
     "metadata": {},
     "output_type": "execute_result"
    }
   ],
   "source": [
    "true_df.clusters.value_counts()"
   ]
  },
  {
   "cell_type": "code",
   "execution_count": 71,
   "metadata": {},
   "outputs": [],
   "source": [
    "dt = pickle.load(open(\"pickle_files/dt.pkl\", \"rb\" ))\n"
   ]
  },
  {
   "cell_type": "code",
   "execution_count": 66,
   "metadata": {},
   "outputs": [
    {
     "data": {
      "text/plain": [
       "0"
      ]
     },
     "execution_count": 66,
     "metadata": {},
     "output_type": "execute_result"
    }
   ],
   "source": [
    "os.system('say \"Your move.....Commander\"')"
   ]
  },
  {
   "cell_type": "code",
   "execution_count": 102,
   "metadata": {},
   "outputs": [
    {
     "name": "stderr",
     "output_type": "stream",
     "text": [
      "/Users/NickThomas/Desktop/anaconda/lib/python3.6/site-packages/ipykernel_launcher.py:4: FutureWarning: reshape is deprecated and will raise in a subsequent release. Please use .values.reshape(...) instead\n",
      "  after removing the cwd from sys.path.\n",
      "/Users/NickThomas/Desktop/anaconda/lib/python3.6/site-packages/ipykernel_launcher.py:5: FutureWarning: reshape is deprecated and will raise in a subsequent release. Please use .values.reshape(...) instead\n",
      "  \"\"\"\n"
     ]
    }
   ],
   "source": [
    "X = true_df.clusters\n",
    "y = true_df.source\n",
    "X_train, X_test, y_train, y_test = train_test_split(X, y, test_size=0.2, random_state=42)\n",
    "X_train = X_train.reshape(-1,1)\n",
    "X_test = X_test.reshape(-1,1)\n"
   ]
  },
  {
   "cell_type": "code",
   "execution_count": 104,
   "metadata": {},
   "outputs": [
    {
     "name": "stdout",
     "output_type": "stream",
     "text": [
      "0.5702075702075702\n",
      "0.6324472960586618\n"
     ]
    }
   ],
   "source": [
    "dt = DecisionTreeClassifier(max_depth=25)\n",
    "dt.fit(X_train, y_train)\n",
    "print(dt.score(X_test, y_test))\n",
    "print(dt.score(X_train, y_train))"
   ]
  },
  {
   "cell_type": "code",
   "execution_count": 112,
   "metadata": {},
   "outputs": [
    {
     "data": {
      "text/plain": [
       "array(['Daily Beast'], dtype=object)"
      ]
     },
     "execution_count": 112,
     "metadata": {},
     "output_type": "execute_result"
    }
   ],
   "source": [
    "dt.predict(125)"
   ]
  },
  {
   "cell_type": "code",
   "execution_count": 106,
   "metadata": {},
   "outputs": [],
   "source": [
    "pipe = Pipeline(steps=[('tfidf', tfidf), ('lsa', lsa), ('Normalizer', Normalizer), ('km', km)])\n",
    "\n"
   ]
  },
  {
   "cell_type": "code",
   "execution_count": 107,
   "metadata": {},
   "outputs": [],
   "source": [
    "cleaned_text = clean_text(book_df.body)"
   ]
  },
  {
   "cell_type": "code",
   "execution_count": 108,
   "metadata": {},
   "outputs": [],
   "source": [
    "let_do_this = drop_nouns(cleaned_text)"
   ]
  },
  {
   "cell_type": "code",
   "execution_count": 115,
   "metadata": {},
   "outputs": [
    {
     "ename": "AttributeError",
     "evalue": "'list' object has no attribute 'lower'",
     "output_type": "error",
     "traceback": [
      "\u001b[0;31m---------------------------------------------------------------------------\u001b[0m",
      "\u001b[0;31mAttributeError\u001b[0m                            Traceback (most recent call last)",
      "\u001b[0;32m<ipython-input-115-ea8214567008>\u001b[0m in \u001b[0;36m<module>\u001b[0;34m()\u001b[0m\n\u001b[1;32m      1\u001b[0m \u001b[0mle\u001b[0m \u001b[0;34m=\u001b[0m \u001b[0;34m[\u001b[0m\u001b[0mhow_can_this_happen\u001b[0m\u001b[0;34m]\u001b[0m\u001b[0;34m\u001b[0m\u001b[0m\n\u001b[0;32m----> 2\u001b[0;31m \u001b[0mnew_clust\u001b[0m \u001b[0;34m=\u001b[0m \u001b[0mpipe\u001b[0m\u001b[0;34m.\u001b[0m\u001b[0mtransform\u001b[0m\u001b[0;34m(\u001b[0m\u001b[0mle\u001b[0m\u001b[0;34m)\u001b[0m\u001b[0;34m\u001b[0m\u001b[0m\n\u001b[0m",
      "\u001b[0;32m~/Desktop/anaconda/lib/python3.6/site-packages/sklearn/pipeline.py\u001b[0m in \u001b[0;36m_transform\u001b[0;34m(self, X)\u001b[0m\n\u001b[1;32m    424\u001b[0m         \u001b[0;32mfor\u001b[0m \u001b[0mname\u001b[0m\u001b[0;34m,\u001b[0m \u001b[0mtransform\u001b[0m \u001b[0;32min\u001b[0m \u001b[0mself\u001b[0m\u001b[0;34m.\u001b[0m\u001b[0msteps\u001b[0m\u001b[0;34m:\u001b[0m\u001b[0;34m\u001b[0m\u001b[0m\n\u001b[1;32m    425\u001b[0m             \u001b[0;32mif\u001b[0m \u001b[0mtransform\u001b[0m \u001b[0;32mis\u001b[0m \u001b[0;32mnot\u001b[0m \u001b[0;32mNone\u001b[0m\u001b[0;34m:\u001b[0m\u001b[0;34m\u001b[0m\u001b[0m\n\u001b[0;32m--> 426\u001b[0;31m                 \u001b[0mXt\u001b[0m \u001b[0;34m=\u001b[0m \u001b[0mtransform\u001b[0m\u001b[0;34m.\u001b[0m\u001b[0mtransform\u001b[0m\u001b[0;34m(\u001b[0m\u001b[0mXt\u001b[0m\u001b[0;34m)\u001b[0m\u001b[0;34m\u001b[0m\u001b[0m\n\u001b[0m\u001b[1;32m    427\u001b[0m         \u001b[0;32mreturn\u001b[0m \u001b[0mXt\u001b[0m\u001b[0;34m\u001b[0m\u001b[0m\n\u001b[1;32m    428\u001b[0m \u001b[0;34m\u001b[0m\u001b[0m\n",
      "\u001b[0;32m~/Desktop/anaconda/lib/python3.6/site-packages/sklearn/feature_extraction/text.py\u001b[0m in \u001b[0;36mtransform\u001b[0;34m(self, raw_documents, copy)\u001b[0m\n\u001b[1;32m   1407\u001b[0m         \u001b[0mcheck_is_fitted\u001b[0m\u001b[0;34m(\u001b[0m\u001b[0mself\u001b[0m\u001b[0;34m,\u001b[0m \u001b[0;34m'_tfidf'\u001b[0m\u001b[0;34m,\u001b[0m \u001b[0;34m'The tfidf vector is not fitted'\u001b[0m\u001b[0;34m)\u001b[0m\u001b[0;34m\u001b[0m\u001b[0m\n\u001b[1;32m   1408\u001b[0m \u001b[0;34m\u001b[0m\u001b[0m\n\u001b[0;32m-> 1409\u001b[0;31m         \u001b[0mX\u001b[0m \u001b[0;34m=\u001b[0m \u001b[0msuper\u001b[0m\u001b[0;34m(\u001b[0m\u001b[0mTfidfVectorizer\u001b[0m\u001b[0;34m,\u001b[0m \u001b[0mself\u001b[0m\u001b[0;34m)\u001b[0m\u001b[0;34m.\u001b[0m\u001b[0mtransform\u001b[0m\u001b[0;34m(\u001b[0m\u001b[0mraw_documents\u001b[0m\u001b[0;34m)\u001b[0m\u001b[0;34m\u001b[0m\u001b[0m\n\u001b[0m\u001b[1;32m   1410\u001b[0m         \u001b[0;32mreturn\u001b[0m \u001b[0mself\u001b[0m\u001b[0;34m.\u001b[0m\u001b[0m_tfidf\u001b[0m\u001b[0;34m.\u001b[0m\u001b[0mtransform\u001b[0m\u001b[0;34m(\u001b[0m\u001b[0mX\u001b[0m\u001b[0;34m,\u001b[0m \u001b[0mcopy\u001b[0m\u001b[0;34m=\u001b[0m\u001b[0;32mFalse\u001b[0m\u001b[0;34m)\u001b[0m\u001b[0;34m\u001b[0m\u001b[0m\n",
      "\u001b[0;32m~/Desktop/anaconda/lib/python3.6/site-packages/sklearn/feature_extraction/text.py\u001b[0m in \u001b[0;36mtransform\u001b[0;34m(self, raw_documents)\u001b[0m\n\u001b[1;32m    921\u001b[0m \u001b[0;34m\u001b[0m\u001b[0m\n\u001b[1;32m    922\u001b[0m         \u001b[0;31m# use the same matrix-building strategy as fit_transform\u001b[0m\u001b[0;34m\u001b[0m\u001b[0;34m\u001b[0m\u001b[0m\n\u001b[0;32m--> 923\u001b[0;31m         \u001b[0m_\u001b[0m\u001b[0;34m,\u001b[0m \u001b[0mX\u001b[0m \u001b[0;34m=\u001b[0m \u001b[0mself\u001b[0m\u001b[0;34m.\u001b[0m\u001b[0m_count_vocab\u001b[0m\u001b[0;34m(\u001b[0m\u001b[0mraw_documents\u001b[0m\u001b[0;34m,\u001b[0m \u001b[0mfixed_vocab\u001b[0m\u001b[0;34m=\u001b[0m\u001b[0;32mTrue\u001b[0m\u001b[0;34m)\u001b[0m\u001b[0;34m\u001b[0m\u001b[0m\n\u001b[0m\u001b[1;32m    924\u001b[0m         \u001b[0;32mif\u001b[0m \u001b[0mself\u001b[0m\u001b[0;34m.\u001b[0m\u001b[0mbinary\u001b[0m\u001b[0;34m:\u001b[0m\u001b[0;34m\u001b[0m\u001b[0m\n\u001b[1;32m    925\u001b[0m             \u001b[0mX\u001b[0m\u001b[0;34m.\u001b[0m\u001b[0mdata\u001b[0m\u001b[0;34m.\u001b[0m\u001b[0mfill\u001b[0m\u001b[0;34m(\u001b[0m\u001b[0;36m1\u001b[0m\u001b[0;34m)\u001b[0m\u001b[0;34m\u001b[0m\u001b[0m\n",
      "\u001b[0;32m~/Desktop/anaconda/lib/python3.6/site-packages/sklearn/feature_extraction/text.py\u001b[0m in \u001b[0;36m_count_vocab\u001b[0;34m(self, raw_documents, fixed_vocab)\u001b[0m\n\u001b[1;32m    790\u001b[0m         \u001b[0;32mfor\u001b[0m \u001b[0mdoc\u001b[0m \u001b[0;32min\u001b[0m \u001b[0mraw_documents\u001b[0m\u001b[0;34m:\u001b[0m\u001b[0;34m\u001b[0m\u001b[0m\n\u001b[1;32m    791\u001b[0m             \u001b[0mfeature_counter\u001b[0m \u001b[0;34m=\u001b[0m \u001b[0;34m{\u001b[0m\u001b[0;34m}\u001b[0m\u001b[0;34m\u001b[0m\u001b[0m\n\u001b[0;32m--> 792\u001b[0;31m             \u001b[0;32mfor\u001b[0m \u001b[0mfeature\u001b[0m \u001b[0;32min\u001b[0m \u001b[0manalyze\u001b[0m\u001b[0;34m(\u001b[0m\u001b[0mdoc\u001b[0m\u001b[0;34m)\u001b[0m\u001b[0;34m:\u001b[0m\u001b[0;34m\u001b[0m\u001b[0m\n\u001b[0m\u001b[1;32m    793\u001b[0m                 \u001b[0;32mtry\u001b[0m\u001b[0;34m:\u001b[0m\u001b[0;34m\u001b[0m\u001b[0m\n\u001b[1;32m    794\u001b[0m                     \u001b[0mfeature_idx\u001b[0m \u001b[0;34m=\u001b[0m \u001b[0mvocabulary\u001b[0m\u001b[0;34m[\u001b[0m\u001b[0mfeature\u001b[0m\u001b[0;34m]\u001b[0m\u001b[0;34m\u001b[0m\u001b[0m\n",
      "\u001b[0;32m~/Desktop/anaconda/lib/python3.6/site-packages/sklearn/feature_extraction/text.py\u001b[0m in \u001b[0;36m<lambda>\u001b[0;34m(doc)\u001b[0m\n\u001b[1;32m    264\u001b[0m \u001b[0;34m\u001b[0m\u001b[0m\n\u001b[1;32m    265\u001b[0m             return lambda doc: self._word_ngrams(\n\u001b[0;32m--> 266\u001b[0;31m                 tokenize(preprocess(self.decode(doc))), stop_words)\n\u001b[0m\u001b[1;32m    267\u001b[0m \u001b[0;34m\u001b[0m\u001b[0m\n\u001b[1;32m    268\u001b[0m         \u001b[0;32melse\u001b[0m\u001b[0;34m:\u001b[0m\u001b[0;34m\u001b[0m\u001b[0m\n",
      "\u001b[0;32m~/Desktop/anaconda/lib/python3.6/site-packages/sklearn/feature_extraction/text.py\u001b[0m in \u001b[0;36m<lambda>\u001b[0;34m(x)\u001b[0m\n\u001b[1;32m    230\u001b[0m \u001b[0;34m\u001b[0m\u001b[0m\n\u001b[1;32m    231\u001b[0m         \u001b[0;32mif\u001b[0m \u001b[0mself\u001b[0m\u001b[0;34m.\u001b[0m\u001b[0mlowercase\u001b[0m\u001b[0;34m:\u001b[0m\u001b[0;34m\u001b[0m\u001b[0m\n\u001b[0;32m--> 232\u001b[0;31m             \u001b[0;32mreturn\u001b[0m \u001b[0;32mlambda\u001b[0m \u001b[0mx\u001b[0m\u001b[0;34m:\u001b[0m \u001b[0mstrip_accents\u001b[0m\u001b[0;34m(\u001b[0m\u001b[0mx\u001b[0m\u001b[0;34m.\u001b[0m\u001b[0mlower\u001b[0m\u001b[0;34m(\u001b[0m\u001b[0;34m)\u001b[0m\u001b[0;34m)\u001b[0m\u001b[0;34m\u001b[0m\u001b[0m\n\u001b[0m\u001b[1;32m    233\u001b[0m         \u001b[0;32melse\u001b[0m\u001b[0;34m:\u001b[0m\u001b[0;34m\u001b[0m\u001b[0m\n\u001b[1;32m    234\u001b[0m             \u001b[0;32mreturn\u001b[0m \u001b[0mstrip_accents\u001b[0m\u001b[0;34m\u001b[0m\u001b[0m\n",
      "\u001b[0;31mAttributeError\u001b[0m: 'list' object has no attribute 'lower'"
     ]
    }
   ],
   "source": [
    "le = [how_can_this_happen]\n",
    "new_clust = pipe.transform(le)"
   ]
  },
  {
   "cell_type": "code",
   "execution_count": 111,
   "metadata": {},
   "outputs": [
    {
     "data": {
      "text/plain": [
       "['erik found embroil special oper social specialist potenti pro-trump social influenc russian kiril dmitriev period—a set administr rais administration—quest investigating lobbi afghanistan prosecuted relianc privat afghan wa recent subject in-depth hi secur frontier servic quot critic say ’ run counter american ’ first on-the-record lightli there ’ ’ lead-up could tell you ’ v intens certainli wild-ey spoken voluntarili special plenti there ’ take serious think it ’ best keep now add much inaccurate confid finish abl put distract told hous seychel with dmitriev unplanned abc georg nader make abc relat there gop there ’ it ’ democrat shred would hire say is there ’ wrong get wrong ever get right spoken cooper special erik princ think ’ postur toward be absolutely i ’ said before stalin defeat german nazi socialist islam think good could even start russian ukrain be certainly enemi even nato mean remember 400,000 american twenty-two million russian nazi russian unfriendli may 1940. ’ think provoc nato think it ’ good reach diplomatically mean heaven he ’ talk north much think it ’ total appropri could tell administr like you ’ v afghanistan no yet ’ you made it ’ submit variou public ’ get make big gave wanted we ’ v got we ’ r last op- in argu i ’ v done white hous last oper differ far cheaply let bake would save well north $ 40 billion would tie get agre read make secretari handl afghanistan well here ’ 9/11 cia offic special back went convent we ’ v gone backward ever since soviet armi secretari big go one machin continue like first object tend remain it upon greater put us win look spend $ 62 billion oco conting operations—th basic million $ 21 trillion american came down ’ need multigener matti arguabl better instinct worri say last wa given veri convent three out wasn ’ t whole innov present i ’ go make hard think wa close listen unconvent given wa right around riot charlottesvil took ’ think wa someth unconvent make perhap “ i think wa close listen unconvent given wa right around ’ think wa someth unconvent erik think go was think so past indic futur that ani sign might negoti taliban wind i ’ m well acquaint involv peac say you ’ r negoti it ’ veri fractured—it like former taliban might reconcil absolut not big is one govern becaus they ’ go immedi need protect taliban daesh even keeps ’ tribe ’ see lot afghanistan reliabl still get surround annihil wouldn give trust big frontier servic train polic departur american last becaus execut could conflict u.s. would say depart and look wa huge again get wrong militari polic like all feed pictur blackwater-lik think is there ’ all provid anyth onli 100 it ’ 10,000 impossible say fsg done ani ani polic militari unequivoc had wa wrong that minor past that noth anyway fsg auspic whatsoever train noth like that quot critic counter american you ’ r chinese suggest it ’ unpatriotic say d.c. beltway almost take i ’ m never done onli throughout provid medic even secur invest ani hong chinese japanese korean western oper one said frontier facil correct it ’ offic it ’ trailer most there ’ think wa say oh there ani western would imagine basic logist fsg develop one one one one it ’ certainli extend logist ’ effectively you ’ r haul technic say that one one haven ’ done ani would say not it ’ possible depend whether you ’ r ani one major fsg exist sole one one worri one one undermin u.s. no think peopl well togeth tend cooper much better peopl look transform that final 1870 took wa 180-day voyag six put build across it ’ huge ’ live think away focu sole certainli spend smarter infrastructur now we ’ v done last 20 ’ whole corridor $ 40 billion eight that ’ we ’ r nine would say wast it last influenc let spend smarter invest last make emerg think that ’ good sure certainly iranian good hybrid they ’ v well lebanon they ’ r now think see tri behav like hegemon nuclear even dangerous ani nuclear gave much develop made think economi great think popul live much free secular them overal go back one there make whole know noth all you ’ v use ani crisi think type would helpful see increas let leav one next that ’ whole']"
      ]
     },
     "execution_count": 111,
     "metadata": {},
     "output_type": "execute_result"
    }
   ],
   "source": [
    "let_do_this"
   ]
  },
  {
   "cell_type": "code",
   "execution_count": null,
   "metadata": {},
   "outputs": [],
   "source": []
  }
 ],
 "metadata": {
  "kernelspec": {
   "display_name": "Python 3",
   "language": "python",
   "name": "python3"
  },
  "language_info": {
   "codemirror_mode": {
    "name": "ipython",
    "version": 3
   },
   "file_extension": ".py",
   "mimetype": "text/x-python",
   "name": "python",
   "nbconvert_exporter": "python",
   "pygments_lexer": "ipython3",
   "version": "3.6.5"
  }
 },
 "nbformat": 4,
 "nbformat_minor": 2
}
