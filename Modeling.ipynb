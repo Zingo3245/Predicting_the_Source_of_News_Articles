{
 "cells": [
  {
   "cell_type": "code",
   "execution_count": 104,
   "metadata": {},
   "outputs": [],
   "source": [
    "import pickle\n",
    "import pandas as pd\n",
    "import numpy as np\n",
    "import nltk\n",
    "from nltk.tokenize import word_tokenize\n",
    "from nltk.tag import pos_tag\n",
    "from nltk.corpus import stopwords\n",
    "from nltk.stem import porter\n",
    "from sklearn.feature_extraction.text import CountVectorizer\n",
    "from sklearn.decomposition import LatentDirichletAllocation\n",
    "from sklearn.metrics import silhouette_score\n",
    "from sklearn.cluster import KMeans"
   ]
  },
  {
   "cell_type": "code",
   "execution_count": 6,
   "metadata": {},
   "outputs": [],
   "source": [
    "true_df = pickle.load(open(\"pickle_files/true_df.pkl\", \"rb\" ))\n",
    "true_df_backup = pickle.load(open(\"pickle_files/true_df_backup.pkl\", \"rb\" ))"
   ]
  },
  {
   "cell_type": "code",
   "execution_count": 28,
   "metadata": {},
   "outputs": [
    {
     "name": "stdout",
     "output_type": "stream",
     "text": [
      "WP\n",
      "VBZ\n",
      "VBG\n",
      "TO\n",
      "DT\n",
      "NN\n",
      "NN\n",
      ".\n"
     ]
    }
   ],
   "source": [
    "words=pos_tag(word_tokenize(\"Who's going to that thing today?\"))\n",
    "for w in words:\n",
    "    print(w[1])"
   ]
  },
  {
   "cell_type": "code",
   "execution_count": 145,
   "metadata": {},
   "outputs": [],
   "source": [
    "stemmer = porter.PorterStemmer()\n",
    "stopwords = stopwords.words()"
   ]
  },
  {
   "cell_type": "code",
   "execution_count": 146,
   "metadata": {},
   "outputs": [],
   "source": [
    "def clean_text(text):\n",
    "    '''Removes stop words and changes word to stem words'''\n",
    "    cleaned_text = []\n",
    "    for post in text:\n",
    "        cleaned_words = []\n",
    "        for word in post.split():\n",
    "            low_word = stemmer.stem(word.lower())\n",
    "            if low_word not in stopwords:\n",
    "                cleaned_words.append(low_word)\n",
    "        cleaned_text.append(' '.join(cleaned_words))\n",
    "    return cleaned_text"
   ]
  },
  {
   "cell_type": "code",
   "execution_count": 147,
   "metadata": {},
   "outputs": [],
   "source": [
    "cleaned_text = clean_text(true_df.body)"
   ]
  },
  {
   "cell_type": "code",
   "execution_count": 55,
   "metadata": {},
   "outputs": [],
   "source": [
    "'''with open('clean_text.pkl', 'wb') as picklefile:\n",
    "        pickle.dump(clean_text, picklefile)'''"
   ]
  },
  {
   "cell_type": "code",
   "execution_count": 56,
   "metadata": {},
   "outputs": [],
   "source": [
    "'''clean_text = pickle.load(open(\"pickle_files/clean_text.pkl\", \"rb\" ))'''\n"
   ]
  },
  {
   "cell_type": "code",
   "execution_count": 164,
   "metadata": {},
   "outputs": [
    {
     "data": {
      "text/plain": [
       "['follow statement post verifi twitter account u.s. presid donald trump, @realdonaldtrump @potus. u.s. presid donald trump hold make america great ralli nashvil municip auditorium nashville, tennessee, u.s., may 29, 2018. reuters/leah millisth opinion express hi own. reuter edit statement confirm accuracy. @realdonaldtrump : - mitch mcconnel announc cancel senate’ august recess. great, mayb democrat final get someth done accept high crime high taxes. need border security! [0002 edt] - great night republicans! congratul john cox realli big number california. win. even fake news cnn said trump impact wa realli big, much bigger ever thought possible. much big blue wave, may big red wave. work hard! [0916 edt] - gold star father, ceejay metcalf, whose great michael wa honor white house, wa fantast morn @foxandfriends. special man! [0937 edt] - fake news media unfair, vicious, wife great first lady, melania. dure recoveri surgeri report everyth near death, facelift, left w.h. (and me) n.y. virginia, abuse. fake, realli well! [0948 edt] -- sourc link: (bit.ly/2jbh4lu) (bit.ly/2jpexyr) compil bengaluru bureauour standards:th thomson reuter trust principles.',\n",
       " \"tel aviv (reuters) - donald trump’ attorney, rudi giuliani, wednesday said u.s. special counsel robert mueller’ offic wa tri frame presid investig russia’ role 2016 u.s. election. presid donald trump' attorney rudi giuliani arriv hi guest jennif leblanc white hous washington, u.s., may 30, 2018. reuters/joshua roberts“they group 13 highli partisan democrat make mueller team, exclud him, (who) tri very, veri hard frame him, get trouble, hasn’t done anyth wrong,” giuliani said question-and-answ session globe capit market confer tel aviv. fact, 17 staff member mueller’ special prosecutor’ office. thirteen regist democrats; four either unaffili affili unknown, accord washington post. mueller regist republican, rod rosenstein, deputi attorney gener appoint him. mueller investig whether russia meddl 2016 elect whether trump’ campaign collud moscow. crimin charg brought trump campaign aides, includ former campaign chairman paul manafort. look whether trump tri obstruct investigation. russia trump deni collusion, presid deni obstruction. mueller’ offic polici comment work. “they can’t emot grip fact whole thing russian collus didn’t happen, (and) tri invent theori obstruct justice,” said giuliani, former new york mayor, refer mueller’ team. sunday, giuliani told u.s. televis network abc “open question” whether trump would interview mueller, president’ lawyer lean testify. report william jeffrey heller, write jeffrey heller, edit larri kingour standards:th thomson reuter trust principles.\",\n",
       " 'washington (reuters) - u.s. hous repres speaker paul ryan, ask wednesday prospect hous passag legisl enabl renegoti nafta trade deal, indic wa much time left current congress so. u.s. speaker hous paul ryan speak report enrol ceremoni sever hous bill capitol hill washington, u.s., may 24, 2018. reuters/toya sarno jordanh told report wa “pretti far deadline” congress consid new north american free trade agreement. negoti accord stall among unit states, canada mexico. report richard cowan; write eric walshour standards:th thomson reuter trust principles.',\n",
       " 'brussel (reuters) - u.s. defens secretari jim matti arriv brussel wednesday seek mollifi european allies, find familiar posit mend relationship fray presid donald trump’ policies. u.s. defens secretari jim matti testifi befor senat arm servic committe hear “defens depart budget postur review defens author request fy2019 futur year defens program” capitol hill washington, u.s., april 26, 2018. reuters/aaron p. bernstein trump infuri european union members, canada mexico impos tariff 25 percent steel 10 percent aluminum, expert say could bleed u.s. secur relationships, even among america’ closest allies. meet nato defens minist brussel routin affair, watch close european capitals. hi debut trip brussel secretari defens last year trump question need nato, matti told member must honor militari spend pledges, allianc wa “the success power militari allianc modern history.” “thi ministeri go overshadow tariff issue,” said u.s. defens official, speak condit anonymity. “matti go look reassur allies, tri strengthen relationship continu press need live 2 percent commitment,” offici added. unit state push nato countri reach target spend 2 percent econom output defens everi year 2024. speak report way brussels, matti suggest talk nato partner would tough, expect trump’ tariff decis impact defens issu now. “along path go there, certainli it’ll littl rocky, littl bumpi times, far anticip ani effect secur domain,” said. barri pavel, u.s. nation secur expert atlant council think-tank, said issu nation secur usual unaffect politics, trump’ decis wa far provoc impact. “i think wa shock reaction sever alli unpreced emot insulted, think bleed discuss sort geopolit level,” pavel said. respons trump’ decis impos tariffs, threaten tariff harley davidson motorcycl bourbon, measur aim polit base u.s. republican legislators. brussels, matti meet hi turkish counterpart washington tri balanc ankara’ concern kurdish fighter among u.s.-back sdf forc tri retak islam state’ remain territori syria. “how take turkey’ legitim secur concern enhanc security... time, sdf wa onli organ time wa abl throw track defeat field very, veri tough fight simpli cast organ aside,” matti said. turkey unit state monday endors roadmap northern syrian manbij underlin mutual commit implementation. wane influence? inform portfolio sooth tradit u.s. friend upset trump’ often sharp comment tweet foreign polici one retir marin gener becom use to. less week ago asia, matti attempt much alli japan south korea, offici concern trump may put u.s. secur interest ahead pursu peac deal north korea. recent months, however, grow question whether mattis’ voic intern administr debat could increasingli drown advis presid himself, increasingli trust hi instincts. one notabl instance, matti publicli suggest stick iran nuclear deal. dismay european alli sought salvag iran nuclear deal preserv iranian trade trump withdrew unit state landmark accord order sanction reimpos tehran. addit report john walcott e; edit lesli adler alistair bellour standards:th thomson reuter trust principles.',\n",
       " 'washington/morristown, n.j. (reuters) - lawyer involv sever real estat deal u.s. special counsel robert mueller investig hi crimin case presid donald trump’ former campaign manag paul manafort hire hi ethic adviser. marc garfinkle, new jersey ethic attorney, told reuter retain bruce baldinger, longtim lawyer manafort base new jersey, legal consult advis “attorney confidenti privileg issu may arise” case. elabor details. balding declin comment, jason maloni, spokesman manafort. prosecutor alleg two manafort’ new york compani part scheme take ten million dollar earn oversea launder unit states, includ real estat investments. balding sign biennial statement author person companies, attest address compani could serv ani court paper receiv new york state authorities, accord copi review reuters. sign statement necessari keep compani good standing. accord properti records, 2016 balding sign two loan “special secretary” one new york compani - mc brooklyn holdings, llc - total $5.3 million brownston brooklyn, mueller alleg manafort illeg earmark purposes. balding accus ani wrongdo reuter could determin what, any, interest mueller him. prosecutor determin baldinger’ role deal wa minim wa unawar ani purport fraud, hi legal exposur could limit call wit ani manafort trial, legal expert said. said, however, prosecutor believ knew ani fraud may participated, hi legal risk could much greater. garfinkl said know whether balding separ retain attorney “doesn’t appear ani need to.” manafort plead guilti charg indict washington alexandria, virginia, aros mueller’ investig ani link coordin russian govern peopl trump’ 2016 elect campaign. [nl2n1t719l] manafort wa lobbyist decad 2004 pro-russian polit leader ukrain among charg fail regist foreign agent. balding may seek guidanc scope attorney-cli privileg applic work manafort, real estat transact potenti fall outsid protect bounds, said mala ahuja harker, former prosecutor. “manafort would certainli line privileg drawn broadli possible,” said harker, lawyer friedman kaplan seiler & adelman llp. although attorney-cli relationship gener protected, lawyer testifi client client involv ongo fraud. report sarah n. lynch washington nathan layn morristown, new jersey; edit grant mccoolour standards:th thomson reuter trust principles.']"
      ]
     },
     "execution_count": 164,
     "metadata": {},
     "output_type": "execute_result"
    }
   ],
   "source": [
    "cleaned_text[:5]"
   ]
  },
  {
   "cell_type": "code",
   "execution_count": 186,
   "metadata": {},
   "outputs": [],
   "source": [
    "def drop_nouns(text_list):\n",
    "    no_nouns = []\n",
    "    all_nouns = ['NN' or 'NNS' or 'NNP' or 'NNPS']\n",
    "    for x in range(len(text_list)):\n",
    "        words=pos_tag(word_tokenize(cleaned_text[x]))\n",
    "        werdz = [s for s in words if s[-1] != 'NN']# or 'NNS' or 'NNP' or 'NNPS']\n",
    "        werdz = [s for s in werdz if s[-1] != 'NNS']\n",
    "        werdz = [s for s in werdz if s[-1] != ',']\n",
    "        werdz = [s for s in werdz if s[-1] != '.']\n",
    "        werdz = [s for s in werdz if s[-1] != ':']\n",
    "        werdz = [s for s in werdz if s[-1] != 'CD']\n",
    "        werdz = [s for s in werdz if s[-1] != '(']\n",
    "        werdz = [s for s in werdz if s[-1] != ')']\n",
    "        \n",
    "        no_nouns.append(werdz)\n",
    "    return no_nouns"
   ]
  },
  {
   "cell_type": "code",
   "execution_count": 189,
   "metadata": {
    "scrolled": false
   },
   "outputs": [],
   "source": [
    "text_w_no_nouns = drop_nouns(cleaned_text)"
   ]
  },
  {
   "cell_type": "code",
   "execution_count": 190,
   "metadata": {},
   "outputs": [],
   "source": [
    "short_text = []\n",
    "for text in text_w_no_nouns:\n",
    "    for part in text:\n",
    "        short_text.append(part[0])"
   ]
  },
  {
   "cell_type": "code",
   "execution_count": 191,
   "metadata": {},
   "outputs": [],
   "source": [
    "count_vectorizer2 = CountVectorizer(ngram_range=(1, 4),  \n",
    "                                   stop_words='english', \n",
    "                                   token_pattern=\"\\\\b[a-z][a-z]+\\\\b\",\n",
    "                                   lowercase=True,\n",
    "                                   max_df = 0.6)\n",
    "\n",
    "X = count_vectorizer2.fit_transform(short_text)"
   ]
  },
  {
   "cell_type": "code",
   "execution_count": null,
   "metadata": {},
   "outputs": [
    {
     "name": "stderr",
     "output_type": "stream",
     "text": [
      "/Users/NickThomas/Desktop/anaconda/lib/python3.6/site-packages/sklearn/decomposition/online_lda.py:294: DeprecationWarning: n_topics has been renamed to n_components in version 0.19 and will be removed in 0.21\n",
      "  DeprecationWarning)\n"
     ]
    }
   ],
   "source": [
    "n_topics = 20\n",
    "n_iter = 10\n",
    "lda = LatentDirichletAllocation(n_topics=n_topics,\n",
    "                                max_iter=n_iter,\n",
    "                                random_state=42,\n",
    "                               learning_method='online')\n",
    "X_centered_projected = lda.fit_transform(X)"
   ]
  },
  {
   "cell_type": "code",
   "execution_count": null,
   "metadata": {},
   "outputs": [],
   "source": [
    "def display_topics(model, feature_names, no_top_words):\n",
    "    '''Creates a list of words in each topics'''\n",
    "    for ix, topic in enumerate(model.components_):\n",
    "        print(\"Topic \", ix+1)\n",
    "        print(\" \".join([feature_names[i]\n",
    "                        for i in topic.argsort()[:-no_top_words - 1:-1]]))\n",
    "        \n",
    "display_topics(lda,count_vectorizer2.get_feature_names(),20)"
   ]
  },
  {
   "cell_type": "code",
   "execution_count": null,
   "metadata": {},
   "outputs": [],
   "source": [
    "with open('X_centered_projected.pkl', 'wb') as picklefile:\n",
    "        pickle.dump(X_centered_projected, picklefile)"
   ]
  },
  {
   "cell_type": "code",
   "execution_count": null,
   "metadata": {},
   "outputs": [],
   "source": [
    "\"\"\"with open('quick_to_the_batmobile.pkl', 'wb') as picklefile:\n",
    "        pickle.dump(quick_to_the_batmobile, picklefile)\"\"\""
   ]
  },
  {
   "cell_type": "code",
   "execution_count": null,
   "metadata": {},
   "outputs": [],
   "source": [
    "X_centered_projected_w_nouns = pickle.load(open(\"pickle_files/X_centered_projected_w_nouns\", \"rb\" ))"
   ]
  }
 ],
 "metadata": {
  "kernelspec": {
   "display_name": "Python 3",
   "language": "python",
   "name": "python3"
  },
  "language_info": {
   "codemirror_mode": {
    "name": "ipython",
    "version": 3
   },
   "file_extension": ".py",
   "mimetype": "text/x-python",
   "name": "python",
   "nbconvert_exporter": "python",
   "pygments_lexer": "ipython3",
   "version": "3.6.5"
  }
 },
 "nbformat": 4,
 "nbformat_minor": 2
}
