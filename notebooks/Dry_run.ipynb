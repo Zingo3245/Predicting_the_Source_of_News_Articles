{
 "cells": [
  {
   "cell_type": "code",
   "execution_count": 1,
   "metadata": {},
   "outputs": [
    {
     "name": "stderr",
     "output_type": "stream",
     "text": [
      "/Users/NickThomas/Desktop/anaconda/lib/python3.6/site-packages/sklearn/cross_validation.py:41: DeprecationWarning: This module was deprecated in version 0.18 in favor of the model_selection module into which all the refactored classes and functions are moved. Also note that the interface of the new CV iterators are different from that of this module. This module will be removed in 0.20.\n",
      "  \"This module will be removed in 0.20.\", DeprecationWarning)\n"
     ]
    }
   ],
   "source": [
    "import pickle\n",
    "import pandas as pd\n",
    "import numpy as np\n",
    "import re\n",
    "import nltk\n",
    "from nltk.tokenize import word_tokenize\n",
    "from nltk.tag import pos_tag\n",
    "from nltk.corpus import stopwords\n",
    "from nltk.stem import porter\n",
    "from sklearn.feature_extraction.text import CountVectorizer\n",
    "from sklearn.decomposition import LatentDirichletAllocation\n",
    "from sklearn.metrics import silhouette_score\n",
    "from sklearn.cluster import KMeans\n",
    "from sklearn.decomposition import TruncatedSVD\n",
    "import os\n",
    "import matplotlib.pyplot as plt\n",
    "%matplotlib inline\n",
    "plt.style.use('seaborn')\n",
    "from sklearn.feature_extraction.text import CountVectorizer\n",
    "from sklearn.feature_extraction.text import TfidfVectorizer\n",
    "from sklearn.decomposition import LatentDirichletAllocation\n",
    "from sklearn.cross_validation import train_test_split\n",
    "from sklearn.linear_model import LogisticRegression\n",
    "from sklearn.ensemble import RandomForestClassifier, BaggingClassifier\n",
    "from sklearn.metrics import confusion_matrix, classification_report\n",
    "from sklearn.svm import SVC\n",
    "from sklearn.tree import DecisionTreeClassifier\n",
    "from sklearn.metrics import silhouette_score\n",
    "from sklearn.cluster import KMeans\n",
    "from sklearn.decomposition import TruncatedSVD\n",
    "from sklearn.preprocessing import Normalizer\n",
    "from sklearn.model_selection import GridSearchCV\n",
    "from sklearn.neighbors import KNeighborsClassifier\n",
    "import os\n",
    "import itertools\n",
    "from sklearn.dummy import DummyClassifier\n",
    "\n",
    "\n",
    "import matplotlib.pyplot as plt\n",
    "import seaborn as sns\n",
    "from sklearn.pipeline import Pipeline\n",
    "from sklearn.pipeline import make_pipeline\n",
    "%matplotlib inline\n",
    "plt.style.use('seaborn')"
   ]
  },
  {
   "cell_type": "code",
   "execution_count": 2,
   "metadata": {},
   "outputs": [],
   "source": [
    "true_df = pickle.load(open(\"pickle_files/true_df.pkl\", \"rb\" ))\n"
   ]
  },
  {
   "cell_type": "code",
   "execution_count": 5,
   "metadata": {},
   "outputs": [
    {
     "data": {
      "text/html": [
       "<div>\n",
       "<style scoped>\n",
       "    .dataframe tbody tr th:only-of-type {\n",
       "        vertical-align: middle;\n",
       "    }\n",
       "\n",
       "    .dataframe tbody tr th {\n",
       "        vertical-align: top;\n",
       "    }\n",
       "\n",
       "    .dataframe thead th {\n",
       "        text-align: right;\n",
       "    }\n",
       "</style>\n",
       "<table border=\"1\" class=\"dataframe\">\n",
       "  <thead>\n",
       "    <tr style=\"text-align: right;\">\n",
       "      <th></th>\n",
       "      <th>body</th>\n",
       "      <th>num_source</th>\n",
       "      <th>source</th>\n",
       "      <th>title</th>\n",
       "    </tr>\n",
       "  </thead>\n",
       "  <tbody>\n",
       "    <tr>\n",
       "      <th>0</th>\n",
       "      <td>The following statements were posted to the ve...</td>\n",
       "      <td>2.0</td>\n",
       "      <td>Reuters</td>\n",
       "      <td>Trump on Twitter (June 6): Mitch McConnell, Jo...</td>\n",
       "    </tr>\n",
       "    <tr>\n",
       "      <th>1</th>\n",
       "      <td>TEL AVIV (Reuters) - Donald Trump’s attorney, ...</td>\n",
       "      <td>2.0</td>\n",
       "      <td>Reuters</td>\n",
       "      <td>Giuliani says Mueller's investigators trying t...</td>\n",
       "    </tr>\n",
       "    <tr>\n",
       "      <th>2</th>\n",
       "      <td>WASHINGTON (Reuters) - U.S. House of Represent...</td>\n",
       "      <td>2.0</td>\n",
       "      <td>Reuters</td>\n",
       "      <td>House Speaker doubtful of NAFTA passage in cur...</td>\n",
       "    </tr>\n",
       "    <tr>\n",
       "      <th>3</th>\n",
       "      <td>BRUSSELS (Reuters) - U.S. Defense Secretary Ji...</td>\n",
       "      <td>2.0</td>\n",
       "      <td>Reuters</td>\n",
       "      <td>In Europe, Mattis is in familiar spot: calming...</td>\n",
       "    </tr>\n",
       "    <tr>\n",
       "      <th>4</th>\n",
       "      <td>WASHINGTON/MORRISTOWN, N.J. (Reuters) - A lawy...</td>\n",
       "      <td>2.0</td>\n",
       "      <td>Reuters</td>\n",
       "      <td>Lawyer to ex-Trump campaign aide Manafort taps...</td>\n",
       "    </tr>\n",
       "  </tbody>\n",
       "</table>\n",
       "</div>"
      ],
      "text/plain": [
       "                                                body  num_source   source  \\\n",
       "0  The following statements were posted to the ve...         2.0  Reuters   \n",
       "1  TEL AVIV (Reuters) - Donald Trump’s attorney, ...         2.0  Reuters   \n",
       "2  WASHINGTON (Reuters) - U.S. House of Represent...         2.0  Reuters   \n",
       "3  BRUSSELS (Reuters) - U.S. Defense Secretary Ji...         2.0  Reuters   \n",
       "4  WASHINGTON/MORRISTOWN, N.J. (Reuters) - A lawy...         2.0  Reuters   \n",
       "\n",
       "                                               title  \n",
       "0  Trump on Twitter (June 6): Mitch McConnell, Jo...  \n",
       "1  Giuliani says Mueller's investigators trying t...  \n",
       "2  House Speaker doubtful of NAFTA passage in cur...  \n",
       "3  In Europe, Mattis is in familiar spot: calming...  \n",
       "4  Lawyer to ex-Trump campaign aide Manafort taps...  "
      ]
     },
     "execution_count": 5,
     "metadata": {},
     "output_type": "execute_result"
    }
   ],
   "source": [
    "true_df.head()"
   ]
  },
  {
   "cell_type": "code",
   "execution_count": null,
   "metadata": {},
   "outputs": [],
   "source": []
  },
  {
   "cell_type": "code",
   "execution_count": 5,
   "metadata": {},
   "outputs": [],
   "source": []
  },
  {
   "cell_type": "code",
   "execution_count": 6,
   "metadata": {},
   "outputs": [],
   "source": [
    "stemmer = porter.PorterStemmer()\n",
    "stopwords = stopwords.words()"
   ]
  },
  {
   "cell_type": "code",
   "execution_count": 7,
   "metadata": {},
   "outputs": [],
   "source": [
    "def clean_text(text):\n",
    "    '''Removes stop words and changes word to stem words'''\n",
    "    cleaned_text = []\n",
    "    for post in text:\n",
    "        cleaned_words = []\n",
    "        for word in post.split():\n",
    "            low_word = word.lower()\n",
    "            if low_word not in stopwords:\n",
    "                cleaned_words.append(low_word)\n",
    "        cleaned_text.append(' '.join(cleaned_words))\n",
    "        print(round((len(cleaned_text) / 4092) * 100, 2), \"%\")\n",
    "    return cleaned_text"
   ]
  },
  {
   "cell_type": "code",
   "execution_count": 8,
   "metadata": {},
   "outputs": [],
   "source": [
    "def drop_nouns(text_list):\n",
    "    no_nouns = []\n",
    "    cleaned_text = []\n",
    "    phrases = []\n",
    "    for x in text_list:\n",
    "        words = pos_tag(word_tokenize(x))\n",
    "        #werdz2 = (['CC','CD','DT','EX','FW','IN','LS','MD','PDT','POS','PRP','PRP$',\n",
    "                   #'RP','TO','UH','WDT','WP','WP$','WRB', 'NNP', 'NNPS', 'NN', 'NNS', ',', '.', ':', '(', ')'])\n",
    "        werdz3 = ['NNP', 'NN', 'NNP', 'NNPs', 'NNS', ',', '.', ':', '(', ')', '#', '``']\n",
    "        werdz = [s for s in words if s[-1] not in werdz3]\n",
    "        #print(werdz)\n",
    "        say_no = ['@','[', ']', 'amp', 'window', 'open','click', 'googletag', 'gpt', 'linkitem', 'googletag', 'getelementbyid',\n",
    "        'config', 'ldadinit', 'advertis', 'typeof', 'adsdiv', 'fjs', 'js', 'http', 'com', 'awr', 'new', 'function', 'div',\n",
    "        'ad', 'script', 'typeof', 'nr_is_logged_in', 'undefined', 'adsdiv', 'sharebox_260x60', 'ifr', 'jwplayer', 'jwp',\n",
    "        'pubdate', 'adunit', 'adwidth', 'www', 'bit.ly/2jpexyr', 'googletag.cmd.push', 'googletag.display', '\\'div-gpt-ad-1415299254516-0 \\'',\n",
    "        'open', 'opening', 'opens', 'opened', 'alabama', 'loading', 'email', 'advertise', 'apps', 'closed', 'help', 'publish',\n",
    "        'rendered', 'undefined', 'adsdiv', 'reloadcount', 'adsdiv.reloadcount', 'window.orignetid', '\\'undefined', 'window.origadsplid', 'needsrecovery',\n",
    "        'io_c3sd.ads', 'elem', 'box', 'box.offsetheight', 'box.style.marginright', 'marginright', 'ad_sharebox_260x60', 'trump',\n",
    "        'russia', 'fox', 'alerts', 'facebook', 'reuters', 'rsize', 'i+= resize /scr+ipt', 'ipt', 'scr', 'script', 'window.adsetsynccalled',\n",
    "        'adsetsynccalled', 'recoveryid', 'enablequeue', 'slotrenderended', 'beast', 'daily beast', 'clicking', 'subscribed', 'korea', 'north korea', 'south korea',\n",
    "        'breitbart', 'epa', 'labelmapping', 'comey', 'scotus', 'republicans', 'cohen', 'iran', 'syria', 'eagles', 'april', 'colorado', 'fbi',\n",
    "        'haspel', 'wedding', 'puerto', 'rico', 'puerto rico', 'huffpost', 'donald', 'don', 'nra', 'sachs', 'kelly', 'facebook', 'mohammed',\n",
    "        'div-gpt-ad-1415299254516-0 ', '\\'div-gpt-ad-1415299254516-0 \\'', '\\'slotrenderended \\'', 'slotrenderended', \n",
    "        '\\'.single-post # div-gpt-ad-1415299254516-0 \\'', 'slotrenderended', 'ldadinit', 'roseanne', 'israel', 'gaza', \n",
    "        'china', 'beijing', 'samantha', 'bee', 'valierie', 'subscribe', 'prelimmonth', 'ivanka', 'documentcloud', 'melania', \n",
    "        '(', ')', '-', ',', '.', '!', '\"', '\\'', 'var', \"\\'div-gpt-ad-1415299254516-0\", 'div-gpt-ad-1415299254516-0', '\\'.single-post'\n",
    "        '\\'slotrenderended', 'funct', '.contents', 'googletag.pubads', \"\\'slotrenderended\", \"\\'.single-post\", \"'div-gpt-ad-1403197269028-0\"\n",
    "        , 'line-height', '>', 'adtech-adspot', '//', '/style', 'overrid', 'window.adsetplid', 'adid', '||', 'adtech_call_typ',\n",
    "        'by_request', 'adtech_call_typ', 'iframe_proxy', 'ifr.offsetwidth', \"ifr.offsetheight\", \"'jquery\", \"'readytorecover\",\n",
    "        'args', \"waitforglobal\", 'arg', \"elem.contains\", \"'reloadad\", 'els', \"'adtech\", 'refreshr', \"'none\", 'collapsed', \n",
    "        'fc', 'f', 'ajax', 'needsrecoveri', 'i+=', '&', '<', '=', 'http', 'https', \"'http\", \"'http\", \"'script\", 'twitter', \n",
    "        '/.test', \"'https\", 'newsletter-inline-widget', 'margin-bottom', '15px', 'font-weight', 'font-size', '12pt', 'div.mc-field-group',\n",
    "        'padding-bottom', 'padding-right', 'input.mc-input', '.newsletter-inline-widget', 'font-family', '.wpcf7-form-control.wpcf7-text',\n",
    "        '7e7e7e', 'arial', '.wpcf7', '.wpcf7-form-control.wpcf7-text', '.newsletter.widget__contain', '.wpcf7-form-control.wpcf7-submit',\n",
    "        'box-shadow', 'text-shadow', 'letter-spacing', '.newsletter.widget__wrap', '.newsletter.widget__head', 'text-transform', \n",
    "        'max-width', 'td.first', 'padding-left', 'border-radius', 'hr.divid', 'p.subtext','==typeof', '.gettime', 'window.outerwidth',\n",
    "        'rcel.async', '/**', 'url', \"'data-timestamp\", '+new', 'd.head', 'javascript', 'php_widget-140', 'php_widget-104', '.today-on-the-show-cont',\n",
    "        '.alignleft', 'margin-right', 'margin-top', '.alignright', \"'/wp-content/uploads/static/tots.html\", \"'.today-on-the-show-content\",\n",
    "        \"'.today-on-the-show-cont\", '.html', 'img.hero-ad-speci', 'fa', 'fa-chevron-down', 'usercollapsetext', 'newsletter-side-widget', \n",
    "        'ul.stansberry-form', 'text-align', 'margin-left:0', 'margin-bottom:5px', 'border-top', '-webkit-border-radius', '-khtml-border-radius',\n",
    "        'border-width', 'border-style', 'border-right', 'padding-left:8px', '.textsiz', 'margin-top:5px', 'ul.links_list', 'img.breaking_imag', \n",
    "        'adtech_sharebox_260x60', 'advertisement', '===', 'kraken__adblock.active', 'i=0', 'id=', 'style=', '//www.documentcloud.org/documents/4434037-hhrg-115-if00-wstate-zuckerbergm-20180411.js', \n",
    "        '//assets.documentcloud.org/documents/4434037/hhrg-115-if00-wstate-zuckerbergm-20180411.pdf', 'br', 'lt', '//assets.documentcloud.org/documents/4434037/hhrg-115-if00-wstate-zuckerbergm-20180411.txt',\n",
    "        '//www.documentcloud.org/documents/4425618-van-der-zwaan.js', '//assets.documentcloud.org/documents/4425618/van-der-zwaan.pdf', '//assets.documentcloud.org/documents/4425618/van-der-zwaan.txt',\n",
    "        'subscrib', 'window.datawrapper', '.embeddeltas', 'datawrapper-height', '=typeof', '==', 'div-gpt-ad-inline_1_mobile', '.jw-player-contain', \"'jwp\",\n",
    "        '.playlist', 'episode.title', 'ns_st_st=\\\\', 'ns_st_pu=\\\\', 'ns_st_pr=\\\\', 'ns_st_ep=\\\\', 'ns_st_ia=\\\\', 'div-gpt-ad-native_mobile', 'div-gpt-ad-inline_2_mobile',\n",
    "        'div-gpt-ad-inline_3_mobile', 'ns_st_sn=\\\\', 'ns_st_en=\\\\', 'ns_st_ge=\\\\', 'ns_st_ce=\\\\', 'ns_st_ddt=\\\\', 'ns_st_tdt=\\\\', 'div-gpt-ad-native', 'div-gpt-ad-inline_4_mobile',\n",
    "        '\\\\/\\\\/www.nationalreview.com\\\\/wp-json\\\\/wp\\\\/v2\\\\/slideshow\\\\/596990', '\\\\u0000*\\\\u0000links', '\\\\/\\\\/www.nationalreview.com\\\\/wp-json\\\\/wp\\\\/v2\\\\/media', '\\\\/\\\\/www.nationalreview.com\\\\/wp-json\\\\/wp\\\\/v2\\\\/categories',\n",
    "        '\\\\/\\\\/api.w.org\\\\/term', '\\\\/\\\\/www.nationalreview.com\\\\/wp-json\\\\/wp\\\\/v2\\\\/tags', '\\\\/\\\\/www.nationalreview.com\\\\/photos\\\\/prince-harry-meghan-markle-royal-wedding\\\\/', '2fwww.nationalreview.com', 'text=harri', '2fprince-harry-meghan-markle-royal-wedding',\n",
    "        '\\\\/\\\\/i1.wp.com\\\\/www.nationalreview.com\\\\/wp-content\\\\/uploads\\\\/2018\\\\/05\\\\/harry-meghan-royal-wedding-26.jpg', '\\\\/\\\\/i0.wp.com\\\\/www.nationalreview.com\\\\/wp-content\\\\/uploads\\\\/2018\\\\/05\\\\/harry-meghan-royal-wedding-8.jpg',\n",
    "        '\\\\/\\\\/i1.wp.com\\\\/www.nationalreview.com\\\\/wp-content\\\\/uploads\\\\/2018\\\\/05\\\\/harry-meghan-royal-wedding-37.jpg', '\\\\/\\\\/i0.wp.com\\\\/www.nationalreview.com\\\\/wp-content\\\\/uploads\\\\/2018\\\\/05\\\\/harry-meghan-royal-wedding-110.jpg',\n",
    "        '\\\\/\\\\/i2.wp.com\\\\/www.nationalreview.com\\\\/wp-content\\\\/uploads\\\\/2018\\\\/05\\\\/harry-meghan-royal-wedding-111.jpg', '\\\\/\\\\/i1.wp.com\\\\/www.nationalreview.com\\\\/wp-content\\\\/uploads\\\\/2018\\\\/05\\\\/harry-meghan-royal-wedding-45.jpg',\n",
    "        '\\\\/\\\\/i2.wp.com\\\\/www.nationalreview.com\\\\/wp-content\\\\/uploads\\\\/2018\\\\/05\\\\/harry-meghan-royal-wedding-38.jpg', '\\\\/\\\\/i2.wp.com\\\\/www.nationalreview.com\\\\/wp-content\\\\/uploads\\\\/2018\\\\/05\\\\/harry-meghan-royal-wedding-44.jpg',\n",
    "        '\\\\/\\\\/i1.wp.com\\\\/www.nationalreview.com\\\\/wp-content\\\\/uploads\\\\/2018\\\\/05\\\\/harry-meghan-royal-wedding-7.jpg', '\\\\/\\\\/i2.wp.com\\\\/www.nationalreview.com\\\\/wp-content\\\\/uploads\\\\/2018\\\\/05\\\\/harry-meghan-royal-wedding-12.jpg', \n",
    "        '\\\\/\\\\/i2.wp.com\\\\/www.nationalreview.com\\\\/wp-content\\\\/uploads\\\\/2018\\\\/05\\\\/harry-meghan-royal-wedding-11.jpg', '\\\\/\\\\/i1.wp.com\\\\/www.nationalreview.com\\\\/wp-content\\\\/uploads\\\\/2018\\\\/05\\\\/harry-meghan-royal-wedding-43.jpg', \n",
    "        '\\\\/\\\\/i0.wp.com\\\\/www.nationalreview.com\\\\/wp-content\\\\/uploads\\\\/2018\\\\/05\\\\/harry-meghan-royal-wedding-21.jpg', '\\\\/\\\\/i1.wp.com\\\\/www.nationalreview.com\\\\/wp-content\\\\/uploads\\\\/2018\\\\/05\\\\/harry-meghan-royal-wedding-18.jpg',\n",
    "        '\\\\/\\\\/i1.wp.com\\\\/www.nationalreview.com\\\\/wp-content\\\\/uploads\\\\/2018\\\\/05\\\\/harry-meghan-royal-wedding-22.jpg', '\\\\/\\\\/i0.wp.com\\\\/www.nationalreview.com\\\\/wp-content\\\\/uploads\\\\/2018\\\\/05\\\\/harry-meghan-royal-wedding-116.jpg',\n",
    "        '\\\\/\\\\/i0.wp.com\\\\/www.nationalreview.com\\\\/wp-content\\\\/uploads\\\\/2018\\\\/05\\\\/harry-meghan-royal-wedding-42.jpg', '\\\\/\\\\/i0.wp.com\\\\/www.nationalreview.com\\\\/wp-content\\\\/uploads\\\\/2018\\\\/05\\\\/harry-meghan-royal-wedding-14.jpg',\n",
    "        '\\\\/\\\\/i0.wp.com\\\\/www.nationalreview.com\\\\/wp-content\\\\/uploads\\\\/2018\\\\/05\\\\/harry-meghan-royal-wedding-39.jpg', '\\\\/\\\\/i1.wp.com\\\\/www.nationalreview.com\\\\/wp-content\\\\/uploads\\\\/2018\\\\/05\\\\/harry-meghan-royal-wedding-54.jpg',\n",
    "        '\\\\/\\\\/i1.wp.com\\\\/www.nationalreview.com\\\\/wp-content\\\\/uploads\\\\/2018\\\\/05\\\\/harry-meghan-royal-wedding-112.jpg', '\\\\/\\\\/i2.wp.com\\\\/www.nationalreview.com\\\\/wp-content\\\\/uploads\\\\/2018\\\\/05\\\\/harry-meghan-royal-wedding-106.jpg',\n",
    "        '\\\\/\\\\/i1.wp.com\\\\/www.nationalreview.com\\\\/wp-content\\\\/uploads\\\\/2018\\\\/05\\\\/harry-meghan-royal-wedding-25.jpg', '\\\\/\\\\/i2.wp.com\\\\/www.nationalreview.com\\\\/wp-content\\\\/uploads\\\\/2018\\\\/05\\\\/harry-meghan-royal-wedding-46.jpg',\n",
    "        '\\\\/\\\\/i0.wp.com\\\\/www.nationalreview.com\\\\/wp-content\\\\/uploads\\\\/2018\\\\/05\\\\/harry-meghan-royal-wedding-24.jpg', '\\\\/\\\\/i2.wp.com\\\\/www.nationalreview.com\\\\/wp-content\\\\/uploads\\\\/2018\\\\/05\\\\/harry-meghan-royal-wedding-29.jpg',\n",
    "        '\\\\/\\\\/i2.wp.com\\\\/www.nationalreview.com\\\\/wp-content\\\\/uploads\\\\/2018\\\\/05\\\\/harry-meghan-royal-wedding-48.jpg', '\\\\/\\\\/i0.wp.com\\\\/www.nationalreview.com\\\\/wp-content\\\\/uploads\\\\/2018\\\\/05\\\\/harry-meghan-royal-wedding-107.jpg',\n",
    "        '\\\\/\\\\/i0.wp.com\\\\/www.nationalreview.com\\\\/wp-content\\\\/uploads\\\\/2018\\\\/05\\\\/harry-meghan-royal-wedding-47.jpg', '\\\\/\\\\/i2.wp.com\\\\/www.nationalreview.com\\\\/wp-content\\\\/uploads\\\\/2018\\\\/05\\\\/harry-meghan-royal-wedding-33.jpg',\n",
    "        '\\\\/\\\\/i1.wp.com\\\\/www.nationalreview.com\\\\/wp-content\\\\/uploads\\\\/2018\\\\/05\\\\/harry-meghan-royal-wedding-51.jpg', 'google_ad_cli', \n",
    "        'adunit.style.display', '.length', 'google_ad_width', 'google_ad_height', 'adunit.style.margin', 'adunit.style.textalign', 'adunit.classnam',\n",
    "        '//www.activistpost.com/2018/06/israeli-selling-surveillance-systems-governments-around-world.html', \"'theactivistpost\", '.innerhtml', 'ld-ajs', 'w.ldadinit=w.ldadinit||', '//www.activistpost.com/2018/06/google-quits-drone-program-u-s-navy-wants-drone-motherships-with-help-of-a-i.html',\n",
    "        '302px', '422px', '300px', '0px', '12px', '60px', '25px', '250px', '3px', '40px', '1px', '10px','titl', '0\\\\', '//www.activistpost.com/2018/04/us-bombs-syria-to-cover-up-lack-of-evidence-on-chem-attacks-discredits-own-claims-by-doing-so.html', \n",
    "        '//www.activistpost.com/2018/05/red-nose-day-recognizes-kids-living-in-poverty-article-the-rich-get-smart-the-poor-get-technology-the-new-digital-divide-in-school-choice-highlights-part-of-the-problem.html', \n",
    "        'firstscript', 'dsqlocal', \"'trackback_url\", 'disqus_shortnam', 'fb-extra-h2', 'prelimd', 'resize', 'scr+ipt', 'paul', 'watson']\n",
    "        regex = re.compile(r\"\\S+www.nationalreview.com\\S+\")\n",
    "        linkstr = re.findall(regex, str(werdz))\n",
    "        say_no.append(linkstr)\n",
    "        #regex2 = re.compile(r\"\\\\\\S+\")\n",
    "        #linkstr2 = re.findall(regex2, str(werdz))\n",
    "        #say_no.append(linkstr2)\n",
    "\n",
    "        werdz = ([s[-2] for s in werdz if s[-2] not in say_no and 'wp.com' not in s[-2] and 'facebook.com' not in s[-2] and\n",
    "                 '1897954795849722' not in s[-2] and '999999' not in s[-2] and \"'100\" not in s[-2] and 'prelimmonth' not in s[-2]\n",
    "                 and '5g' not in s[-2] and 'scr+ipt' not in s[-2] and 'documentcloud.org' not in s[-2] and 'www.' not in s[-2]\n",
    "                 and '10 10' not in s[-2] and 'labelmap' not in s[-2] and 'finald' not in s[-2] and '23390304' not in s[-2]\n",
    "                 and 'box.' not in s[-2] and 'label.' not in s[-2] and '.style' not in s[-2] and '10 100' not in s[-2]\n",
    "                 and '2c576' not in s[-2] and '2c90' not in s[-2] and 'ryan' not in s[-2] and 'mexico' not in s[-2] and 'todd' not in s[-2]\n",
    "                 and 'obama' not in s[-2] and 'avenatti' not in s[-2] and 'atblog' not in s[-2] and 'muslim' not in s[-2] and 'dodd' not in s[-2]\n",
    "                 and 'frank' not in s[-2] and 'rumaihi' not in s[-2] and 'bozorgmehr' not in s[-2] and 'sharafedin' not in s[-2] and 'kardashian' not in s[-2]\n",
    "                 and 'edit' not in s[-2] and 'splc' not in s[-2] and 'matt' not in s[-2] and 'agorist' not in s[-2] and 'julian' not in s[-2]\n",
    "                 and 'assange' not in s[-2] and 'wikileaks' not in s[-2] and 'giuliani' not in s[-2] and 'dinesh' not in s[-2] and 'torsion' not in s[-2]\n",
    "                 and 'freidman' not in s[-2] and 'cia' not in s[-2] and 'tmz' not in s[-2] and 'teacher' not in s[-2] and 'eric' not in s[-2] and 'texas' not in s[-2]\n",
    "                 and 'god' not in s[-2] and '1864' not in s[-2] and 'abbott' not in s[-2] and 'robert' not in s[-2] and 'derrick' not in s[-2]\n",
    "                 and 'ajdelgado13' not in s[-2] and 'sach' not in s[-2] and 'cuomo' not in s[-2] and 'orlando' not in s[-2] and 'greiten' not in s[-2] and '10 10' not in s[-2]\n",
    "                 and 'chizu' not in s[-2] and 'nomiyamaour' not in s[-2] and '000' not in s[-2] and 'yanks' not in s[-2] and 'frompovich' not in s[-2]\n",
    "                 and 'catherin' not in s[-2] and 'com' not in s[-2] and 'podcast' not in s[-2] and 'kim' not in s[-2] and 'jong' not in s[-2] and 'google_ad_client' not in s[-2]\n",
    "                 and 'bozorgmehr' not in s[-2] and 'rumaihi' not in s[-2] and 'gowdy' not in s[-2] and 'barr' not in s[-2] and 'roseanne' not in s[-2] and 'mccabe' not in s[-2]\n",
    "                 and 'andrew' not in s[-2] and 'bitcoin' not in s[-2] and 'nasa' not in s[-2] and 'nixon' not in s[-2] and 'connor' not in s[-2] and 'parenthood' not in s[-2]\n",
    "                 and 'eagle' not in s[-2] and 'sach' not in s[-2] and 'tusday' not in s[-2] and 'g7' not in s[-2] and 'god' not in s[-2] and '10pm' not in s[-2] and '1am' not in s[-2]\n",
    "                 and 'yulin' not in s[-2] and 'cruz' not in s[-2] and 'israel' not in s[-2] and '645' not in s[-2] and 'kildani' not in s[-2] and 'house' not in s[-2] and 'vin' not in s[-2]\n",
    "                 and 'mekelberg' not in s[-2] and '2016' not in s[-2] and '2017' not in s[-2] and '2018' not in s[-2] and '2019' not in s[-2]])\n",
    "        \n",
    "        #check cleaned text line from function above\n",
    "        no_nouns.append(' '.join(werdz))\n",
    "        print(round((len(no_nouns) / 4092) * 100, 2))\n",
    "        #no_nouns.append(werdz)\n",
    "    return no_nouns"
   ]
  },
  {
   "cell_type": "code",
   "execution_count": 9,
   "metadata": {},
   "outputs": [
    {
     "name": "stdout",
     "output_type": "stream",
     "text": [
      "0.02 %\n",
      "0.05 %\n",
      "0.07 %\n",
      "0.1 %\n",
      "0.12 %\n",
      "0.15 %\n",
      "0.17 %\n",
      "0.2 %\n",
      "0.22 %\n",
      "0.24 %\n",
      "0.27 %\n",
      "0.29 %\n",
      "0.32 %\n",
      "0.34 %\n",
      "0.37 %\n",
      "0.39 %\n",
      "0.42 %\n",
      "0.44 %\n",
      "0.46 %\n",
      "0.49 %\n",
      "0.51 %\n",
      "0.54 %\n",
      "0.56 %\n",
      "0.59 %\n",
      "0.61 %\n",
      "0.64 %\n",
      "0.66 %\n",
      "0.68 %\n",
      "0.71 %\n",
      "0.73 %\n",
      "0.76 %\n",
      "0.78 %\n",
      "0.81 %\n",
      "0.83 %\n",
      "0.86 %\n",
      "0.88 %\n",
      "0.9 %\n",
      "0.93 %\n",
      "0.95 %\n",
      "0.98 %\n",
      "1.0 %\n",
      "1.03 %\n",
      "1.05 %\n",
      "1.08 %\n",
      "1.1 %\n",
      "1.12 %\n",
      "1.15 %\n",
      "1.17 %\n",
      "1.2 %\n",
      "1.22 %\n",
      "1.25 %\n",
      "1.27 %\n",
      "1.3 %\n",
      "1.32 %\n",
      "1.34 %\n",
      "1.37 %\n",
      "1.39 %\n",
      "1.42 %\n",
      "1.44 %\n",
      "1.47 %\n",
      "1.49 %\n",
      "1.52 %\n",
      "1.54 %\n",
      "1.56 %\n",
      "1.59 %\n",
      "1.61 %\n",
      "1.64 %\n",
      "1.66 %\n",
      "1.69 %\n",
      "1.71 %\n",
      "1.74 %\n",
      "1.76 %\n",
      "1.78 %\n",
      "1.81 %\n",
      "1.83 %\n",
      "1.86 %\n",
      "1.88 %\n",
      "1.91 %\n",
      "1.93 %\n",
      "1.96 %\n",
      "1.98 %\n",
      "2.0 %\n",
      "2.03 %\n",
      "2.05 %\n",
      "2.08 %\n",
      "2.1 %\n",
      "2.13 %\n",
      "2.15 %\n",
      "2.17 %\n",
      "2.2 %\n",
      "2.22 %\n",
      "2.25 %\n",
      "2.27 %\n",
      "2.3 %\n",
      "2.32 %\n",
      "2.35 %\n",
      "2.37 %\n",
      "2.39 %\n",
      "2.42 %\n",
      "2.44 %\n",
      "2.47 %\n",
      "2.49 %\n",
      "2.52 %\n",
      "2.54 %\n",
      "2.57 %\n",
      "2.59 %\n",
      "2.61 %\n",
      "2.64 %\n",
      "2.66 %\n",
      "2.69 %\n",
      "2.71 %\n",
      "2.74 %\n",
      "2.76 %\n",
      "2.79 %\n",
      "2.81 %\n",
      "2.83 %\n",
      "2.86 %\n",
      "2.88 %\n",
      "2.91 %\n",
      "2.93 %\n",
      "2.96 %\n",
      "2.98 %\n",
      "3.01 %\n",
      "3.03 %\n",
      "3.05 %\n",
      "3.08 %\n",
      "3.1 %\n",
      "3.13 %\n",
      "3.15 %\n",
      "3.18 %\n",
      "3.2 %\n",
      "3.23 %\n",
      "3.25 %\n",
      "3.27 %\n",
      "3.3 %\n",
      "3.32 %\n",
      "3.35 %\n",
      "3.37 %\n",
      "3.4 %\n",
      "3.42 %\n",
      "3.45 %\n",
      "3.47 %\n",
      "3.49 %\n",
      "3.52 %\n",
      "3.54 %\n",
      "3.57 %\n",
      "3.59 %\n",
      "3.62 %\n",
      "3.64 %\n",
      "3.67 %\n",
      "3.69 %\n",
      "3.71 %\n",
      "3.74 %\n",
      "3.76 %\n",
      "3.79 %\n",
      "3.81 %\n",
      "3.84 %\n",
      "3.86 %\n",
      "3.89 %\n",
      "3.91 %\n",
      "3.93 %\n",
      "3.96 %\n",
      "3.98 %\n",
      "4.01 %\n",
      "4.03 %\n",
      "4.06 %\n",
      "4.08 %\n",
      "4.11 %\n",
      "4.13 %\n",
      "4.15 %\n",
      "4.18 %\n",
      "4.2 %\n",
      "4.23 %\n",
      "4.25 %\n",
      "4.28 %\n",
      "4.3 %\n",
      "4.33 %\n",
      "4.35 %\n",
      "4.37 %\n",
      "4.4 %\n",
      "4.42 %\n",
      "4.45 %\n",
      "4.47 %\n",
      "4.5 %\n",
      "4.52 %\n",
      "4.55 %\n",
      "4.57 %\n",
      "4.59 %\n",
      "4.62 %\n",
      "4.64 %\n",
      "4.67 %\n",
      "4.69 %\n",
      "4.72 %\n",
      "4.74 %\n",
      "4.77 %\n",
      "4.79 %\n",
      "4.81 %\n",
      "4.84 %\n",
      "4.86 %\n",
      "4.89 %\n",
      "4.91 %\n",
      "4.94 %\n",
      "4.96 %\n",
      "4.99 %\n",
      "5.01 %\n",
      "5.03 %\n",
      "5.06 %\n",
      "5.08 %\n",
      "5.11 %\n",
      "5.13 %\n",
      "5.16 %\n",
      "5.18 %\n",
      "5.21 %\n",
      "5.23 %\n",
      "5.25 %\n",
      "5.28 %\n",
      "5.3 %\n",
      "5.33 %\n",
      "5.35 %\n",
      "5.38 %\n",
      "5.4 %\n",
      "5.43 %\n",
      "5.45 %\n",
      "5.47 %\n",
      "5.5 %\n",
      "5.52 %\n",
      "5.55 %\n",
      "5.57 %\n",
      "5.6 %\n",
      "5.62 %\n",
      "5.65 %\n",
      "5.67 %\n",
      "5.69 %\n",
      "5.72 %\n",
      "5.74 %\n",
      "5.77 %\n",
      "5.79 %\n",
      "5.82 %\n",
      "5.84 %\n",
      "5.87 %\n",
      "5.89 %\n",
      "5.91 %\n",
      "5.94 %\n",
      "5.96 %\n",
      "5.99 %\n",
      "6.01 %\n",
      "6.04 %\n",
      "6.06 %\n",
      "6.09 %\n",
      "6.11 %\n",
      "6.13 %\n",
      "6.16 %\n",
      "6.18 %\n",
      "6.21 %\n",
      "6.23 %\n",
      "6.26 %\n",
      "6.28 %\n",
      "6.3 %\n",
      "6.33 %\n",
      "6.35 %\n",
      "6.38 %\n",
      "6.4 %\n",
      "6.43 %\n",
      "6.45 %\n",
      "6.48 %\n",
      "6.5 %\n",
      "6.52 %\n",
      "6.55 %\n",
      "6.57 %\n",
      "6.6 %\n",
      "6.62 %\n",
      "6.65 %\n",
      "6.67 %\n",
      "6.7 %\n",
      "6.72 %\n",
      "6.74 %\n",
      "6.77 %\n",
      "6.79 %\n",
      "6.82 %\n",
      "6.84 %\n",
      "6.87 %\n",
      "6.89 %\n",
      "6.92 %\n",
      "6.94 %\n",
      "6.96 %\n",
      "6.99 %\n",
      "7.01 %\n",
      "7.04 %\n",
      "7.06 %\n",
      "7.09 %\n",
      "7.11 %\n",
      "7.14 %\n",
      "7.16 %\n",
      "7.18 %\n",
      "7.21 %\n",
      "7.23 %\n",
      "7.26 %\n",
      "7.28 %\n",
      "7.31 %\n",
      "7.33 %\n",
      "7.36 %\n",
      "7.38 %\n",
      "7.4 %\n",
      "7.43 %\n",
      "7.45 %\n",
      "7.48 %\n",
      "7.5 %\n",
      "7.53 %\n",
      "7.55 %\n",
      "7.58 %\n",
      "7.6 %\n",
      "7.62 %\n",
      "7.65 %\n",
      "7.67 %\n",
      "7.7 %\n",
      "7.72 %\n",
      "7.75 %\n",
      "7.77 %\n",
      "7.8 %\n",
      "7.82 %\n",
      "7.84 %\n",
      "7.87 %\n",
      "7.89 %\n",
      "7.92 %\n",
      "7.94 %\n",
      "7.97 %\n",
      "7.99 %\n",
      "8.02 %\n",
      "8.04 %\n",
      "8.06 %\n",
      "8.09 %\n",
      "8.11 %\n",
      "8.14 %\n",
      "8.16 %\n",
      "8.19 %\n",
      "8.21 %\n",
      "8.24 %\n",
      "8.26 %\n",
      "8.28 %\n",
      "8.31 %\n",
      "8.33 %\n",
      "8.36 %\n",
      "8.38 %\n",
      "8.41 %\n",
      "8.43 %\n",
      "8.46 %\n",
      "8.48 %\n",
      "8.5 %\n",
      "8.53 %\n",
      "8.55 %\n",
      "8.58 %\n",
      "8.6 %\n",
      "8.63 %\n",
      "8.65 %\n",
      "8.68 %\n",
      "8.7 %\n",
      "8.72 %\n",
      "8.75 %\n",
      "8.77 %\n",
      "8.8 %\n",
      "8.82 %\n",
      "8.85 %\n",
      "8.87 %\n",
      "8.9 %\n",
      "8.92 %\n",
      "8.94 %\n",
      "8.97 %\n",
      "8.99 %\n",
      "9.02 %\n",
      "9.04 %\n",
      "9.07 %\n",
      "9.09 %\n",
      "9.12 %\n",
      "9.14 %\n",
      "9.16 %\n",
      "9.19 %\n",
      "9.21 %\n",
      "9.24 %\n",
      "9.26 %\n",
      "9.29 %\n",
      "9.31 %\n",
      "9.34 %\n",
      "9.36 %\n",
      "9.38 %\n",
      "9.41 %\n",
      "9.43 %\n",
      "9.46 %\n",
      "9.48 %\n",
      "9.51 %\n",
      "9.53 %\n",
      "9.56 %\n",
      "9.58 %\n",
      "9.6 %\n",
      "9.63 %\n",
      "9.65 %\n",
      "9.68 %\n",
      "9.7 %\n",
      "9.73 %\n",
      "9.75 %\n",
      "9.78 %\n",
      "9.8 %\n",
      "9.82 %\n",
      "9.85 %\n",
      "9.87 %\n",
      "9.9 %\n",
      "9.92 %\n",
      "9.95 %\n",
      "9.97 %\n",
      "10.0 %\n",
      "10.02 %\n",
      "10.04 %\n",
      "10.07 %\n",
      "10.09 %\n",
      "10.12 %\n",
      "10.14 %\n",
      "10.17 %\n",
      "10.19 %\n",
      "10.22 %\n",
      "10.24 %\n",
      "10.26 %\n",
      "10.29 %\n",
      "10.31 %\n",
      "10.34 %\n",
      "10.36 %\n",
      "10.39 %\n",
      "10.41 %\n",
      "10.43 %\n",
      "10.46 %\n",
      "10.48 %\n",
      "10.51 %\n",
      "10.53 %\n",
      "10.56 %\n",
      "10.58 %\n",
      "10.61 %\n",
      "10.63 %\n",
      "10.65 %\n",
      "10.68 %\n",
      "10.7 %\n",
      "10.73 %\n",
      "10.75 %\n",
      "10.78 %\n",
      "10.8 %\n",
      "10.83 %\n",
      "10.85 %\n",
      "10.87 %\n",
      "10.9 %\n",
      "10.92 %\n",
      "10.95 %\n",
      "10.97 %\n",
      "11.0 %\n",
      "11.02 %\n",
      "11.05 %\n",
      "11.07 %\n",
      "11.09 %\n",
      "11.12 %\n",
      "11.14 %\n",
      "11.17 %\n",
      "11.19 %\n",
      "11.22 %\n",
      "11.24 %\n",
      "11.27 %\n",
      "11.29 %\n",
      "11.31 %\n",
      "11.34 %\n",
      "11.36 %\n",
      "11.39 %\n",
      "11.41 %\n",
      "11.44 %\n",
      "11.46 %\n",
      "11.49 %\n",
      "11.51 %\n",
      "11.53 %\n",
      "11.56 %\n",
      "11.58 %\n",
      "11.61 %\n",
      "11.63 %\n",
      "11.66 %\n",
      "11.68 %\n",
      "11.71 %\n",
      "11.73 %\n",
      "11.75 %\n",
      "11.78 %\n",
      "11.8 %\n",
      "11.83 %\n",
      "11.85 %\n",
      "11.88 %\n",
      "11.9 %\n",
      "11.93 %\n",
      "11.95 %\n",
      "11.97 %\n",
      "12.0 %\n",
      "12.02 %\n",
      "12.05 %\n",
      "12.07 %\n",
      "12.1 %\n",
      "12.12 %\n",
      "12.15 %\n",
      "12.17 %\n",
      "12.19 %\n",
      "12.22 %\n",
      "12.24 %\n",
      "12.27 %\n",
      "12.29 %\n",
      "12.32 %\n",
      "12.34 %\n",
      "12.37 %\n",
      "12.39 %\n",
      "12.41 %\n",
      "12.44 %\n",
      "12.46 %\n",
      "12.49 %\n",
      "12.51 %\n",
      "12.54 %\n",
      "12.56 %\n",
      "12.59 %\n",
      "12.61 %\n",
      "12.63 %\n",
      "12.66 %\n",
      "12.68 %\n",
      "12.71 %\n",
      "12.73 %\n",
      "12.76 %\n",
      "12.78 %\n",
      "12.81 %\n",
      "12.83 %\n",
      "12.85 %\n",
      "12.88 %\n",
      "12.9 %\n",
      "12.93 %\n",
      "12.95 %\n",
      "12.98 %\n",
      "13.0 %\n",
      "13.03 %\n",
      "13.05 %\n",
      "13.07 %\n",
      "13.1 %\n",
      "13.12 %\n",
      "13.15 %\n",
      "13.17 %\n",
      "13.2 %\n",
      "13.22 %\n",
      "13.25 %\n",
      "13.27 %\n",
      "13.29 %\n",
      "13.32 %\n",
      "13.34 %\n",
      "13.37 %\n",
      "13.39 %\n",
      "13.42 %\n",
      "13.44 %\n",
      "13.47 %\n",
      "13.49 %\n",
      "13.51 %\n",
      "13.54 %\n",
      "13.56 %\n",
      "13.59 %\n",
      "13.61 %\n",
      "13.64 %\n",
      "13.66 %\n",
      "13.69 %\n",
      "13.71 %\n",
      "13.73 %\n",
      "13.76 %\n",
      "13.78 %\n",
      "13.81 %\n",
      "13.83 %\n",
      "13.86 %\n",
      "13.88 %\n",
      "13.91 %\n",
      "13.93 %\n",
      "13.95 %\n",
      "13.98 %\n",
      "14.0 %\n",
      "14.03 %\n",
      "14.05 %\n",
      "14.08 %\n",
      "14.1 %\n",
      "14.13 %\n",
      "14.15 %\n",
      "14.17 %\n",
      "14.2 %\n",
      "14.22 %\n",
      "14.25 %\n",
      "14.27 %\n",
      "14.3 %\n",
      "14.32 %\n",
      "14.35 %\n",
      "14.37 %\n",
      "14.39 %\n",
      "14.42 %\n",
      "14.44 %\n",
      "14.47 %\n",
      "14.49 %\n",
      "14.52 %\n",
      "14.54 %\n",
      "14.57 %\n",
      "14.59 %\n",
      "14.61 %\n",
      "14.64 %\n",
      "14.66 %\n",
      "14.69 %\n",
      "14.71 %\n",
      "14.74 %\n",
      "14.76 %\n",
      "14.78 %\n",
      "14.81 %\n",
      "14.83 %\n",
      "14.86 %\n",
      "14.88 %\n",
      "14.91 %\n",
      "14.93 %\n",
      "14.96 %\n",
      "14.98 %\n",
      "15.0 %\n",
      "15.03 %\n",
      "15.05 %\n",
      "15.08 %\n",
      "15.1 %\n",
      "15.13 %\n",
      "15.15 %\n",
      "15.18 %\n",
      "15.2 %\n",
      "15.22 %\n",
      "15.25 %\n",
      "15.27 %\n",
      "15.3 %\n",
      "15.32 %\n",
      "15.35 %\n",
      "15.37 %\n",
      "15.4 %\n",
      "15.42 %\n",
      "15.44 %\n",
      "15.47 %\n",
      "15.49 %\n",
      "15.52 %\n",
      "15.54 %\n",
      "15.57 %\n",
      "15.59 %\n",
      "15.62 %\n",
      "15.64 %\n",
      "15.66 %\n",
      "15.69 %\n",
      "15.71 %\n",
      "15.74 %\n",
      "15.76 %\n",
      "15.79 %\n",
      "15.81 %\n",
      "15.84 %\n",
      "15.86 %\n",
      "15.88 %\n",
      "15.91 %\n",
      "15.93 %\n",
      "15.96 %\n",
      "15.98 %\n",
      "16.01 %\n",
      "16.03 %\n",
      "16.06 %\n",
      "16.08 %\n",
      "16.1 %\n",
      "16.13 %\n",
      "16.15 %\n",
      "16.18 %\n",
      "16.2 %\n",
      "16.23 %\n",
      "16.25 %\n",
      "16.28 %\n",
      "16.3 %\n",
      "16.32 %\n",
      "16.35 %\n",
      "16.37 %\n",
      "16.4 %\n",
      "16.42 %\n",
      "16.45 %\n",
      "16.47 %\n",
      "16.5 %\n",
      "16.52 %\n",
      "16.54 %\n",
      "16.57 %\n",
      "16.59 %\n",
      "16.62 %\n",
      "16.64 %\n",
      "16.67 %\n",
      "16.69 %\n",
      "16.72 %\n",
      "16.74 %\n",
      "16.76 %\n",
      "16.79 %\n",
      "16.81 %\n",
      "16.84 %\n",
      "16.86 %\n",
      "16.89 %\n",
      "16.91 %\n",
      "16.94 %\n",
      "16.96 %\n",
      "16.98 %\n",
      "17.01 %\n",
      "17.03 %\n",
      "17.06 %\n",
      "17.08 %\n",
      "17.11 %\n",
      "17.13 %\n",
      "17.16 %\n",
      "17.18 %\n",
      "17.2 %\n",
      "17.23 %\n",
      "17.25 %\n",
      "17.28 %\n",
      "17.3 %\n",
      "17.33 %\n",
      "17.35 %\n",
      "17.38 %\n",
      "17.4 %\n",
      "17.42 %\n",
      "17.45 %\n",
      "17.47 %\n",
      "17.5 %\n",
      "17.52 %\n",
      "17.55 %\n",
      "17.57 %\n",
      "17.6 %\n",
      "17.62 %\n",
      "17.64 %\n",
      "17.67 %\n",
      "17.69 %\n",
      "17.72 %\n",
      "17.74 %\n",
      "17.77 %\n",
      "17.79 %\n",
      "17.82 %\n",
      "17.84 %\n",
      "17.86 %\n",
      "17.89 %\n",
      "17.91 %\n",
      "17.94 %\n",
      "17.96 %\n",
      "17.99 %\n",
      "18.01 %\n",
      "18.04 %\n",
      "18.06 %\n",
      "18.08 %\n",
      "18.11 %\n",
      "18.13 %\n",
      "18.16 %\n",
      "18.18 %\n",
      "18.21 %\n",
      "18.23 %\n",
      "18.26 %\n",
      "18.28 %\n",
      "18.3 %\n",
      "18.33 %\n",
      "18.35 %\n",
      "18.38 %\n",
      "18.4 %\n",
      "18.43 %\n",
      "18.45 %\n",
      "18.48 %\n",
      "18.5 %\n",
      "18.52 %\n",
      "18.55 %\n",
      "18.57 %\n",
      "18.6 %\n",
      "18.62 %\n",
      "18.65 %\n",
      "18.67 %\n",
      "18.7 %\n",
      "18.72 %\n",
      "18.74 %\n",
      "18.77 %\n",
      "18.79 %\n",
      "18.82 %\n",
      "18.84 %\n",
      "18.87 %\n",
      "18.89 %\n",
      "18.91 %\n",
      "18.94 %\n",
      "18.96 %\n",
      "18.99 %\n",
      "19.01 %\n",
      "19.04 %\n",
      "19.06 %\n",
      "19.09 %\n",
      "19.11 %\n",
      "19.13 %\n",
      "19.16 %\n",
      "19.18 %\n",
      "19.21 %\n",
      "19.23 %\n",
      "19.26 %\n",
      "19.28 %\n",
      "19.31 %\n",
      "19.33 %\n",
      "19.35 %\n",
      "19.38 %\n",
      "19.4 %\n",
      "19.43 %\n",
      "19.45 %\n",
      "19.48 %\n",
      "19.5 %\n",
      "19.53 %\n",
      "19.55 %\n",
      "19.57 %\n",
      "19.6 %\n",
      "19.62 %\n",
      "19.65 %\n",
      "19.67 %\n",
      "19.7 %\n",
      "19.72 %\n",
      "19.75 %\n",
      "19.77 %\n",
      "19.79 %\n",
      "19.82 %\n",
      "19.84 %\n",
      "19.87 %\n",
      "19.89 %\n",
      "19.92 %\n",
      "19.94 %\n",
      "19.97 %\n",
      "19.99 %\n",
      "20.01 %\n",
      "20.04 %\n",
      "20.06 %\n",
      "20.09 %\n",
      "20.11 %\n",
      "20.14 %\n",
      "20.16 %\n",
      "20.19 %\n",
      "20.21 %\n",
      "20.23 %\n",
      "20.26 %\n",
      "20.28 %\n",
      "20.31 %\n",
      "20.33 %\n",
      "20.36 %\n",
      "20.38 %\n"
     ]
    },
    {
     "ename": "KeyboardInterrupt",
     "evalue": "",
     "output_type": "error",
     "traceback": [
      "\u001b[0;31m---------------------------------------------------------------------------\u001b[0m",
      "\u001b[0;31mKeyboardInterrupt\u001b[0m                         Traceback (most recent call last)",
      "\u001b[0;32m<ipython-input-9-2ab376dda55d>\u001b[0m in \u001b[0;36m<module>\u001b[0;34m()\u001b[0m\n\u001b[0;32m----> 1\u001b[0;31m \u001b[0mcleaned_text\u001b[0m \u001b[0;34m=\u001b[0m \u001b[0mclean_text\u001b[0m\u001b[0;34m(\u001b[0m\u001b[0mtrue_df\u001b[0m\u001b[0;34m.\u001b[0m\u001b[0mbody\u001b[0m\u001b[0;34m)\u001b[0m\u001b[0;34m\u001b[0m\u001b[0m\n\u001b[0m",
      "\u001b[0;32m<ipython-input-7-a4292e817c06>\u001b[0m in \u001b[0;36mclean_text\u001b[0;34m(text)\u001b[0m\n\u001b[1;32m      6\u001b[0m         \u001b[0;32mfor\u001b[0m \u001b[0mword\u001b[0m \u001b[0;32min\u001b[0m \u001b[0mpost\u001b[0m\u001b[0;34m.\u001b[0m\u001b[0msplit\u001b[0m\u001b[0;34m(\u001b[0m\u001b[0;34m)\u001b[0m\u001b[0;34m:\u001b[0m\u001b[0;34m\u001b[0m\u001b[0m\n\u001b[1;32m      7\u001b[0m             \u001b[0mlow_word\u001b[0m \u001b[0;34m=\u001b[0m \u001b[0mword\u001b[0m\u001b[0;34m.\u001b[0m\u001b[0mlower\u001b[0m\u001b[0;34m(\u001b[0m\u001b[0;34m)\u001b[0m\u001b[0;34m\u001b[0m\u001b[0m\n\u001b[0;32m----> 8\u001b[0;31m             \u001b[0;32mif\u001b[0m \u001b[0mlow_word\u001b[0m \u001b[0;32mnot\u001b[0m \u001b[0;32min\u001b[0m \u001b[0mstopwords\u001b[0m\u001b[0;34m:\u001b[0m\u001b[0;34m\u001b[0m\u001b[0m\n\u001b[0m\u001b[1;32m      9\u001b[0m                 \u001b[0mcleaned_words\u001b[0m\u001b[0;34m.\u001b[0m\u001b[0mappend\u001b[0m\u001b[0;34m(\u001b[0m\u001b[0mlow_word\u001b[0m\u001b[0;34m)\u001b[0m\u001b[0;34m\u001b[0m\u001b[0m\n\u001b[1;32m     10\u001b[0m         \u001b[0mcleaned_text\u001b[0m\u001b[0;34m.\u001b[0m\u001b[0mappend\u001b[0m\u001b[0;34m(\u001b[0m\u001b[0;34m' '\u001b[0m\u001b[0;34m.\u001b[0m\u001b[0mjoin\u001b[0m\u001b[0;34m(\u001b[0m\u001b[0mcleaned_words\u001b[0m\u001b[0;34m)\u001b[0m\u001b[0;34m)\u001b[0m\u001b[0;34m\u001b[0m\u001b[0m\n",
      "\u001b[0;31mKeyboardInterrupt\u001b[0m: "
     ]
    }
   ],
   "source": [
    "cleaned_text = clean_text(true_df.body)"
   ]
  },
  {
   "cell_type": "code",
   "execution_count": null,
   "metadata": {},
   "outputs": [],
   "source": [
    "how_can_this_happen = drop_nouns(cleaned_text)"
   ]
  },
  {
   "cell_type": "code",
   "execution_count": null,
   "metadata": {},
   "outputs": [],
   "source": []
  },
  {
   "cell_type": "code",
   "execution_count": 52,
   "metadata": {},
   "outputs": [
    {
     "data": {
      "text/plain": [
       "'tfidf = pickle.load(open(\"pickle_files/tfidf.pkl\", \"rb\" ))'"
      ]
     },
     "execution_count": 52,
     "metadata": {},
     "output_type": "execute_result"
    }
   ],
   "source": [
    "'''tfidf = pickle.load(open(\"pickle_files/tfidf.pkl\", \"rb\" ))'''"
   ]
  },
  {
   "cell_type": "code",
   "execution_count": 53,
   "metadata": {},
   "outputs": [
    {
     "data": {
      "text/plain": [
       "'cor_tfidf = tfidf.transform(how_can_this_happen)'"
      ]
     },
     "execution_count": 53,
     "metadata": {},
     "output_type": "execute_result"
    }
   ],
   "source": [
    "'''cor_tfidf = tfidf.transform(how_can_this_happen)'''"
   ]
  },
  {
   "cell_type": "code",
   "execution_count": 54,
   "metadata": {},
   "outputs": [
    {
     "data": {
      "text/plain": [
       "'corpus_lsa = pickle.load(open(\"pickle_files/corpus_lsa.pkl\", \"rb\" ))'"
      ]
     },
     "execution_count": 54,
     "metadata": {},
     "output_type": "execute_result"
    }
   ],
   "source": [
    "'''corpus_lsa = pickle.load(open(\"pickle_files/corpus_lsa.pkl\", \"rb\" ))'''"
   ]
  },
  {
   "cell_type": "code",
   "execution_count": 55,
   "metadata": {},
   "outputs": [
    {
     "data": {
      "text/plain": [
       "'%%time\\nlsa = pickle.load(open(\"pickle_files/lsa.pkl\", \"rb\" ))'"
      ]
     },
     "execution_count": 55,
     "metadata": {},
     "output_type": "execute_result"
    }
   ],
   "source": [
    "'''%%time\n",
    "lsa = pickle.load(open(\"pickle_files/lsa.pkl\", \"rb\" ))'''"
   ]
  },
  {
   "cell_type": "code",
   "execution_count": 10,
   "metadata": {},
   "outputs": [],
   "source": [
    "tfidf = pickle.load(open(\"pickle_files/tfidf.pkl\", \"rb\" ))\n",
    "cor_tfidf = pickle.load(open(\"pickle_files/cor_tfidf.pkl\", \"rb\" ))\n"
   ]
  },
  {
   "cell_type": "code",
   "execution_count": 3,
   "metadata": {},
   "outputs": [],
   "source": [
    "lsa = pickle.load(open(\"pickle_files/lsa.pkl\", \"rb\" ))\n",
    "corpus_lsa = pickle.load(open(\"pickle_files/corpus_lsa.pkl\", \"rb\" ))"
   ]
  },
  {
   "cell_type": "code",
   "execution_count": 67,
   "metadata": {},
   "outputs": [],
   "source": [
    "km = pickle.load(open(\"pickle_files/km.pkl\", \"rb\" ))"
   ]
  },
  {
   "cell_type": "code",
   "execution_count": 20,
   "metadata": {},
   "outputs": [],
   "source": [
    "dt = pickle.load(open(\"pickle_files/dt.pkl\", \"rb\" ))\n"
   ]
  },
  {
   "cell_type": "code",
   "execution_count": 66,
   "metadata": {},
   "outputs": [
    {
     "data": {
      "text/plain": [
       "0"
      ]
     },
     "execution_count": 66,
     "metadata": {},
     "output_type": "execute_result"
    }
   ],
   "source": [
    "os.system('say \"Your move.....Commander\"')"
   ]
  },
  {
   "cell_type": "code",
   "execution_count": 152,
   "metadata": {},
   "outputs": [
    {
     "data": {
      "text/plain": [
       "4539    False\n",
       "4639    False\n",
       "5600    False\n",
       "2840    False\n",
       "1210     True\n",
       "5484    False\n",
       "144     False\n",
       "36      False\n",
       "1759    False\n",
       "5262    False\n",
       "1071    False\n",
       "1666     True\n",
       "4961    False\n",
       "3765    False\n",
       "142     False\n",
       "1036    False\n",
       "5652    False\n",
       "1679     True\n",
       "1657     True\n",
       "5136    False\n",
       "5117    False\n",
       "615     False\n",
       "4664    False\n",
       "4486    False\n",
       "2839    False\n",
       "1839    False\n",
       "3869    False\n",
       "4594    False\n",
       "3920    False\n",
       "987     False\n",
       "        ...  \n",
       "376     False\n",
       "3068    False\n",
       "158     False\n",
       "5375    False\n",
       "1167    False\n",
       "100     False\n",
       "3645    False\n",
       "1487     True\n",
       "210     False\n",
       "5108    False\n",
       "1340     True\n",
       "1186     True\n",
       "641     False\n",
       "298     False\n",
       "3667    False\n",
       "724     False\n",
       "1561     True\n",
       "4660    False\n",
       "3988    False\n",
       "1436     True\n",
       "5650    False\n",
       "3032    False\n",
       "3737    False\n",
       "5026    False\n",
       "3063    False\n",
       "20      False\n",
       "184     False\n",
       "5631    False\n",
       "1635     True\n",
       "276     False\n",
       "Name: source, Length: 1228, dtype: bool"
      ]
     },
     "execution_count": 152,
     "metadata": {},
     "output_type": "execute_result"
    }
   ],
   "source": [
    "y_test == \"Info wars\""
   ]
  },
  {
   "cell_type": "code",
   "execution_count": 146,
   "metadata": {},
   "outputs": [
    {
     "data": {
      "text/plain": [
       "Info wars          515\n",
       "Reuters            495\n",
       "Mother Jones       455\n",
       "Activist Post      420\n",
       "National Review    418\n",
       "Huffington Post    412\n",
       "Alabama Today      385\n",
       "Daily Beast        347\n",
       "Breitbart          307\n",
       "Global Research    190\n",
       "Fox News           121\n",
       "Associate Press     27\n",
       "Name: source, dtype: int64"
      ]
     },
     "execution_count": 146,
     "metadata": {},
     "output_type": "execute_result"
    }
   ],
   "source": [
    "true_df.source.value_counts()"
   ]
  },
  {
   "cell_type": "code",
   "execution_count": 4,
   "metadata": {},
   "outputs": [],
   "source": [
    "X = corpus_lsa\n",
    "y = true_df.source\n",
    "X_train, X_test, y_train, y_test = train_test_split(X, y, test_size=0.3, random_state=42)\n"
   ]
  },
  {
   "cell_type": "code",
   "execution_count": 45,
   "metadata": {},
   "outputs": [],
   "source": [
    "X = pickle.load(open(\"pickle_files/X.pkl\", \"rb\" ))\n",
    "y = pickle.load(open(\"pickle_files/y.pkl\", \"rb\" ))\n"
   ]
  },
  {
   "cell_type": "code",
   "execution_count": 13,
   "metadata": {},
   "outputs": [
    {
     "name": "stdout",
     "output_type": "stream",
     "text": [
      "0.10423452768729642\n",
      "0.08100558659217877\n"
     ]
    }
   ],
   "source": [
    "dumb = DummyClassifier(strategy = \"stratified\", random_state=0)\n",
    "dumb.fit(X_train, y_train)\n",
    "print(dumb.score(X_test, y_test))\n",
    "print(dumb.score(X_train, y_train))"
   ]
  },
  {
   "cell_type": "code",
   "execution_count": 5,
   "metadata": {},
   "outputs": [
    {
     "name": "stdout",
     "output_type": "stream",
     "text": [
      "0.7109120521172638\n",
      "1.0\n"
     ]
    }
   ],
   "source": [
    "rf2 = RandomForestClassifier(n_estimators=63)#, max_depth=36)\n",
    "rf2.fit(X_train, y_train)\n",
    "print(rf2.score(X_test, y_test))\n",
    "print(rf2.score(X_train, y_train))"
   ]
  },
  {
   "cell_type": "code",
   "execution_count": 16,
   "metadata": {},
   "outputs": [
    {
     "name": "stdout",
     "output_type": "stream",
     "text": [
      "0.6202686202686203\n",
      "0.998166819431714\n"
     ]
    }
   ],
   "source": [
    "dt = DecisionTreeClassifier(max_depth=25)\n",
    "dt.fit(X_train, y_train)\n",
    "print(dt.score(X_test, y_test))\n",
    "print(dt.score(X_train, y_train))"
   ]
  },
  {
   "cell_type": "code",
   "execution_count": 28,
   "metadata": {},
   "outputs": [
    {
     "data": {
      "text/plain": [
       "0.5628815628815629"
      ]
     },
     "execution_count": 28,
     "metadata": {},
     "output_type": "execute_result"
    }
   ],
   "source": [
    "knn = KNeighborsClassifier(n_jobs= -1, n_neighbors=15)\n",
    "knn.fit(X_train, y_train) \n",
    "## And score it on your testing data.\n",
    "knn.score(X_test, y_test)"
   ]
  },
  {
   "cell_type": "code",
   "execution_count": 27,
   "metadata": {},
   "outputs": [
    {
     "data": {
      "image/png": "[encoded data removed]",
      "text/plain": [
       "<Figure size 600x400 with 1 Axes>"
      ]
     },
     "metadata": {},
     "output_type": "display_data"
    }
   ],
   "source": [
    "train_score = []\n",
    "test_score = []\n",
    "\n",
    "for neighbors in range(2, 30):\n",
    "    knn = KNeighborsClassifier(n_jobs= -1, n_neighbors=neighbors)\n",
    "    knn.fit(X_train, y_train)\n",
    "    train_score.append(knn.score(X_train, y_train))\n",
    "    test_score.append(knn.score(X_test, y_test))\n",
    "    \n",
    "plt.figure(dpi=100)\n",
    "plt.plot(range(2, 30), train_score, 'g', label=\"Train\")\n",
    "plt.plot(range(2, 30), test_score, 'b', label=\"Test\")\n",
    "plt.legend(loc='upper right')\n",
    "plt.xlabel(\"Max Neighbors\")\n",
    "plt.ylabel(\"Accuracy\");"
   ]
  },
  {
   "cell_type": "code",
   "execution_count": 128,
   "metadata": {},
   "outputs": [
    {
     "name": "stdout",
     "output_type": "stream",
     "text": [
      "                 precision    recall  f1-score   support\n",
      "\n",
      "  Activist Post       0.86      0.97      0.91        64\n",
      "  Alabama Today       0.99      0.92      0.95        79\n",
      "Associate Press       0.00      0.00      0.00         9\n",
      "      Breitbart       0.54      0.25      0.34        84\n",
      "    Daily Beast       0.83      0.55      0.66        69\n",
      "       Fox News       1.00      0.92      0.96        13\n",
      "Global Research       0.80      0.69      0.74        35\n",
      "Huffington Post       0.52      0.40      0.45        81\n",
      "      Info wars       0.40      0.50      0.45       108\n",
      "   Mother Jones       0.30      0.34      0.32       104\n",
      "National Review       0.65      0.72      0.69        83\n",
      "        Reuters       0.44      0.70      0.54        90\n",
      "\n",
      "    avg / total       0.59      0.58      0.57       819\n",
      "\n"
     ]
    },
    {
     "name": "stderr",
     "output_type": "stream",
     "text": [
      "/Users/NickThomas/Desktop/anaconda/lib/python3.6/site-packages/sklearn/metrics/classification.py:1135: UndefinedMetricWarning: Precision and F-score are ill-defined and being set to 0.0 in labels with no predicted samples.\n",
      "  'precision', 'predicted', average, warn_for)\n"
     ]
    }
   ],
   "source": [
    "model = SVC()\n",
    "model.fit(X_train, y_train)\n",
    "model.score(X_test, y_test)\n",
    "#print(\"Accuracy: %.3f\"% accuracy_score(y_test, model.predict(X_test)))\n",
    "print(classification_report(y_test, model.predict(X_test)))"
   ]
  },
  {
   "cell_type": "code",
   "execution_count": 153,
   "metadata": {},
   "outputs": [
    {
     "data": {
      "image/png": "[encoded data removed]",
      "text/plain": [
       "<Figure size 800x550 with 2 Axes>"
      ]
     },
     "metadata": {},
     "output_type": "display_data"
    }
   ],
   "source": [
    "names = ['Activist Post', 'Alabama Today', 'Associated Press', 'Breitbart', 'Daily Beast',\n",
    "       'Fox News', 'Global Research', 'Huffington Post',\n",
    "       'Info wars', 'Mother Jones', 'National Review', 'Reuters']\n",
    "plt.figure(dpi=100)\n",
    "cm = confusion_matrix(y_test, rf2.predict(X_test))\n",
    "plt.imshow(cm, cmap=plt.cm.Blues)\n",
    "plt.grid(False)\n",
    "plt.colorbar();\n",
    "plt.xticks([0,1,2,3,4,5,6, 7, 8, 9, 10, 11], ('ActP', 'AT', 'AP', 'B', 'DB',\n",
    "       'FN', 'GR', 'HP',\n",
    "       'IW', 'MJ', 'NR', 'R'))\n",
    "plt.yticks([0,1,2,3,4,5,6, 7, 8, 9, 10, 11], ('Activist Post', 'Alabama Today', 'Associated Press', 'Breitbart', 'Daily Beast',\n",
    "       'Fox News', 'Global Research', 'Huffington Post',\n",
    "       'Info wars', 'Mother Jones', 'National Review', 'Reuters'));\n",
    "plt.ylabel(\"True Source\")\n",
    "plt.xlabel(\"Predicted Source\");\n",
    "fmt = '.1f'\n",
    "thresh = cm.max() / 2.\n",
    "for i, j in itertools.product(range(cm.shape[0]), range(cm.shape[1])):\n",
    "    plt.text(j, i, format(cm[i, j]),#, fmt),\n",
    "             horizontalalignment=\"center\",\n",
    "             color=\"white\" if cm[i, j] > thresh else \"black\")"
   ]
  },
  {
   "cell_type": "code",
   "execution_count": 102,
   "metadata": {},
   "outputs": [
    {
     "name": "stdout",
     "output_type": "stream",
     "text": [
      "                 precision    recall  f1-score   support\n",
      "\n",
      "  Activist Post       0.92      0.95      0.94        64\n",
      "  Alabama Today       1.00      1.00      1.00        79\n",
      "Associate Press       1.00      0.44      0.62         9\n",
      "      Breitbart       0.66      0.35      0.45        84\n",
      "    Daily Beast       0.93      0.72      0.81        69\n",
      "       Fox News       1.00      1.00      1.00        13\n",
      "Global Research       0.91      0.89      0.90        35\n",
      "Huffington Post       0.61      0.47      0.53        81\n",
      "      Info wars       0.47      0.72      0.57       108\n",
      "   Mother Jones       0.61      0.66      0.64       104\n",
      "National Review       0.90      0.89      0.90        83\n",
      "        Reuters       0.80      0.90      0.85        90\n",
      "\n",
      "    avg / total       0.76      0.74      0.74       819\n",
      "\n"
     ]
    }
   ],
   "source": [
    "print(classification_report(y_test, rf2.predict(X_test)))"
   ]
  },
  {
   "cell_type": "code",
   "execution_count": 105,
   "metadata": {},
   "outputs": [
    {
     "data": {
      "text/plain": [
       "array([[13,  0,  0,  0,  0,  0,  0,  0,  0,  0,  0,  0],\n",
       "       [ 0, 74,  0,  0,  1,  1,  0,  0,  0,  1,  0,  1],\n",
       "       [ 0,  2, 29,  0,  0,  1,  6,  0,  0,  7,  2, 10],\n",
       "       [ 0,  0,  0,  0,  0,  0,  0,  0,  0,  0,  0,  0],\n",
       "       [ 0,  0,  0,  0, 31,  2,  0,  0,  0,  0,  0,  2],\n",
       "       [ 0,  0,  0,  0,  0, 61,  0,  0,  0,  1,  0,  1],\n",
       "       [ 0,  0,  3,  0,  0,  0, 81,  0,  0,  1,  1,  0],\n",
       "       [ 0,  0,  0,  0,  0,  0,  0,  0,  0,  0,  0,  0],\n",
       "       [ 0,  0,  0,  0,  0,  0,  0,  0, 79,  0,  0,  0],\n",
       "       [ 0,  0,  3,  0,  1,  0,  6,  0,  0, 38,  0, 15],\n",
       "       [ 0,  0,  1,  0,  0,  0,  1,  0,  0,  5, 50,  6],\n",
       "       [ 0,  1,  2,  0,  0,  1,  2,  0,  0,  3,  0, 69]])"
      ]
     },
     "execution_count": 105,
     "metadata": {},
     "output_type": "execute_result"
    }
   ],
   "source": [
    "cm"
   ]
  },
  {
   "cell_type": "code",
   "execution_count": 8,
   "metadata": {},
   "outputs": [
    {
     "data": {
      "image/png": "[encoded data removed]",
      "text/plain": [
       "<Figure size 750x500 with 2 Axes>"
      ]
     },
     "metadata": {},
     "output_type": "display_data"
    }
   ],
   "source": [
    "names = ['Fox News', 'National Review', 'Breitbart', 'Info wars', 'Global Research',\n",
    "       'Activist Post', 'Reuters', 'Associate Press',\n",
    "       'Alabama Today', 'Huffington Post', 'Daily Beast', 'Mother Jones']\n",
    "plt.figure(dpi=125)\n",
    "cm = confusion_matrix(y_test, rf2.predict(X_test), labels =names)\n",
    "plt.imshow(cm, cmap=plt.cm.Blues)\n",
    "plt.grid(False)\n",
    "plt.colorbar();\n",
    "plt.xticks([0, 1, 2, 3, 4, 5, 6, 7, 8, 9, 10, 11], ('FN', 'NR', 'B', 'IW', 'GR',\n",
    "       'ActP', 'R', 'AP',\n",
    "       'AT', 'HP', 'DB', 'MJ'))\n",
    "plt.yticks([0, 1, 2, 3, 4, 5, 6, 7, 8, 9, 10, 11], ('Fox News', 'National Review', 'Breitbart', 'Info wars', 'Global Research',\n",
    "       'Activist Post', 'Reuters', 'Associated Press',\n",
    "       'Alabama Today', 'Huffington Post', 'Daily Beast', 'Mother Jones'));\n",
    "plt.ylabel(\"True Source\")\n",
    "plt.xlabel(\"Predicted Source\");\n",
    "fmt = '.1f'\n",
    "thresh = cm.max() / 2.\n",
    "for i, j in itertools.product(range(cm.shape[0]), range(cm.shape[1])):\n",
    "    plt.text(j, i, format(cm[i, j]),#, fmt),\n",
    "             horizontalalignment=\"center\",\n",
    "             color=\"white\" if cm[i, j] > thresh else \"black\")"
   ]
  },
  {
   "cell_type": "code",
   "execution_count": 54,
   "metadata": {},
   "outputs": [
    {
     "data": {
      "image/png": "[encoded data removed]",
      "text/plain": [
       "<Figure size 800x550 with 2 Axes>"
      ]
     },
     "metadata": {},
     "output_type": "display_data"
    }
   ],
   "source": [
    "names = ['Fox News', 'National Review', 'Breitbart', 'Info wars', 'Global Research',\n",
    "       'Activist Post', 'Reuters', 'Associate Press',\n",
    "       'Alabama Today', 'Huffington Post', 'Daily Beast', 'Mother Jones']\n",
    "plt.figure(dpi=100)\n",
    "cm = confusion_matrix(y_test, rf2.predict(X_test), labels =names)\n",
    "plt.imshow(cm, cmap=plt.cm.Blues)\n",
    "plt.grid(False)\n",
    "plt.colorbar();\n",
    "plt.xticks([0, 1, 2, 3, 4, 5, 6, 7, 8, 9, 10, 11], ('FN', 'NR', 'B', 'IW', 'GR',\n",
    "       'ActP', 'R', 'AP',\n",
    "       'AT', 'HP', 'DB', 'MJ'))\n",
    "plt.yticks([0, 1, 2, 3, 4, 5, 6, 7, 8, 9, 10, 11], ('Fox News', 'National Review', 'Breitbart', 'Info wars', 'Global Research',\n",
    "       'Activist Post', 'Reuters', 'Associated Press',\n",
    "       'Alabama Today', 'Huffington Post', 'Daily Beast', 'Mother Jones'));\n",
    "plt.ylabel(\"True Source\")\n",
    "plt.xlabel(\"Predicted Source\");\n",
    "fmt = '.1f'\n",
    "thresh = cm.max() / 2.\n",
    "for i, j in itertools.product(range(cm.shape[0]), range(cm.shape[1])):\n",
    "    plt.text(j, i, format(cm[i, j]),#, fmt),\n",
    "             horizontalalignment=\"center\",\n",
    "             color=\"white\" if cm[i, j] > thresh else \"black\")"
   ]
  },
  {
   "cell_type": "code",
   "execution_count": 155,
   "metadata": {},
   "outputs": [
    {
     "data": {
      "text/plain": [
       "array(['National Review', 'Activist Post', 'Huffington Post', 'Info wars',\n",
       "       'Global Research', 'Daily Beast', 'Alabama Today', 'Mother Jones',\n",
       "       'Fox News', 'Reuters', 'Breitbart', 'Associate Press'],\n",
       "      dtype=object)"
      ]
     },
     "execution_count": 155,
     "metadata": {},
     "output_type": "execute_result"
    }
   ],
   "source": [
    "y_test.unique()"
   ]
  },
  {
   "cell_type": "code",
   "execution_count": 75,
   "metadata": {},
   "outputs": [],
   "source": [
    "km = KMeans(n_clusters=300)\n",
    "clusts = km.fit_predict(corpus_lsa)"
   ]
  },
  {
   "cell_type": "code",
   "execution_count": 78,
   "metadata": {},
   "outputs": [
    {
     "data": {
      "text/plain": [
       "('Normalizer', Normalizer(copy=False, norm='l2'))"
      ]
     },
     "execution_count": 78,
     "metadata": {},
     "output_type": "execute_result"
    }
   ],
   "source": [
    "pipe = Pipeline(steps=[('tfidf', tfidf), ('lsa', lsa), ('Normalizer', Normalizer(copy=False)), ('km', km), ('rf2', rf2)])\n",
    "pipe.steps[2]\n"
   ]
  },
  {
   "cell_type": "code",
   "execution_count": 18,
   "metadata": {},
   "outputs": [
    {
     "ename": "NameError",
     "evalue": "name 'new' is not defined",
     "output_type": "error",
     "traceback": [
      "\u001b[0;31m---------------------------------------------------------------------------\u001b[0m",
      "\u001b[0;31mNameError\u001b[0m                                 Traceback (most recent call last)",
      "\u001b[0;32m<ipython-input-18-07dbc26d1b1b>\u001b[0m in \u001b[0;36m<module>\u001b[0;34m()\u001b[0m\n\u001b[0;32m----> 1\u001b[0;31m \u001b[0mX2\u001b[0m \u001b[0;34m=\u001b[0m \u001b[0mnew\u001b[0m\u001b[0;34m\u001b[0m\u001b[0m\n\u001b[0m\u001b[1;32m      2\u001b[0m \u001b[0my2\u001b[0m \u001b[0;34m=\u001b[0m \u001b[0mtrue_df\u001b[0m\u001b[0;34m.\u001b[0m\u001b[0msource\u001b[0m\u001b[0;34m\u001b[0m\u001b[0m\n\u001b[1;32m      3\u001b[0m \u001b[0mX2_train\u001b[0m\u001b[0;34m,\u001b[0m \u001b[0mX2_test\u001b[0m\u001b[0;34m,\u001b[0m \u001b[0my2_train\u001b[0m\u001b[0;34m,\u001b[0m \u001b[0my2_test\u001b[0m \u001b[0;34m=\u001b[0m \u001b[0mtrain_test_split\u001b[0m\u001b[0;34m(\u001b[0m\u001b[0mX\u001b[0m\u001b[0;34m,\u001b[0m \u001b[0my\u001b[0m\u001b[0;34m,\u001b[0m \u001b[0mtest_size\u001b[0m\u001b[0;34m=\u001b[0m\u001b[0;36m0.2\u001b[0m\u001b[0;34m,\u001b[0m \u001b[0mrandom_state\u001b[0m\u001b[0;34m=\u001b[0m\u001b[0;36m42\u001b[0m\u001b[0;34m)\u001b[0m\u001b[0;34m\u001b[0m\u001b[0m\n",
      "\u001b[0;31mNameError\u001b[0m: name 'new' is not defined"
     ]
    }
   ],
   "source": []
  },
  {
   "cell_type": "code",
   "execution_count": 112,
   "metadata": {},
   "outputs": [
    {
     "data": {
      "text/plain": [
       "array(['Daily Beast'], dtype=object)"
      ]
     },
     "execution_count": 112,
     "metadata": {},
     "output_type": "execute_result"
    }
   ],
   "source": [
    "rf2.predict(125)"
   ]
  },
  {
   "cell_type": "code",
   "execution_count": 58,
   "metadata": {},
   "outputs": [
    {
     "data": {
      "text/plain": [
       "Pipeline(memory=None,\n",
       "     steps=[('tfidf', TfidfVectorizer(analyzer='word', binary=False, decode_error='strict',\n",
       "        dtype=<class 'numpy.int64'>, encoding='utf-8', input='content',\n",
       "        lowercase=True, max_df=0.6, max_features=None, min_df=1,\n",
       "        ngram_range=(1, 4), norm='l2', preprocessor=None, smooth_idf=True,\n",
       " ...0, n_init=10, n_jobs=1, precompute_distances='auto',\n",
       "    random_state=None, tol=0.0001, verbose=0))])"
      ]
     },
     "execution_count": 58,
     "metadata": {},
     "output_type": "execute_result"
    }
   ],
   "source": [
    "#_ = Normalizer(copy=False).fit_transform(lsa.fit_transform(tfidf.fit_transform(how_can_this_happen)))\n",
    "#pipe.fit(how_can_this_happen)"
   ]
  },
  {
   "cell_type": "code",
   "execution_count": 69,
   "metadata": {},
   "outputs": [],
   "source": [
    "book = [{'body': \"\"\"Benghazi, Libya – Lending credence to the theory that ISIS operates as a strategic asset of the Israeli Mossad, Libyan security forces have arrested an ISIS leader in the north-eastern Libyan city of Benghazi – who just so happens to be a Mossad agent.\n",
    "\n",
    "The man arrested, Ephraim Benjamin, was allegedly an Israeli Mossad agent who began his operation following the 2011 toppling of the Libyan government that resulted in the murder of Libyan President Moammar Ghaddafi, according to the Israeli website Inian Merkazi, which translates to “Central Issues.”\n",
    "\n",
    "The Mossad agent reportedly held a leading position in ISIS after mingling with Libyans during the fall of Ghaddafi. He then became a prominent imam of a large mosque in Benghazi, Libya’s second largest city, before becoming a ISIS leader who commanded a contingent of upwards of 200 terrorists.\n",
    "\n",
    "Known in Libya as Abu Hafs, the Mossad agent was arrested and accused by Libyan authorities of gathering intelligence information for the Israeli government.\n",
    "\n",
    "It is believed that Benjamin, aka Hafs, was a Mossad “Arabist,” which are undercover Israeli spies with Arab features, and who speak fluent Arabic in local dialects, according to the Masr Alarabia website.\n",
    "\n",
    "The Mossad has a long history of utilizing “Arabists” to infiltrate Palestinian protests and arrest demonstrators as well as assassinating Palestinian anti-occupation activists, according to Masr Alarabia.\n",
    "\n",
    "Libyan media outlets describe Benjamin as the “Mossad sheikh” who was arrested by local authorities.\n",
    "\n",
    "Inian Merkazi cited the incident as evidence used by Arab media to justify the argument — popular in much of the Arab world — that Israel is complicit in the rise of ISIS in the region and uses the group as a strategic asset.\n",
    "\n",
    "Additionally, the fact that ISIS has never so much as attempted an attack within the state of Israel bolsters that line of thinking.\n",
    "\n",
    "ISIS is popularly believed to have begun official operations within Libya in February of 2015 by beheading 21 Egyptian Coptic Christians in the city of Sirte, but terror operations were believed to have been committed by the terrorist group prior to that date.\n",
    "\n",
    "Seemingly confirming an Israel-ISIS connection, a 15-page report by U.N. Secretary-General Ban Ki-moon on the work of the U.N. Disengagement Observer Force revealed that the Israeli Defense Forces (IDF) maintained regular contact with the Islamic State since May of 2013.\n",
    "\n",
    "While initial reports by the IDF claimed they provided medical care for civilians on the Israeli-Syrian border, UN observers confirmed direct contact between ISIS and IDF soldiers – which included, but was not limited to, medical care.\n",
    "\n",
    "“Throughout the reporting period, UNDOF frequently observed armed members of the opposition interacting with the IDF across the cease-fire line,” according to the report. “On one occasion UNDOF observed the IDF on the Alpha side [inside Israel] handing over two boxes to armed opposition on the Bravo side [inside Syria].”\n",
    "These activities in concert seem to indicate a coordinated and ongoing support of the Islamic State by Israel. Essentially, the Israelis are utilizing ISIS as a proxy force in an effort to topple the Assad government.\n",
    "\n",
    "Tellingly, when the U.S. began operations against the Islamic State, the Israeli high command was reluctant to support the move and called the actions of the United States a mistake.\n",
    "\n",
    "For those not understanding why Israel would support ISIS, it comes down to geopolitical strategy. The Israeli government perceives allies Iran and Syria as direct threats to the Jewish state, as both maintain significant regional military capabilities and political clout.\n",
    "\n",
    "Israel’s support for ISIS would seem to confirm that they believe in the old adage, “the enemy of my enemy is my friend.”\n",
    "\n",
    "In this particular circumstance support for the Islamic State equates to Israel eliminating geopolitical rival Syria – under Bashar al-Assad – which would then negate Iranian influence in the region.\n",
    "\n",
    "It comes down to the simple fact that ISIS is a useful tool for Israel to impose it’s geopolitical will, without having to directly involve themselves in a hot conflict, thus seeming as if they are uninvolved in the conflict.\n",
    "\n",
    "Once the Syrian government has been toppled, and Iranian influence on the Israeli border largely negated, Israel could then set its sights on the Islamic State – provided they were no longer of use to the Jewish state.\n",
    "\n",
    "While states such as Israel and the United States often loudly proclaim to be against terrorism, in reality, both governments utilize terrorist groups, such as ISIS and al-Qaeda, to undermine regimes they wish to overthrow or gain influence within.\n",
    "\n",
    "Please share this article to expose the complicity of states such as Israel and the United States in fomenting Islamic terrorism!\n",
    "\"\"\"}]"
   ]
  },
  {
   "cell_type": "code",
   "execution_count": 70,
   "metadata": {},
   "outputs": [],
   "source": [
    "book_df = pd.DataFrame.from_dict(book)"
   ]
  },
  {
   "cell_type": "code",
   "execution_count": 71,
   "metadata": {},
   "outputs": [
    {
     "ename": "AttributeError",
     "evalue": "'list' object has no attribute 'words'",
     "output_type": "error",
     "traceback": [
      "\u001b[0;31m---------------------------------------------------------------------------\u001b[0m",
      "\u001b[0;31mAttributeError\u001b[0m                            Traceback (most recent call last)",
      "\u001b[0;32m<ipython-input-71-a5640d8be8c1>\u001b[0m in \u001b[0;36m<module>\u001b[0;34m()\u001b[0m\n\u001b[0;32m----> 1\u001b[0;31m \u001b[0mstopwords\u001b[0m \u001b[0;34m=\u001b[0m \u001b[0mstopwords\u001b[0m\u001b[0;34m.\u001b[0m\u001b[0mwords\u001b[0m\u001b[0;34m(\u001b[0m\u001b[0;34m)\u001b[0m\u001b[0;34m\u001b[0m\u001b[0m\n\u001b[0m",
      "\u001b[0;31mAttributeError\u001b[0m: 'list' object has no attribute 'words'"
     ]
    }
   ],
   "source": [
    "stopwords = stopwords.words()"
   ]
  },
  {
   "cell_type": "code",
   "execution_count": 72,
   "metadata": {},
   "outputs": [
    {
     "name": "stdout",
     "output_type": "stream",
     "text": [
      "0.02 %\n"
     ]
    }
   ],
   "source": [
    "cleaned_text = clean_text(book_df.body)"
   ]
  },
  {
   "cell_type": "code",
   "execution_count": 73,
   "metadata": {},
   "outputs": [
    {
     "name": "stdout",
     "output_type": "stream",
     "text": [
      "0.02\n"
     ]
    }
   ],
   "source": [
    "let_do_this = drop_nouns(cleaned_text)"
   ]
  },
  {
   "cell_type": "code",
   "execution_count": 65,
   "metadata": {},
   "outputs": [
    {
     "ename": "AttributeError",
     "evalue": "'Pipeline' object has no attribute 'shape'",
     "output_type": "error",
     "traceback": [
      "\u001b[0;31m---------------------------------------------------------------------------\u001b[0m",
      "\u001b[0;31mAttributeError\u001b[0m                            Traceback (most recent call last)",
      "\u001b[0;32m<ipython-input-65-21643888eeb7>\u001b[0m in \u001b[0;36m<module>\u001b[0;34m()\u001b[0m\n\u001b[0;32m----> 1\u001b[0;31m \u001b[0mpipe\u001b[0m\u001b[0;34m.\u001b[0m\u001b[0mshape\u001b[0m\u001b[0;34m\u001b[0m\u001b[0m\n\u001b[0m",
      "\u001b[0;31mAttributeError\u001b[0m: 'Pipeline' object has no attribute 'shape'"
     ]
    }
   ],
   "source": []
  },
  {
   "cell_type": "code",
   "execution_count": 79,
   "metadata": {},
   "outputs": [
    {
     "ename": "ValueError",
     "evalue": "dimension mismatch",
     "output_type": "error",
     "traceback": [
      "\u001b[0;31m---------------------------------------------------------------------------\u001b[0m",
      "\u001b[0;31mValueError\u001b[0m                                Traceback (most recent call last)",
      "\u001b[0;32m<ipython-input-79-ded7ada4f2eb>\u001b[0m in \u001b[0;36m<module>\u001b[0;34m()\u001b[0m\n\u001b[0;32m----> 1\u001b[0;31m \u001b[0mnew\u001b[0m \u001b[0;34m=\u001b[0m \u001b[0mpipe\u001b[0m\u001b[0;34m.\u001b[0m\u001b[0mpredict\u001b[0m\u001b[0;34m(\u001b[0m\u001b[0mlet_do_this\u001b[0m\u001b[0;34m)\u001b[0m\u001b[0;34m\u001b[0m\u001b[0m\n\u001b[0m",
      "\u001b[0;32m~/Desktop/anaconda/lib/python3.6/site-packages/sklearn/utils/metaestimators.py\u001b[0m in \u001b[0;36m<lambda>\u001b[0;34m(*args, **kwargs)\u001b[0m\n\u001b[1;32m    113\u001b[0m \u001b[0;34m\u001b[0m\u001b[0m\n\u001b[1;32m    114\u001b[0m         \u001b[0;31m# lambda, but not partial, allows help() to work with update_wrapper\u001b[0m\u001b[0;34m\u001b[0m\u001b[0;34m\u001b[0m\u001b[0m\n\u001b[0;32m--> 115\u001b[0;31m         \u001b[0mout\u001b[0m \u001b[0;34m=\u001b[0m \u001b[0;32mlambda\u001b[0m \u001b[0;34m*\u001b[0m\u001b[0margs\u001b[0m\u001b[0;34m,\u001b[0m \u001b[0;34m**\u001b[0m\u001b[0mkwargs\u001b[0m\u001b[0;34m:\u001b[0m \u001b[0mself\u001b[0m\u001b[0;34m.\u001b[0m\u001b[0mfn\u001b[0m\u001b[0;34m(\u001b[0m\u001b[0mobj\u001b[0m\u001b[0;34m,\u001b[0m \u001b[0;34m*\u001b[0m\u001b[0margs\u001b[0m\u001b[0;34m,\u001b[0m \u001b[0;34m**\u001b[0m\u001b[0mkwargs\u001b[0m\u001b[0;34m)\u001b[0m\u001b[0;34m\u001b[0m\u001b[0m\n\u001b[0m\u001b[1;32m    116\u001b[0m         \u001b[0;31m# update the docstring of the returned function\u001b[0m\u001b[0;34m\u001b[0m\u001b[0;34m\u001b[0m\u001b[0m\n\u001b[1;32m    117\u001b[0m         \u001b[0mupdate_wrapper\u001b[0m\u001b[0;34m(\u001b[0m\u001b[0mout\u001b[0m\u001b[0;34m,\u001b[0m \u001b[0mself\u001b[0m\u001b[0;34m.\u001b[0m\u001b[0mfn\u001b[0m\u001b[0;34m)\u001b[0m\u001b[0;34m\u001b[0m\u001b[0m\n",
      "\u001b[0;32m~/Desktop/anaconda/lib/python3.6/site-packages/sklearn/pipeline.py\u001b[0m in \u001b[0;36mpredict\u001b[0;34m(self, X)\u001b[0m\n\u001b[1;32m    304\u001b[0m         \u001b[0;32mfor\u001b[0m \u001b[0mname\u001b[0m\u001b[0;34m,\u001b[0m \u001b[0mtransform\u001b[0m \u001b[0;32min\u001b[0m \u001b[0mself\u001b[0m\u001b[0;34m.\u001b[0m\u001b[0msteps\u001b[0m\u001b[0;34m[\u001b[0m\u001b[0;34m:\u001b[0m\u001b[0;34m-\u001b[0m\u001b[0;36m1\u001b[0m\u001b[0;34m]\u001b[0m\u001b[0;34m:\u001b[0m\u001b[0;34m\u001b[0m\u001b[0m\n\u001b[1;32m    305\u001b[0m             \u001b[0;32mif\u001b[0m \u001b[0mtransform\u001b[0m \u001b[0;32mis\u001b[0m \u001b[0;32mnot\u001b[0m \u001b[0;32mNone\u001b[0m\u001b[0;34m:\u001b[0m\u001b[0;34m\u001b[0m\u001b[0m\n\u001b[0;32m--> 306\u001b[0;31m                 \u001b[0mXt\u001b[0m \u001b[0;34m=\u001b[0m \u001b[0mtransform\u001b[0m\u001b[0;34m.\u001b[0m\u001b[0mtransform\u001b[0m\u001b[0;34m(\u001b[0m\u001b[0mXt\u001b[0m\u001b[0;34m)\u001b[0m\u001b[0;34m\u001b[0m\u001b[0m\n\u001b[0m\u001b[1;32m    307\u001b[0m         \u001b[0;32mreturn\u001b[0m \u001b[0mself\u001b[0m\u001b[0;34m.\u001b[0m\u001b[0msteps\u001b[0m\u001b[0;34m[\u001b[0m\u001b[0;34m-\u001b[0m\u001b[0;36m1\u001b[0m\u001b[0;34m]\u001b[0m\u001b[0;34m[\u001b[0m\u001b[0;34m-\u001b[0m\u001b[0;36m1\u001b[0m\u001b[0;34m]\u001b[0m\u001b[0;34m.\u001b[0m\u001b[0mpredict\u001b[0m\u001b[0;34m(\u001b[0m\u001b[0mXt\u001b[0m\u001b[0;34m)\u001b[0m\u001b[0;34m\u001b[0m\u001b[0m\n\u001b[1;32m    308\u001b[0m \u001b[0;34m\u001b[0m\u001b[0m\n",
      "\u001b[0;32m~/Desktop/anaconda/lib/python3.6/site-packages/sklearn/decomposition/truncated_svd.py\u001b[0m in \u001b[0;36mtransform\u001b[0;34m(self, X)\u001b[0m\n\u001b[1;32m    209\u001b[0m         \"\"\"\n\u001b[1;32m    210\u001b[0m         \u001b[0mX\u001b[0m \u001b[0;34m=\u001b[0m \u001b[0mcheck_array\u001b[0m\u001b[0;34m(\u001b[0m\u001b[0mX\u001b[0m\u001b[0;34m,\u001b[0m \u001b[0maccept_sparse\u001b[0m\u001b[0;34m=\u001b[0m\u001b[0;34m'csr'\u001b[0m\u001b[0;34m)\u001b[0m\u001b[0;34m\u001b[0m\u001b[0m\n\u001b[0;32m--> 211\u001b[0;31m         \u001b[0;32mreturn\u001b[0m \u001b[0msafe_sparse_dot\u001b[0m\u001b[0;34m(\u001b[0m\u001b[0mX\u001b[0m\u001b[0;34m,\u001b[0m \u001b[0mself\u001b[0m\u001b[0;34m.\u001b[0m\u001b[0mcomponents_\u001b[0m\u001b[0;34m.\u001b[0m\u001b[0mT\u001b[0m\u001b[0;34m)\u001b[0m\u001b[0;34m\u001b[0m\u001b[0m\n\u001b[0m\u001b[1;32m    212\u001b[0m \u001b[0;34m\u001b[0m\u001b[0m\n\u001b[1;32m    213\u001b[0m     \u001b[0;32mdef\u001b[0m \u001b[0minverse_transform\u001b[0m\u001b[0;34m(\u001b[0m\u001b[0mself\u001b[0m\u001b[0;34m,\u001b[0m \u001b[0mX\u001b[0m\u001b[0;34m)\u001b[0m\u001b[0;34m:\u001b[0m\u001b[0;34m\u001b[0m\u001b[0m\n",
      "\u001b[0;32m~/Desktop/anaconda/lib/python3.6/site-packages/sklearn/utils/extmath.py\u001b[0m in \u001b[0;36msafe_sparse_dot\u001b[0;34m(a, b, dense_output)\u001b[0m\n\u001b[1;32m    133\u001b[0m     \"\"\"\n\u001b[1;32m    134\u001b[0m     \u001b[0;32mif\u001b[0m \u001b[0missparse\u001b[0m\u001b[0;34m(\u001b[0m\u001b[0ma\u001b[0m\u001b[0;34m)\u001b[0m \u001b[0;32mor\u001b[0m \u001b[0missparse\u001b[0m\u001b[0;34m(\u001b[0m\u001b[0mb\u001b[0m\u001b[0;34m)\u001b[0m\u001b[0;34m:\u001b[0m\u001b[0;34m\u001b[0m\u001b[0m\n\u001b[0;32m--> 135\u001b[0;31m         \u001b[0mret\u001b[0m \u001b[0;34m=\u001b[0m \u001b[0ma\u001b[0m \u001b[0;34m*\u001b[0m \u001b[0mb\u001b[0m\u001b[0;34m\u001b[0m\u001b[0m\n\u001b[0m\u001b[1;32m    136\u001b[0m         \u001b[0;32mif\u001b[0m \u001b[0mdense_output\u001b[0m \u001b[0;32mand\u001b[0m \u001b[0mhasattr\u001b[0m\u001b[0;34m(\u001b[0m\u001b[0mret\u001b[0m\u001b[0;34m,\u001b[0m \u001b[0;34m\"toarray\"\u001b[0m\u001b[0;34m)\u001b[0m\u001b[0;34m:\u001b[0m\u001b[0;34m\u001b[0m\u001b[0m\n\u001b[1;32m    137\u001b[0m             \u001b[0mret\u001b[0m \u001b[0;34m=\u001b[0m \u001b[0mret\u001b[0m\u001b[0;34m.\u001b[0m\u001b[0mtoarray\u001b[0m\u001b[0;34m(\u001b[0m\u001b[0;34m)\u001b[0m\u001b[0;34m\u001b[0m\u001b[0m\n",
      "\u001b[0;32m~/Desktop/anaconda/lib/python3.6/site-packages/scipy/sparse/base.py\u001b[0m in \u001b[0;36m__mul__\u001b[0;34m(self, other)\u001b[0m\n\u001b[1;32m    513\u001b[0m \u001b[0;34m\u001b[0m\u001b[0m\n\u001b[1;32m    514\u001b[0m             \u001b[0;32mif\u001b[0m \u001b[0mother\u001b[0m\u001b[0;34m.\u001b[0m\u001b[0mshape\u001b[0m\u001b[0;34m[\u001b[0m\u001b[0;36m0\u001b[0m\u001b[0;34m]\u001b[0m \u001b[0;34m!=\u001b[0m \u001b[0mself\u001b[0m\u001b[0;34m.\u001b[0m\u001b[0mshape\u001b[0m\u001b[0;34m[\u001b[0m\u001b[0;36m1\u001b[0m\u001b[0;34m]\u001b[0m\u001b[0;34m:\u001b[0m\u001b[0;34m\u001b[0m\u001b[0m\n\u001b[0;32m--> 515\u001b[0;31m                 \u001b[0;32mraise\u001b[0m \u001b[0mValueError\u001b[0m\u001b[0;34m(\u001b[0m\u001b[0;34m'dimension mismatch'\u001b[0m\u001b[0;34m)\u001b[0m\u001b[0;34m\u001b[0m\u001b[0m\n\u001b[0m\u001b[1;32m    516\u001b[0m \u001b[0;34m\u001b[0m\u001b[0m\n\u001b[1;32m    517\u001b[0m             \u001b[0mresult\u001b[0m \u001b[0;34m=\u001b[0m \u001b[0mself\u001b[0m\u001b[0;34m.\u001b[0m\u001b[0m_mul_multivector\u001b[0m\u001b[0;34m(\u001b[0m\u001b[0mnp\u001b[0m\u001b[0;34m.\u001b[0m\u001b[0masarray\u001b[0m\u001b[0;34m(\u001b[0m\u001b[0mother\u001b[0m\u001b[0;34m)\u001b[0m\u001b[0;34m)\u001b[0m\u001b[0;34m\u001b[0m\u001b[0m\n",
      "\u001b[0;31mValueError\u001b[0m: dimension mismatch"
     ]
    }
   ],
   "source": [
    "new = pipe.predict(let_do_this)"
   ]
  },
  {
   "cell_type": "code",
   "execution_count": 118,
   "metadata": {},
   "outputs": [],
   "source": [
    "num = new_clust"
   ]
  },
  {
   "cell_type": "code",
   "execution_count": null,
   "metadata": {},
   "outputs": [],
   "source": [
    "X = new\n",
    "y = true_df.source\n",
    "X_train, X_test, y_train, y_test = train_test_split(X, y, test_size=0.2, random_state=42)"
   ]
  },
  {
   "cell_type": "code",
   "execution_count": 119,
   "metadata": {},
   "outputs": [],
   "source": [
    "num = num.reshape(-1, 1)\n",
    "predict = dt.predict(num)"
   ]
  },
  {
   "cell_type": "code",
   "execution_count": 120,
   "metadata": {},
   "outputs": [
    {
     "name": "stdout",
     "output_type": "stream",
     "text": [
      "['Global Research']\n"
     ]
    }
   ],
   "source": [
    "print(predict)"
   ]
  },
  {
   "cell_type": "code",
   "execution_count": 121,
   "metadata": {},
   "outputs": [
    {
     "data": {
      "text/plain": [
       "0"
      ]
     },
     "execution_count": 121,
     "metadata": {},
     "output_type": "execute_result"
    }
   ],
   "source": [
    "os.system('say \"It\\'s over......Snake\"')"
   ]
  },
  {
   "cell_type": "code",
   "execution_count": 36,
   "metadata": {},
   "outputs": [
    {
     "data": {
      "text/plain": [
       "array(['Reuters', 'Breitbart', 'Huffington Post', 'Info wars',\n",
       "       'Mother Jones', 'National Review', 'Alabama Today',\n",
       "       'Activist Post', 'Daily Beast', 'Global Research',\n",
       "       'Associate Press', 'Fox News'], dtype=object)"
      ]
     },
     "execution_count": 36,
     "metadata": {},
     "output_type": "execute_result"
    }
   ],
   "source": [
    "true_df.source.unique()"
   ]
  },
  {
   "cell_type": "code",
   "execution_count": 122,
   "metadata": {},
   "outputs": [
    {
     "name": "stdout",
     "output_type": "stream",
     "text": [
      "Predictions:\n",
      "Video Game review of God of War: Reuters\n",
      "Daily Beast article: Mother Jones\n",
      "Fox News article: Info Wars\n",
      "Reuters article: Mother Jones\n",
      "Info Wars article: Info Wars\n",
      "Aljazzera article: Mother Jones\n",
      "New York Post article: Mother Jones\n",
      "Anti-News article: Global Research\n"
     ]
    }
   ],
   "source": [
    "print(\"Predictions:\")\n",
    "print(\"Video Game review of God of War: Reuters\")\n",
    "print(\"Daily Beast article: Mother Jones\")\n",
    "print(\"Fox News article: Info Wars\")\n",
    "print(\"Reuters article: Mother Jones\")\n",
    "print(\"Info Wars article: Info Wars\")\n",
    "print(\"Aljazzera article: Mother Jones\")\n",
    "print(\"New York Post article: Mother Jones\")\n",
    "print(\"Anti-News article: Global Research\")"
   ]
  },
  {
   "cell_type": "code",
   "execution_count": 57,
   "metadata": {},
   "outputs": [
    {
     "data": {
      "image/png": "[encoded data removed]",
      "text/plain": [
       "<Figure size 800x550 with 1 Axes>"
      ]
     },
     "metadata": {},
     "output_type": "display_data"
    }
   ],
   "source": [
    "train_score = []\n",
    "test_score = []\n",
    "\n",
    "for depth in range(1, 75):\n",
    "    rf2 = RandomForestClassifier(n_estimators=depth)\n",
    "    rf2.fit(X_train, y_train)\n",
    "    train_score.append(rf2.score(X_train, y_train))\n",
    "    test_score.append(rf2.score(X_test, y_test))\n",
    "    \n",
    "plt.figure(dpi=100)\n",
    "plt.plot(range(1, 75), train_score, 'g', label=\"Train\")\n",
    "plt.plot(range(1, 75), test_score, 'b', label=\"Test\")\n",
    "plt.legend(loc='upper right')\n",
    "plt.xlabel(\"n estimators in Tree\")\n",
    "plt.ylabel(\"Accuracy\");"
   ]
  },
  {
   "cell_type": "code",
   "execution_count": 5,
   "metadata": {},
   "outputs": [
    {
     "ename": "AttributeError",
     "evalue": "'numpy.ndarray' object has no attribute 'head'",
     "output_type": "error",
     "traceback": [
      "\u001b[0;31m---------------------------------------------------------------------------\u001b[0m",
      "\u001b[0;31mAttributeError\u001b[0m                            Traceback (most recent call last)",
      "\u001b[0;32m<ipython-input-5-d91d02f00f36>\u001b[0m in \u001b[0;36m<module>\u001b[0;34m()\u001b[0m\n\u001b[0;32m----> 1\u001b[0;31m \u001b[0mcorpus_lsa\u001b[0m\u001b[0;34m.\u001b[0m\u001b[0mhead\u001b[0m\u001b[0;34m(\u001b[0m\u001b[0;34m)\u001b[0m\u001b[0;34m\u001b[0m\u001b[0m\n\u001b[0m",
      "\u001b[0;31mAttributeError\u001b[0m: 'numpy.ndarray' object has no attribute 'head'"
     ]
    }
   ],
   "source": [
    "corpus_lsa"
   ]
  },
  {
   "cell_type": "code",
   "execution_count": null,
   "metadata": {},
   "outputs": [],
   "source": [
    "true_df.to_csv()\n"
   ]
  }
 ],
 "metadata": {
  "kernelspec": {
   "display_name": "Python 3",
   "language": "python",
   "name": "python3"
  },
  "language_info": {
   "codemirror_mode": {
    "name": "ipython",
    "version": 3
   },
   "file_extension": ".py",
   "mimetype": "text/x-python",
   "name": "python",
   "nbconvert_exporter": "python",
   "pygments_lexer": "ipython3",
   "version": "3.6.5"
  }
 },
 "nbformat": 4,
 "nbformat_minor": 2
}
