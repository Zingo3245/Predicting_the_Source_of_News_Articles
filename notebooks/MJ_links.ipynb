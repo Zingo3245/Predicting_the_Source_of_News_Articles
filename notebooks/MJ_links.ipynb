{
 "cells": [
  {
   "cell_type": "code",
   "execution_count": 4,
   "metadata": {},
   "outputs": [],
   "source": [
    "import requests\n",
    "from bs4 import BeautifulSoup\n",
    "import re\n",
    "#The basics\n",
    "import numpy as np\n",
    "import pandas as pd\n",
    "\n",
    "#Get them web sites\n",
    "import requests\n",
    "\n",
    "#Save files\n",
    "import pickle\n",
    "\n",
    "#Make sure slenium works\n",
    "from selenium import webdriver\n",
    "from selenium.webdriver.common.keys import Keys\n",
    "import time\n",
    "import os\n",
    "\n",
    "#Start the google driver\n",
    "chromedriver = \"/Applications/chromedriver\"\n",
    "os.environ[\"webdriver.chrome.driver\"] = chromedriver\n",
    "#For inserting articles into Mongodb\n",
    "from pymongo import MongoClient"
   ]
  },
  {
   "cell_type": "code",
   "execution_count": 1,
   "metadata": {},
   "outputs": [],
   "source": [
    "def get_case_links_from_html(html):\n",
    "\n",
    "    soup = BeautifulSoup(html, 'lxml')\n",
    "    return list(set(article['href'] for article in soup.find_all('a', rel='bookmark')))\n",
    "\n",
    "def get_case_links_from_page(page_num, driver):\n",
    "    url = url_generator(page_num)\n",
    "    driver.get(url)\n",
    "    time.sleep(1)\n",
    "    html = driver.page_source\n",
    "    return get_case_links_from_html(html)"
   ]
  },
  {
   "cell_type": "code",
   "execution_count": 2,
   "metadata": {},
   "outputs": [],
   "source": [
    "current_url = 'https://www.motherjones.com/politics/'\n",
    "next_url    = 'https://www.motherjones.com/politics/page/2/'\n",
    "\n",
    "def url_generator(page_num):\n",
    "    return 'https://www.motherjones.com/politics/page/{}/'.format(page_num)"
   ]
  },
  {
   "cell_type": "code",
   "execution_count": 6,
   "metadata": {},
   "outputs": [],
   "source": [
    "driver = webdriver.Chrome(chromedriver)\n",
    "driver.get(current_url)\n",
    "time.sleep(1)\n",
    "soup = BeautifulSoup(driver.page_source, 'lxml')"
   ]
  },
  {
   "cell_type": "code",
   "execution_count": 9,
   "metadata": {},
   "outputs": [],
   "source": [
    "first_articles = []\n",
    "for article in soup.find_all('a', rel='bookmark'):\n",
    "        link = article['href']\n",
    "        first_articles.append(link)"
   ]
  },
  {
   "cell_type": "code",
   "execution_count": 22,
   "metadata": {},
   "outputs": [],
   "source": [
    "mj_first_articles = list(set(first_articles))"
   ]
  },
  {
   "cell_type": "code",
   "execution_count": 19,
   "metadata": {},
   "outputs": [],
   "source": [
    "driver = webdriver.Chrome(chromedriver)\n",
    "driver.get(current_url)\n",
    "time.sleep(1)\n",
    "pages = [2, 3, 4, 5, 6, 7, 8, 9, 10, 11, 12, 13, 14, 15, 16, 17, 18, 19, 20, 21, 22, 23, 24]\n",
    "more_articles = []\n",
    "for x in pages:\n",
    "    driver.get(url_generator(x))\n",
    "    time.sleep(3)\n",
    "    soup = BeautifulSoup(driver.page_source, 'lxml')\n",
    "    for article in soup.find_all('a', rel='bookmark'):\n",
    "        link = article['href']\n",
    "        more_articles.append(link)"
   ]
  },
  {
   "cell_type": "code",
   "execution_count": 20,
   "metadata": {},
   "outputs": [
    {
     "data": {
      "text/plain": [
       "873"
      ]
     },
     "execution_count": 20,
     "metadata": {},
     "output_type": "execute_result"
    }
   ],
   "source": [
    "len(more_articles)"
   ]
  },
  {
   "cell_type": "code",
   "execution_count": 23,
   "metadata": {},
   "outputs": [],
   "source": [
    "mj_more_articles = list(set(more_articles))"
   ]
  },
  {
   "cell_type": "code",
   "execution_count": 24,
   "metadata": {},
   "outputs": [],
   "source": [
    "with open('mj_first_articles.pkl', 'wb') as picklefile:\n",
    "        pickle.dump(mj_first_articles, picklefile)\n",
    "with open('mj_more_articles.pkl', 'wb') as picklefile:\n",
    "        pickle.dump(mj_more_articles, picklefile)"
   ]
  },
  {
   "cell_type": "code",
   "execution_count": 25,
   "metadata": {},
   "outputs": [
    {
     "data": {
      "text/plain": [
       "['https://www.motherjones.com/politics/2018/06/mueller-schiff-perjury/',\n",
       " 'https://www.motherjones.com/politics/2018/06/jeff-sessions-who-marijuana-review/',\n",
       " 'https://www.motherjones.com/politics/2018/06/trump-comey-firing-where-is-my-thank-you/',\n",
       " 'https://www.motherjones.com/politics/2018/06/canada-set-legalize-recreational-marijuana-cannabis-united-states/',\n",
       " 'https://www.motherjones.com/politics/2018/06/heres-what-massachusetts-moderate-gop-governor-has-in-common-with-trump/',\n",
       " 'https://www.motherjones.com/politics/2018/06/republicans-want-to-use-the-census-to-radically-change-political-representation/',\n",
       " 'https://www.motherjones.com/politics/2018/06/trump-loyalty-republican-primaries/',\n",
       " 'https://www.motherjones.com/politics/2018/06/this-evangelical-pastor-helped-build-the-religious-right-he-now-believes-he-made-a-terrible-mistake-rob-schenck/',\n",
       " 'https://www.motherjones.com/politics/2018/06/trump-manafort-mistakes-david-corn-russia-podcast/',\n",
       " 'https://www.motherjones.com/politics/2018/06/federal-judge-strikes-blow-against-trump-administration-separation-of-families-border-1/',\n",
       " 'https://www.motherjones.com/politics/2018/06/north-carolina-republicans-want-a-constitutional-amendment-to-require-id-to-vote/',\n",
       " 'https://www.motherjones.com/politics/2018/06/did-the-supreme-court-fall-for-a-stunt/',\n",
       " 'https://www.motherjones.com/politics/2018/06/cfpb-advisory-boards-fired/',\n",
       " 'https://www.motherjones.com/politics/2018/06/rudy-giuliani-stormy-daniels-porn-feminist/',\n",
       " 'https://www.motherjones.com/politics/2018/06/jeanine-pirro-wants-to-be-attorney-general-first-she-has-to-get-jeff-sessions-fired/',\n",
       " 'https://www.motherjones.com/politics/2018/06/melania-trump-rudy-giuliani-stormy-daniels-donald-trump/',\n",
       " 'https://www.motherjones.com/politics/2018/06/more-democrats-running-than-republicans-texas/',\n",
       " 'https://www.motherjones.com/politics/2018/06/sean-patrick-maloney-new-york-attorney-general-democrats-congress/',\n",
       " 'https://www.motherjones.com/politics/2018/06/40-democratic-senators-call-on-trump-to-end-family-separations-at-the-border/']"
      ]
     },
     "execution_count": 25,
     "metadata": {},
     "output_type": "execute_result"
    }
   ],
   "source": [
    "mj_first_articles"
   ]
  },
  {
   "cell_type": "code",
   "execution_count": null,
   "metadata": {},
   "outputs": [],
   "source": []
  }
 ],
 "metadata": {
  "kernelspec": {
   "display_name": "Python 3",
   "language": "python",
   "name": "python3"
  },
  "language_info": {
   "codemirror_mode": {
    "name": "ipython",
    "version": 3
   },
   "file_extension": ".py",
   "mimetype": "text/x-python",
   "name": "python",
   "nbconvert_exporter": "python",
   "pygments_lexer": "ipython3",
   "version": "3.6.5"
  }
 },
 "nbformat": 4,
 "nbformat_minor": 2
}
