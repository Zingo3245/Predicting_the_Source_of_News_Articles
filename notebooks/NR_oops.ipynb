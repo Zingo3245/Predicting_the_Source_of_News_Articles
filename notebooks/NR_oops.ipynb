{
 "cells": [
  {
   "cell_type": "code",
   "execution_count": 48,
   "metadata": {},
   "outputs": [],
   "source": [
    "import requests\n",
    "from bs4 import BeautifulSoup\n",
    "import re\n",
    "#The basics\n",
    "import numpy as np\n",
    "import pandas as pd\n",
    "import pickle\n",
    "\n",
    "#Get them web sites\n",
    "import requests\n",
    "\n",
    "#Make sure slenium works\n",
    "from selenium import webdriver\n",
    "from selenium.webdriver.common.keys import Keys\n",
    "import time\n",
    "import os\n",
    "\n",
    "#Start the google driver\n",
    "chromedriver = \"/Applications/chromedriver\"\n",
    "os.environ[\"webdriver.chrome.driver\"] = chromedriver\n",
    "#For inserting articles into Mongodb\n",
    "from pymongo import MongoClient"
   ]
  },
  {
   "cell_type": "code",
   "execution_count": 49,
   "metadata": {},
   "outputs": [],
   "source": [
    "NR_links = pickle.load(open(\"pickle_files/NR_links.pkl\", \"rb\" ))\n",
    "more_NR_links = pickle.load(open(\"pickle_files/more_NR_links.pkl\", \"rb\" ))"
   ]
  },
  {
   "cell_type": "code",
   "execution_count": 50,
   "metadata": {},
   "outputs": [],
   "source": [
    "\n",
    "\n",
    "def get_article(url):\n",
    "#Sends request for url\n",
    "    html = requests.get(url).text\n",
    "    return html\n",
    "\n",
    "def parse_article(html):\n",
    "#BeautifulSoups the article\n",
    "    soup = BeautifulSoup(html, 'lxml')\n",
    "    title = soup.find('h1', class_='article-header__title').text\n",
    "    body = soup.find('div', class_='article-content').text\n",
    "\n",
    "    article = {\n",
    "        'title': title,\n",
    "        'body': body,\n",
    "        'source': 'National Review',\n",
    "        'num_source': 10\n",
    "    }\n",
    "\n",
    "    return article\n",
    "\n",
    "def get_parsed_article_from_link(url):\n",
    "#Runs the previous two functions on the url\n",
    "    return parse_article(get_article(url))"
   ]
  },
  {
   "cell_type": "code",
   "execution_count": 51,
   "metadata": {},
   "outputs": [
    {
     "name": "stdout",
     "output_type": "stream",
     "text": [
      "Problem processing url https://www.nationalreview.com/photos/fuego-volcano-guatemala-eruptions/\n"
     ]
    }
   ],
   "source": [
    "#phase 1: uses request to try to BeautifulSoup links\n",
    "NR_list_o_articles = []\n",
    "NR_problem_articles = []\n",
    "for text in NR_links:\n",
    "    #print(text)\n",
    "    try:\n",
    "        art = get_parsed_article_from_link(text.encode())\n",
    "        NR_list_o_articles.append(art)\n",
    "\n",
    "    except:\n",
    "        print(\"Problem processing url \" + text)\n",
    "        problem = text\n",
    "        NR_problem_articles.append(problem)\n",
    "    time.sleep(2)"
   ]
  },
  {
   "cell_type": "code",
   "execution_count": 61,
   "metadata": {},
   "outputs": [],
   "source": [
    "#phase 2: uses selenium to go through links\n",
    "driver = webdriver.Chrome(chromedriver)\n",
    "for x in NR_problem_articles:\n",
    "    try:\n",
    "        driver.get(x)\n",
    "        time.sleep(3)\n",
    "        soupy = BeautifulSoup(driver.page_source, 'lxml')\n",
    "        title = soupy.find('h1', class_='article-header__title').text\n",
    "        body = soupy.find('div', class_='article-content').text\n",
    "\n",
    "        articley = {\n",
    "        'title': title,\n",
    "        'body': body,\n",
    "        'source': 'National Review',\n",
    "        'num_source': 10\n",
    "        }\n",
    "        NR_list_o_articles.append(articley)\n",
    "    except:\n",
    "        pass"
   ]
  },
  {
   "cell_type": "code",
   "execution_count": 53,
   "metadata": {},
   "outputs": [],
   "source": [
    "#Same as above but for expanded list, phase 1\n",
    "NR_more_list_o_articles = []\n",
    "NR_more_problem_articles = []\n",
    "for text in more_NR_links:\n",
    "    #print(text)\n",
    "    try:\n",
    "        art = get_parsed_article_from_link(text.encode())\n",
    "        NR_more_list_o_articles.append(art)\n",
    "\n",
    "    except:\n",
    "        print(\"Problem processing url \" + text)\n",
    "        problem = text\n",
    "        NR_more_problem_articles.append(problem)\n",
    "    time.sleep(2)"
   ]
  },
  {
   "cell_type": "code",
   "execution_count": 54,
   "metadata": {},
   "outputs": [],
   "source": [
    "#same as above for expanded list, phase 2\n",
    "driver = webdriver.Chrome(chromedriver)\n",
    "for x in NR_more_problem_articles:\n",
    "    try:\n",
    "        driver.get(x)\n",
    "        time.sleep(3)\n",
    "        soupy = BeautifulSoup(driver.page_source, 'lxml')\n",
    "        title = soupy.find('h1', class_='article-header__title').text\n",
    "        body = soupy.find('div', class_='article-content').text\n",
    "\n",
    "        articley = {\n",
    "        'title': title,\n",
    "        'body': body,\n",
    "        'source': 'National Review',\n",
    "        'num_source': 10\n",
    "        }\n",
    "        NR_more_list_o_articles.append(articley)\n",
    "    except:\n",
    "        pass"
   ]
  },
  {
   "cell_type": "code",
   "execution_count": 62,
   "metadata": {},
   "outputs": [],
   "source": [
    "all_articles = NR_list_o_articles + NR_more_list_o_articles"
   ]
  },
  {
   "cell_type": "code",
   "execution_count": 63,
   "metadata": {},
   "outputs": [
    {
     "data": {
      "text/plain": [
       "9"
      ]
     },
     "execution_count": 63,
     "metadata": {},
     "output_type": "execute_result"
    }
   ],
   "source": [
    "len(all_articles)"
   ]
  },
  {
   "cell_type": "code",
   "execution_count": 57,
   "metadata": {},
   "outputs": [],
   "source": [
    "#starts client in Mongodb\n",
    "client = MongoClient()\n",
    "test = client.derp.test"
   ]
  },
  {
   "cell_type": "code",
   "execution_count": 58,
   "metadata": {},
   "outputs": [
    {
     "data": {
      "text/plain": [
       "<pymongo.results.InsertManyResult at 0x10fe07108>"
      ]
     },
     "execution_count": 58,
     "metadata": {},
     "output_type": "execute_result"
    }
   ],
   "source": [
    "#creates event and loads articles into Mongodb\n",
    "db = client.events\n",
    "test = db.test\n",
    "test.insert_many(all_articles)\n"
   ]
  },
  {
   "cell_type": "code",
   "execution_count": 59,
   "metadata": {},
   "outputs": [
    {
     "data": {
      "text/plain": [
       "67"
      ]
     },
     "execution_count": 59,
     "metadata": {},
     "output_type": "execute_result"
    }
   ],
   "source": [
    "test.count()"
   ]
  },
  {
   "cell_type": "code",
   "execution_count": null,
   "metadata": {},
   "outputs": [],
   "source": []
  }
 ],
 "metadata": {
  "kernelspec": {
   "display_name": "Python 3",
   "language": "python",
   "name": "python3"
  },
  "language_info": {
   "codemirror_mode": {
    "name": "ipython",
    "version": 3
   },
   "file_extension": ".py",
   "mimetype": "text/x-python",
   "name": "python",
   "nbconvert_exporter": "python",
   "pygments_lexer": "ipython3",
   "version": "3.6.5"
  }
 },
 "nbformat": 4,
 "nbformat_minor": 2
}
